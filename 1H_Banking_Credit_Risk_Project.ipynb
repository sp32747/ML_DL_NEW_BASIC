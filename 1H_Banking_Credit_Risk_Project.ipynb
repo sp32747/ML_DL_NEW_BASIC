{
  "cells": [
    {
      "cell_type": "markdown",
      "metadata": {
        "id": "SCqppCaloBsE"
      },
      "source": [
        "# 1)Problem Statement"
      ]
    },
    {
      "cell_type": "markdown",
      "metadata": {
        "id": "NyY0p_Y4yMNh"
      },
      "source": [
        "A **credit score** is a numerical representation of an individual's creditworthiness, typically ranging from 300 to 850. It helps lenders assess the risk of lending money to individuals. Higher credit scores indicate better creditworthiness, meaning the individual is more likely to repay loans on time, while lower scores indicate higher risk.\n",
        "\n",
        "### Key Factors That Determine a Credit Score:\n",
        "1. **Payment History (35%)**:\n",
        "   - This is the most significant factor. It includes whether you’ve paid past credit accounts on time. Late payments, defaults, bankruptcies, and foreclosures negatively impact your score.\n",
        "\n",
        "2. **Credit Utilization (30%)**:\n",
        "   - This is the ratio of current credit card balances to the total credit limit. It’s recommended to keep credit utilization below 30%. For example, if your total credit limit is $10,000 and your balance is $3,000, your utilization rate is 30%.\n",
        "\n",
        "3. **Length of Credit History (15%)**:\n",
        "   - The longer your credit history, the better. This includes the age of your oldest account, the average age of all accounts, and how long it’s been since you used certain accounts.\n",
        "\n",
        "4. **Credit Mix (10%)**:\n",
        "   - Having a variety of credit types (e.g., credit cards, mortgages, auto loans) can help your score. It shows you can manage different types of debt.\n",
        "\n",
        "5. **New Credit (10%)**:\n",
        "   - Opening several new credit accounts in a short period can negatively impact your score. Each time you apply for credit, a hard inquiry is made, which can lower your score temporarily.\n",
        "\n",
        "\n",
        "\n"
      ]
    },
    {
      "cell_type": "markdown",
      "metadata": {
        "id": "KytV0Jrxof-V"
      },
      "source": [
        "**Credit risk model building** is the process of developing statistical or machine learning models to assess the likelihood that a borrower or customer will default on their financial obligations. These models are essential in banking, lending, and financial services as they help institutions quantify the level of risk associated with granting loans or credit to customers. A critical model within this domain is the **Probability of Default (PD) model**, which estimates the likelihood that a borrower will default on a loan within a specific timeframe, often one year.\n"
      ]
    },
    {
      "cell_type": "markdown",
      "metadata": {
        "id": "0Ug8WSFYoFdH"
      },
      "source": [
        "#2)Data Exploration, Validation, Cleaning"
      ]
    },
    {
      "cell_type": "code",
      "execution_count": 1,
      "metadata": {
        "id": "d6ckZt9dqZQi"
      },
      "outputs": [],
      "source": [
        "import matplotlib.pyplot as plt\n",
        "import pandas as pd\n",
        "import seaborn as sns"
      ]
    },
    {
      "cell_type": "markdown",
      "metadata": {
        "id": "qQD1LWFDGwLR"
      },
      "source": [
        "## Import Give me some Credit\\cs-training.csv"
      ]
    },
    {
      "cell_type": "code",
      "execution_count": 2,
      "metadata": {
        "id": "MUrAq-D0GtzX"
      },
      "outputs": [],
      "source": [
        "loans=pd.read_csv(\"data/cs-training.csv\")"
      ]
    },
    {
      "cell_type": "code",
      "execution_count": 3,
      "metadata": {
        "id": "JoB6jGmLtvSt"
      },
      "outputs": [
        {
          "name": "stdout",
          "output_type": "stream",
          "text": [
            "<class 'pandas.core.frame.DataFrame'>\n",
            "RangeIndex: 150000 entries, 0 to 149999\n",
            "Data columns (total 12 columns):\n",
            " #   Column                                Non-Null Count   Dtype  \n",
            "---  ------                                --------------   -----  \n",
            " 0   Sr_No                                 150000 non-null  int64  \n",
            " 1   SeriousDlqin2yrs                      150000 non-null  int64  \n",
            " 2   monthly_utilization                   150000 non-null  float64\n",
            " 3   age                                   150000 non-null  int64  \n",
            " 4   NumberOfTime30-59DaysPastDueNotWorse  150000 non-null  int64  \n",
            " 5   DebtRatio                             150000 non-null  float64\n",
            " 6   MonthlyIncome                         120269 non-null  float64\n",
            " 7   NumberOfOpenCreditLinesAndLoans       150000 non-null  int64  \n",
            " 8   NumberOfTimes90DaysLate               150000 non-null  int64  \n",
            " 9   NumberRealEstateLoansOrLines          150000 non-null  int64  \n",
            " 10  NumberOfTime60-89DaysPastDueNotWorse  150000 non-null  int64  \n",
            " 11  NumberOfDependents                    146076 non-null  float64\n",
            "dtypes: float64(4), int64(8)\n",
            "memory usage: 13.7 MB\n"
          ]
        }
      ],
      "source": [
        "loans.info()"
      ]
    },
    {
      "cell_type": "code",
      "execution_count": 4,
      "metadata": {
        "id": "cxPOj-WGG_FW"
      },
      "outputs": [
        {
          "data": {
            "text/plain": [
              "(150000, 12)"
            ]
          },
          "execution_count": 4,
          "metadata": {},
          "output_type": "execute_result"
        }
      ],
      "source": [
        "#What are number of rows and columns\n",
        "loans.shape"
      ]
    },
    {
      "cell_type": "code",
      "execution_count": 5,
      "metadata": {
        "id": "juhGnYpCHYaW"
      },
      "outputs": [
        {
          "data": {
            "text/plain": [
              "array(['Sr_No', 'SeriousDlqin2yrs', 'monthly_utilization', 'age',\n",
              "       'NumberOfTime30-59DaysPastDueNotWorse', 'DebtRatio',\n",
              "       'MonthlyIncome', 'NumberOfOpenCreditLinesAndLoans',\n",
              "       'NumberOfTimes90DaysLate', 'NumberRealEstateLoansOrLines',\n",
              "       'NumberOfTime60-89DaysPastDueNotWorse', 'NumberOfDependents'],\n",
              "      dtype=object)"
            ]
          },
          "execution_count": 5,
          "metadata": {},
          "output_type": "execute_result"
        }
      ],
      "source": [
        "#Are there any suspicious variables?\n",
        "loans.columns.values"
      ]
    },
    {
      "cell_type": "code",
      "execution_count": 6,
      "metadata": {
        "id": "Aoq0EXaDHZht"
      },
      "outputs": [
        {
          "data": {
            "text/plain": [
              "Sr_No                                     int64\n",
              "SeriousDlqin2yrs                          int64\n",
              "monthly_utilization                     float64\n",
              "age                                       int64\n",
              "NumberOfTime30-59DaysPastDueNotWorse      int64\n",
              "DebtRatio                               float64\n",
              "MonthlyIncome                           float64\n",
              "NumberOfOpenCreditLinesAndLoans           int64\n",
              "NumberOfTimes90DaysLate                   int64\n",
              "NumberRealEstateLoansOrLines              int64\n",
              "NumberOfTime60-89DaysPastDueNotWorse      int64\n",
              "NumberOfDependents                      float64\n",
              "dtype: object"
            ]
          },
          "execution_count": 6,
          "metadata": {},
          "output_type": "execute_result"
        }
      ],
      "source": [
        "#Display the variable formats\n",
        "loans.dtypes"
      ]
    },
    {
      "cell_type": "code",
      "execution_count": 7,
      "metadata": {
        "id": "kocke9VpHaqS"
      },
      "outputs": [
        {
          "data": {
            "text/html": [
              "<div>\n",
              "<style scoped>\n",
              "    .dataframe tbody tr th:only-of-type {\n",
              "        vertical-align: middle;\n",
              "    }\n",
              "\n",
              "    .dataframe tbody tr th {\n",
              "        vertical-align: top;\n",
              "    }\n",
              "\n",
              "    .dataframe thead th {\n",
              "        text-align: right;\n",
              "    }\n",
              "</style>\n",
              "<table border=\"1\" class=\"dataframe\">\n",
              "  <thead>\n",
              "    <tr style=\"text-align: right;\">\n",
              "      <th></th>\n",
              "      <th>Sr_No</th>\n",
              "      <th>SeriousDlqin2yrs</th>\n",
              "      <th>monthly_utilization</th>\n",
              "      <th>age</th>\n",
              "      <th>NumberOfTime30-59DaysPastDueNotWorse</th>\n",
              "      <th>DebtRatio</th>\n",
              "      <th>MonthlyIncome</th>\n",
              "      <th>NumberOfOpenCreditLinesAndLoans</th>\n",
              "      <th>NumberOfTimes90DaysLate</th>\n",
              "      <th>NumberRealEstateLoansOrLines</th>\n",
              "      <th>NumberOfTime60-89DaysPastDueNotWorse</th>\n",
              "      <th>NumberOfDependents</th>\n",
              "    </tr>\n",
              "  </thead>\n",
              "  <tbody>\n",
              "    <tr>\n",
              "      <th>0</th>\n",
              "      <td>1</td>\n",
              "      <td>1</td>\n",
              "      <td>0.766127</td>\n",
              "      <td>45</td>\n",
              "      <td>2</td>\n",
              "      <td>0.802982</td>\n",
              "      <td>9120.0</td>\n",
              "      <td>13</td>\n",
              "      <td>0</td>\n",
              "      <td>6</td>\n",
              "      <td>0</td>\n",
              "      <td>2.0</td>\n",
              "    </tr>\n",
              "    <tr>\n",
              "      <th>1</th>\n",
              "      <td>2</td>\n",
              "      <td>0</td>\n",
              "      <td>0.957151</td>\n",
              "      <td>40</td>\n",
              "      <td>0</td>\n",
              "      <td>0.121876</td>\n",
              "      <td>2600.0</td>\n",
              "      <td>4</td>\n",
              "      <td>0</td>\n",
              "      <td>0</td>\n",
              "      <td>0</td>\n",
              "      <td>1.0</td>\n",
              "    </tr>\n",
              "    <tr>\n",
              "      <th>2</th>\n",
              "      <td>3</td>\n",
              "      <td>0</td>\n",
              "      <td>0.658180</td>\n",
              "      <td>38</td>\n",
              "      <td>1</td>\n",
              "      <td>0.085113</td>\n",
              "      <td>3042.0</td>\n",
              "      <td>2</td>\n",
              "      <td>1</td>\n",
              "      <td>0</td>\n",
              "      <td>0</td>\n",
              "      <td>0.0</td>\n",
              "    </tr>\n",
              "    <tr>\n",
              "      <th>3</th>\n",
              "      <td>4</td>\n",
              "      <td>0</td>\n",
              "      <td>0.233810</td>\n",
              "      <td>30</td>\n",
              "      <td>0</td>\n",
              "      <td>0.036050</td>\n",
              "      <td>3300.0</td>\n",
              "      <td>5</td>\n",
              "      <td>0</td>\n",
              "      <td>0</td>\n",
              "      <td>0</td>\n",
              "      <td>0.0</td>\n",
              "    </tr>\n",
              "    <tr>\n",
              "      <th>4</th>\n",
              "      <td>5</td>\n",
              "      <td>0</td>\n",
              "      <td>0.907239</td>\n",
              "      <td>49</td>\n",
              "      <td>1</td>\n",
              "      <td>0.024926</td>\n",
              "      <td>63588.0</td>\n",
              "      <td>7</td>\n",
              "      <td>0</td>\n",
              "      <td>1</td>\n",
              "      <td>0</td>\n",
              "      <td>0.0</td>\n",
              "    </tr>\n",
              "    <tr>\n",
              "      <th>5</th>\n",
              "      <td>6</td>\n",
              "      <td>0</td>\n",
              "      <td>0.213179</td>\n",
              "      <td>74</td>\n",
              "      <td>0</td>\n",
              "      <td>0.375607</td>\n",
              "      <td>3500.0</td>\n",
              "      <td>3</td>\n",
              "      <td>0</td>\n",
              "      <td>1</td>\n",
              "      <td>0</td>\n",
              "      <td>1.0</td>\n",
              "    </tr>\n",
              "    <tr>\n",
              "      <th>6</th>\n",
              "      <td>7</td>\n",
              "      <td>0</td>\n",
              "      <td>0.305682</td>\n",
              "      <td>57</td>\n",
              "      <td>0</td>\n",
              "      <td>5710.000000</td>\n",
              "      <td>NaN</td>\n",
              "      <td>8</td>\n",
              "      <td>0</td>\n",
              "      <td>3</td>\n",
              "      <td>0</td>\n",
              "      <td>0.0</td>\n",
              "    </tr>\n",
              "    <tr>\n",
              "      <th>7</th>\n",
              "      <td>8</td>\n",
              "      <td>0</td>\n",
              "      <td>0.754464</td>\n",
              "      <td>39</td>\n",
              "      <td>0</td>\n",
              "      <td>0.209940</td>\n",
              "      <td>3500.0</td>\n",
              "      <td>8</td>\n",
              "      <td>0</td>\n",
              "      <td>0</td>\n",
              "      <td>0</td>\n",
              "      <td>0.0</td>\n",
              "    </tr>\n",
              "    <tr>\n",
              "      <th>8</th>\n",
              "      <td>9</td>\n",
              "      <td>0</td>\n",
              "      <td>0.116951</td>\n",
              "      <td>27</td>\n",
              "      <td>0</td>\n",
              "      <td>46.000000</td>\n",
              "      <td>NaN</td>\n",
              "      <td>2</td>\n",
              "      <td>0</td>\n",
              "      <td>0</td>\n",
              "      <td>0</td>\n",
              "      <td>NaN</td>\n",
              "    </tr>\n",
              "    <tr>\n",
              "      <th>9</th>\n",
              "      <td>10</td>\n",
              "      <td>0</td>\n",
              "      <td>0.189169</td>\n",
              "      <td>57</td>\n",
              "      <td>0</td>\n",
              "      <td>0.606291</td>\n",
              "      <td>23684.0</td>\n",
              "      <td>9</td>\n",
              "      <td>0</td>\n",
              "      <td>4</td>\n",
              "      <td>0</td>\n",
              "      <td>2.0</td>\n",
              "    </tr>\n",
              "  </tbody>\n",
              "</table>\n",
              "</div>"
            ],
            "text/plain": [
              "   Sr_No  SeriousDlqin2yrs  monthly_utilization  age  \\\n",
              "0      1                 1             0.766127   45   \n",
              "1      2                 0             0.957151   40   \n",
              "2      3                 0             0.658180   38   \n",
              "3      4                 0             0.233810   30   \n",
              "4      5                 0             0.907239   49   \n",
              "5      6                 0             0.213179   74   \n",
              "6      7                 0             0.305682   57   \n",
              "7      8                 0             0.754464   39   \n",
              "8      9                 0             0.116951   27   \n",
              "9     10                 0             0.189169   57   \n",
              "\n",
              "   NumberOfTime30-59DaysPastDueNotWorse    DebtRatio  MonthlyIncome  \\\n",
              "0                                     2     0.802982         9120.0   \n",
              "1                                     0     0.121876         2600.0   \n",
              "2                                     1     0.085113         3042.0   \n",
              "3                                     0     0.036050         3300.0   \n",
              "4                                     1     0.024926        63588.0   \n",
              "5                                     0     0.375607         3500.0   \n",
              "6                                     0  5710.000000            NaN   \n",
              "7                                     0     0.209940         3500.0   \n",
              "8                                     0    46.000000            NaN   \n",
              "9                                     0     0.606291        23684.0   \n",
              "\n",
              "   NumberOfOpenCreditLinesAndLoans  NumberOfTimes90DaysLate  \\\n",
              "0                               13                        0   \n",
              "1                                4                        0   \n",
              "2                                2                        1   \n",
              "3                                5                        0   \n",
              "4                                7                        0   \n",
              "5                                3                        0   \n",
              "6                                8                        0   \n",
              "7                                8                        0   \n",
              "8                                2                        0   \n",
              "9                                9                        0   \n",
              "\n",
              "   NumberRealEstateLoansOrLines  NumberOfTime60-89DaysPastDueNotWorse  \\\n",
              "0                             6                                     0   \n",
              "1                             0                                     0   \n",
              "2                             0                                     0   \n",
              "3                             0                                     0   \n",
              "4                             1                                     0   \n",
              "5                             1                                     0   \n",
              "6                             3                                     0   \n",
              "7                             0                                     0   \n",
              "8                             0                                     0   \n",
              "9                             4                                     0   \n",
              "\n",
              "   NumberOfDependents  \n",
              "0                 2.0  \n",
              "1                 1.0  \n",
              "2                 0.0  \n",
              "3                 0.0  \n",
              "4                 0.0  \n",
              "5                 1.0  \n",
              "6                 0.0  \n",
              "7                 0.0  \n",
              "8                 NaN  \n",
              "9                 2.0  "
            ]
          },
          "execution_count": 7,
          "metadata": {},
          "output_type": "execute_result"
        }
      ],
      "source": [
        "#Print the first 10 observations\n",
        "loans.head(10)"
      ]
    },
    {
      "cell_type": "code",
      "execution_count": 17,
      "metadata": {
        "id": "t4DgO4q5Hd8S"
      },
      "outputs": [
        {
          "data": {
            "text/plain": [
              "array(['Sr_No', 'SeriousDlqin2yrs', 'monthly_utilization', 'age',\n",
              "       'NumberOfTime30-59DaysPastDueNotWorse', 'DebtRatio',\n",
              "       'MonthlyIncome', 'NumberOfOpenCreditLinesAndLoans',\n",
              "       'NumberOfTimes90DaysLate', 'NumberRealEstateLoansOrLines',\n",
              "       'NumberOfTime60-89DaysPastDueNotWorse', 'NumberOfDependents'],\n",
              "      dtype=object)"
            ]
          },
          "execution_count": 17,
          "metadata": {},
          "output_type": "execute_result"
        }
      ],
      "source": [
        "#Do we have any unique identifier?\n",
        "loans.columns.values"
      ]
    },
    {
      "cell_type": "markdown",
      "metadata": {
        "id": "ATtndMPSHg9r"
      },
      "source": [
        "## Categorical variables exploration"
      ]
    },
    {
      "cell_type": "code",
      "execution_count": 8,
      "metadata": {
        "id": "S7SiwZFRHfNC"
      },
      "outputs": [
        {
          "data": {
            "text/html": [
              "<div>\n",
              "<style scoped>\n",
              "    .dataframe tbody tr th:only-of-type {\n",
              "        vertical-align: middle;\n",
              "    }\n",
              "\n",
              "    .dataframe tbody tr th {\n",
              "        vertical-align: top;\n",
              "    }\n",
              "\n",
              "    .dataframe thead th {\n",
              "        text-align: right;\n",
              "    }\n",
              "</style>\n",
              "<table border=\"1\" class=\"dataframe\">\n",
              "  <thead>\n",
              "    <tr style=\"text-align: right;\">\n",
              "      <th></th>\n",
              "      <th>Sr_No</th>\n",
              "      <th>SeriousDlqin2yrs</th>\n",
              "      <th>monthly_utilization</th>\n",
              "      <th>age</th>\n",
              "      <th>NumberOfTime30-59DaysPastDueNotWorse</th>\n",
              "      <th>DebtRatio</th>\n",
              "      <th>MonthlyIncome</th>\n",
              "      <th>NumberOfOpenCreditLinesAndLoans</th>\n",
              "      <th>NumberOfTimes90DaysLate</th>\n",
              "      <th>NumberRealEstateLoansOrLines</th>\n",
              "      <th>NumberOfTime60-89DaysPastDueNotWorse</th>\n",
              "      <th>NumberOfDependents</th>\n",
              "    </tr>\n",
              "  </thead>\n",
              "  <tbody>\n",
              "    <tr>\n",
              "      <th>0</th>\n",
              "      <td>1</td>\n",
              "      <td>1</td>\n",
              "      <td>0.766127</td>\n",
              "      <td>45</td>\n",
              "      <td>2</td>\n",
              "      <td>0.802982</td>\n",
              "      <td>9120.0</td>\n",
              "      <td>13</td>\n",
              "      <td>0</td>\n",
              "      <td>6</td>\n",
              "      <td>0</td>\n",
              "      <td>2.0</td>\n",
              "    </tr>\n",
              "    <tr>\n",
              "      <th>1</th>\n",
              "      <td>2</td>\n",
              "      <td>0</td>\n",
              "      <td>0.957151</td>\n",
              "      <td>40</td>\n",
              "      <td>0</td>\n",
              "      <td>0.121876</td>\n",
              "      <td>2600.0</td>\n",
              "      <td>4</td>\n",
              "      <td>0</td>\n",
              "      <td>0</td>\n",
              "      <td>0</td>\n",
              "      <td>1.0</td>\n",
              "    </tr>\n",
              "    <tr>\n",
              "      <th>2</th>\n",
              "      <td>3</td>\n",
              "      <td>0</td>\n",
              "      <td>0.658180</td>\n",
              "      <td>38</td>\n",
              "      <td>1</td>\n",
              "      <td>0.085113</td>\n",
              "      <td>3042.0</td>\n",
              "      <td>2</td>\n",
              "      <td>1</td>\n",
              "      <td>0</td>\n",
              "      <td>0</td>\n",
              "      <td>0.0</td>\n",
              "    </tr>\n",
              "    <tr>\n",
              "      <th>3</th>\n",
              "      <td>4</td>\n",
              "      <td>0</td>\n",
              "      <td>0.233810</td>\n",
              "      <td>30</td>\n",
              "      <td>0</td>\n",
              "      <td>0.036050</td>\n",
              "      <td>3300.0</td>\n",
              "      <td>5</td>\n",
              "      <td>0</td>\n",
              "      <td>0</td>\n",
              "      <td>0</td>\n",
              "      <td>0.0</td>\n",
              "    </tr>\n",
              "    <tr>\n",
              "      <th>4</th>\n",
              "      <td>5</td>\n",
              "      <td>0</td>\n",
              "      <td>0.907239</td>\n",
              "      <td>49</td>\n",
              "      <td>1</td>\n",
              "      <td>0.024926</td>\n",
              "      <td>63588.0</td>\n",
              "      <td>7</td>\n",
              "      <td>0</td>\n",
              "      <td>1</td>\n",
              "      <td>0</td>\n",
              "      <td>0.0</td>\n",
              "    </tr>\n",
              "  </tbody>\n",
              "</table>\n",
              "</div>"
            ],
            "text/plain": [
              "   Sr_No  SeriousDlqin2yrs  monthly_utilization  age  \\\n",
              "0      1                 1             0.766127   45   \n",
              "1      2                 0             0.957151   40   \n",
              "2      3                 0             0.658180   38   \n",
              "3      4                 0             0.233810   30   \n",
              "4      5                 0             0.907239   49   \n",
              "\n",
              "   NumberOfTime30-59DaysPastDueNotWorse  DebtRatio  MonthlyIncome  \\\n",
              "0                                     2   0.802982         9120.0   \n",
              "1                                     0   0.121876         2600.0   \n",
              "2                                     1   0.085113         3042.0   \n",
              "3                                     0   0.036050         3300.0   \n",
              "4                                     1   0.024926        63588.0   \n",
              "\n",
              "   NumberOfOpenCreditLinesAndLoans  NumberOfTimes90DaysLate  \\\n",
              "0                               13                        0   \n",
              "1                                4                        0   \n",
              "2                                2                        1   \n",
              "3                                5                        0   \n",
              "4                                7                        0   \n",
              "\n",
              "   NumberRealEstateLoansOrLines  NumberOfTime60-89DaysPastDueNotWorse  \\\n",
              "0                             6                                     0   \n",
              "1                             0                                     0   \n",
              "2                             0                                     0   \n",
              "3                             0                                     0   \n",
              "4                             1                                     0   \n",
              "\n",
              "   NumberOfDependents  \n",
              "0                 2.0  \n",
              "1                 1.0  \n",
              "2                 0.0  \n",
              "3                 0.0  \n",
              "4                 0.0  "
            ]
          },
          "execution_count": 8,
          "metadata": {},
          "output_type": "execute_result"
        }
      ],
      "source": [
        "#What are the categorical and discrete variables? What are the continues variables.\n",
        "loans.dtypes\n",
        "loans.head()\n"
      ]
    },
    {
      "cell_type": "code",
      "execution_count": 18,
      "metadata": {
        "id": "ASIxF0pWHlAX"
      },
      "outputs": [
        {
          "name": "stdout",
          "output_type": "stream",
          "text": [
            "0    139974\n",
            "1     10026\n",
            "Name: SeriousDlqin2yrs, dtype: int64\n"
          ]
        }
      ],
      "source": [
        "#for discrette variables count the frequency and see for outliers null values , \n",
        "# out liers can be calculated talking to  the business partner\n",
        "\n",
        "print(loans['SeriousDlqin2yrs'].value_counts())"
      ]
    },
    {
      "cell_type": "code",
      "execution_count": 10,
      "metadata": {
        "id": "JRAEoJwoHm7y"
      },
      "outputs": [
        {
          "name": "stdout",
          "output_type": "stream",
          "text": [
            "49     3837\n",
            "48     3806\n",
            "50     3753\n",
            "47     3719\n",
            "63     3719\n",
            "       ... \n",
            "102       3\n",
            "109       2\n",
            "107       1\n",
            "105       1\n",
            "0         1\n",
            "Name: age, Length: 86, dtype: int64\n"
          ]
        }
      ],
      "source": [
        "print(loans['age'].value_counts())"
      ]
    },
    {
      "cell_type": "code",
      "execution_count": 11,
      "metadata": {
        "id": "7GQ5Dz4THnAB"
      },
      "outputs": [
        {
          "name": "stdout",
          "output_type": "stream",
          "text": [
            "0     126018\n",
            "1      16033\n",
            "2       4598\n",
            "3       1754\n",
            "4        747\n",
            "5        342\n",
            "98       264\n",
            "6        140\n",
            "7         54\n",
            "8         25\n",
            "9         12\n",
            "96         5\n",
            "10         4\n",
            "12         2\n",
            "13         1\n",
            "11         1\n",
            "Name: NumberOfTime30-59DaysPastDueNotWorse, dtype: int64\n"
          ]
        }
      ],
      "source": [
        "print(loans['NumberOfTime30-59DaysPastDueNotWorse'].value_counts())"
      ]
    },
    {
      "cell_type": "code",
      "execution_count": 12,
      "metadata": {
        "id": "B48hDm6FHnGr"
      },
      "outputs": [
        {
          "name": "stdout",
          "output_type": "stream",
          "text": [
            "6     13614\n",
            "7     13245\n",
            "5     12931\n",
            "8     12562\n",
            "4     11609\n",
            "9     11355\n",
            "10     9624\n",
            "3      9058\n",
            "11     8321\n",
            "12     7005\n",
            "2      6666\n",
            "13     5667\n",
            "14     4546\n",
            "1      4438\n",
            "15     3645\n",
            "16     3000\n",
            "17     2370\n",
            "0      1888\n",
            "18     1874\n",
            "19     1433\n",
            "20     1169\n",
            "21      864\n",
            "22      685\n",
            "23      533\n",
            "24      422\n",
            "25      337\n",
            "26      239\n",
            "27      194\n",
            "28      150\n",
            "29      114\n",
            "30       88\n",
            "31       74\n",
            "32       52\n",
            "33       47\n",
            "34       35\n",
            "35       27\n",
            "36       18\n",
            "38       13\n",
            "40       10\n",
            "39        9\n",
            "42        8\n",
            "45        8\n",
            "43        8\n",
            "37        7\n",
            "48        6\n",
            "49        4\n",
            "54        4\n",
            "41        4\n",
            "52        3\n",
            "46        3\n",
            "57        2\n",
            "51        2\n",
            "56        2\n",
            "47        2\n",
            "50        2\n",
            "44        2\n",
            "58        1\n",
            "53        1\n",
            "Name: NumberOfOpenCreditLinesAndLoans, dtype: int64\n"
          ]
        }
      ],
      "source": [
        "print(loans['NumberOfOpenCreditLinesAndLoans'].value_counts())"
      ]
    },
    {
      "cell_type": "code",
      "execution_count": 13,
      "metadata": {
        "id": "92spjYIMHqZi"
      },
      "outputs": [
        {
          "name": "stdout",
          "output_type": "stream",
          "text": [
            "0     141662\n",
            "1       5243\n",
            "2       1555\n",
            "3        667\n",
            "4        291\n",
            "98       264\n",
            "5        131\n",
            "6         80\n",
            "7         38\n",
            "8         21\n",
            "9         19\n",
            "10         8\n",
            "96         5\n",
            "11         5\n",
            "13         4\n",
            "15         2\n",
            "14         2\n",
            "12         2\n",
            "17         1\n",
            "Name: NumberOfTimes90DaysLate, dtype: int64\n"
          ]
        }
      ],
      "source": [
        "print(loans['NumberOfTimes90DaysLate'].value_counts())"
      ]
    },
    {
      "cell_type": "code",
      "execution_count": 14,
      "metadata": {
        "id": "4LP5V2szHqgt"
      },
      "outputs": [
        {
          "name": "stdout",
          "output_type": "stream",
          "text": [
            "0     56188\n",
            "1     52338\n",
            "2     31522\n",
            "3      6300\n",
            "4      2170\n",
            "5       689\n",
            "6       320\n",
            "7       171\n",
            "8        93\n",
            "9        78\n",
            "10       37\n",
            "11       23\n",
            "12       18\n",
            "13       15\n",
            "15        7\n",
            "14        7\n",
            "17        4\n",
            "16        4\n",
            "25        3\n",
            "18        2\n",
            "23        2\n",
            "19        2\n",
            "20        2\n",
            "26        1\n",
            "54        1\n",
            "21        1\n",
            "29        1\n",
            "32        1\n",
            "Name: NumberRealEstateLoansOrLines, dtype: int64\n"
          ]
        }
      ],
      "source": [
        "print(loans['NumberRealEstateLoansOrLines'].value_counts())"
      ]
    },
    {
      "cell_type": "code",
      "execution_count": 15,
      "metadata": {
        "id": "yChuq-YtHqlD"
      },
      "outputs": [
        {
          "name": "stdout",
          "output_type": "stream",
          "text": [
            "0     142396\n",
            "1       5731\n",
            "2       1118\n",
            "3        318\n",
            "98       264\n",
            "4        105\n",
            "5         34\n",
            "6         16\n",
            "7          9\n",
            "96         5\n",
            "8          2\n",
            "11         1\n",
            "9          1\n",
            "Name: NumberOfTime60-89DaysPastDueNotWorse, dtype: int64\n"
          ]
        }
      ],
      "source": [
        "print(loans['NumberOfTime60-89DaysPastDueNotWorse'].value_counts())"
      ]
    },
    {
      "cell_type": "code",
      "execution_count": 16,
      "metadata": {
        "id": "0U4zdFxVHqqg"
      },
      "outputs": [
        {
          "name": "stdout",
          "output_type": "stream",
          "text": [
            "0.0     86902\n",
            "1.0     26316\n",
            "2.0     19522\n",
            "3.0      9483\n",
            "4.0      2862\n",
            "5.0       746\n",
            "6.0       158\n",
            "7.0        51\n",
            "8.0        24\n",
            "10.0        5\n",
            "9.0         5\n",
            "20.0        1\n",
            "13.0        1\n",
            "Name: NumberOfDependents, dtype: int64\n"
          ]
        }
      ],
      "source": [
        "print(loans['NumberOfDependents'].value_counts())"
      ]
    },
    {
      "cell_type": "code",
      "execution_count": 20,
      "metadata": {},
      "outputs": [
        {
          "name": "stdout",
          "output_type": "stream",
          "text": [
            "<class 'pandas.core.frame.DataFrame'>\n",
            "RangeIndex: 150000 entries, 0 to 149999\n",
            "Data columns (total 12 columns):\n",
            " #   Column                                Non-Null Count   Dtype  \n",
            "---  ------                                --------------   -----  \n",
            " 0   Sr_No                                 150000 non-null  int64  \n",
            " 1   SeriousDlqin2yrs                      150000 non-null  int64  \n",
            " 2   monthly_utilization                   150000 non-null  float64\n",
            " 3   age                                   150000 non-null  int64  \n",
            " 4   NumberOfTime30-59DaysPastDueNotWorse  150000 non-null  int64  \n",
            " 5   DebtRatio                             150000 non-null  float64\n",
            " 6   MonthlyIncome                         120269 non-null  float64\n",
            " 7   NumberOfOpenCreditLinesAndLoans       150000 non-null  int64  \n",
            " 8   NumberOfTimes90DaysLate               150000 non-null  int64  \n",
            " 9   NumberRealEstateLoansOrLines          150000 non-null  int64  \n",
            " 10  NumberOfTime60-89DaysPastDueNotWorse  150000 non-null  int64  \n",
            " 11  NumberOfDependents                    146076 non-null  float64\n",
            "dtypes: float64(4), int64(8)\n",
            "memory usage: 13.7 MB\n"
          ]
        }
      ],
      "source": [
        "loans.info()"
      ]
    },
    {
      "cell_type": "code",
      "execution_count": 21,
      "metadata": {
        "id": "26fUFKC_Hx3f"
      },
      "outputs": [
        {
          "data": {
            "text/plain": [
              "Sr_No                                       0\n",
              "SeriousDlqin2yrs                            0\n",
              "monthly_utilization                         0\n",
              "age                                         0\n",
              "NumberOfTime30-59DaysPastDueNotWorse        0\n",
              "DebtRatio                                   0\n",
              "MonthlyIncome                           29731\n",
              "NumberOfOpenCreditLinesAndLoans             0\n",
              "NumberOfTimes90DaysLate                     0\n",
              "NumberRealEstateLoansOrLines                0\n",
              "NumberOfTime60-89DaysPastDueNotWorse        0\n",
              "NumberOfDependents                       3924\n",
              "dtype: int64"
            ]
          },
          "execution_count": 21,
          "metadata": {},
          "output_type": "execute_result"
        }
      ],
      "source": [
        "#Are there any   variables with missing values? MonthlyIncome  NumberOfDependents                               \n",
        "loans.isnull().sum()"
      ]
    },
    {
      "cell_type": "markdown",
      "metadata": {
        "id": "kySyhDctI99D"
      },
      "source": [
        "## Continuous variables exploration"
      ]
    },
    {
      "cell_type": "code",
      "execution_count": 22,
      "metadata": {},
      "outputs": [
        {
          "data": {
            "text/html": [
              "<div>\n",
              "<style scoped>\n",
              "    .dataframe tbody tr th:only-of-type {\n",
              "        vertical-align: middle;\n",
              "    }\n",
              "\n",
              "    .dataframe tbody tr th {\n",
              "        vertical-align: top;\n",
              "    }\n",
              "\n",
              "    .dataframe thead th {\n",
              "        text-align: right;\n",
              "    }\n",
              "</style>\n",
              "<table border=\"1\" class=\"dataframe\">\n",
              "  <thead>\n",
              "    <tr style=\"text-align: right;\">\n",
              "      <th></th>\n",
              "      <th>Sr_No</th>\n",
              "      <th>SeriousDlqin2yrs</th>\n",
              "      <th>monthly_utilization</th>\n",
              "      <th>age</th>\n",
              "      <th>NumberOfTime30-59DaysPastDueNotWorse</th>\n",
              "      <th>DebtRatio</th>\n",
              "      <th>MonthlyIncome</th>\n",
              "      <th>NumberOfOpenCreditLinesAndLoans</th>\n",
              "      <th>NumberOfTimes90DaysLate</th>\n",
              "      <th>NumberRealEstateLoansOrLines</th>\n",
              "      <th>NumberOfTime60-89DaysPastDueNotWorse</th>\n",
              "      <th>NumberOfDependents</th>\n",
              "    </tr>\n",
              "  </thead>\n",
              "  <tbody>\n",
              "    <tr>\n",
              "      <th>0</th>\n",
              "      <td>1</td>\n",
              "      <td>1</td>\n",
              "      <td>0.766127</td>\n",
              "      <td>45</td>\n",
              "      <td>2</td>\n",
              "      <td>0.802982</td>\n",
              "      <td>9120.0</td>\n",
              "      <td>13</td>\n",
              "      <td>0</td>\n",
              "      <td>6</td>\n",
              "      <td>0</td>\n",
              "      <td>2.0</td>\n",
              "    </tr>\n",
              "    <tr>\n",
              "      <th>1</th>\n",
              "      <td>2</td>\n",
              "      <td>0</td>\n",
              "      <td>0.957151</td>\n",
              "      <td>40</td>\n",
              "      <td>0</td>\n",
              "      <td>0.121876</td>\n",
              "      <td>2600.0</td>\n",
              "      <td>4</td>\n",
              "      <td>0</td>\n",
              "      <td>0</td>\n",
              "      <td>0</td>\n",
              "      <td>1.0</td>\n",
              "    </tr>\n",
              "    <tr>\n",
              "      <th>2</th>\n",
              "      <td>3</td>\n",
              "      <td>0</td>\n",
              "      <td>0.658180</td>\n",
              "      <td>38</td>\n",
              "      <td>1</td>\n",
              "      <td>0.085113</td>\n",
              "      <td>3042.0</td>\n",
              "      <td>2</td>\n",
              "      <td>1</td>\n",
              "      <td>0</td>\n",
              "      <td>0</td>\n",
              "      <td>0.0</td>\n",
              "    </tr>\n",
              "    <tr>\n",
              "      <th>3</th>\n",
              "      <td>4</td>\n",
              "      <td>0</td>\n",
              "      <td>0.233810</td>\n",
              "      <td>30</td>\n",
              "      <td>0</td>\n",
              "      <td>0.036050</td>\n",
              "      <td>3300.0</td>\n",
              "      <td>5</td>\n",
              "      <td>0</td>\n",
              "      <td>0</td>\n",
              "      <td>0</td>\n",
              "      <td>0.0</td>\n",
              "    </tr>\n",
              "    <tr>\n",
              "      <th>4</th>\n",
              "      <td>5</td>\n",
              "      <td>0</td>\n",
              "      <td>0.907239</td>\n",
              "      <td>49</td>\n",
              "      <td>1</td>\n",
              "      <td>0.024926</td>\n",
              "      <td>63588.0</td>\n",
              "      <td>7</td>\n",
              "      <td>0</td>\n",
              "      <td>1</td>\n",
              "      <td>0</td>\n",
              "      <td>0.0</td>\n",
              "    </tr>\n",
              "  </tbody>\n",
              "</table>\n",
              "</div>"
            ],
            "text/plain": [
              "   Sr_No  SeriousDlqin2yrs  monthly_utilization  age  \\\n",
              "0      1                 1             0.766127   45   \n",
              "1      2                 0             0.957151   40   \n",
              "2      3                 0             0.658180   38   \n",
              "3      4                 0             0.233810   30   \n",
              "4      5                 0             0.907239   49   \n",
              "\n",
              "   NumberOfTime30-59DaysPastDueNotWorse  DebtRatio  MonthlyIncome  \\\n",
              "0                                     2   0.802982         9120.0   \n",
              "1                                     0   0.121876         2600.0   \n",
              "2                                     1   0.085113         3042.0   \n",
              "3                                     0   0.036050         3300.0   \n",
              "4                                     1   0.024926        63588.0   \n",
              "\n",
              "   NumberOfOpenCreditLinesAndLoans  NumberOfTimes90DaysLate  \\\n",
              "0                               13                        0   \n",
              "1                                4                        0   \n",
              "2                                2                        1   \n",
              "3                                5                        0   \n",
              "4                                7                        0   \n",
              "\n",
              "   NumberRealEstateLoansOrLines  NumberOfTime60-89DaysPastDueNotWorse  \\\n",
              "0                             6                                     0   \n",
              "1                             0                                     0   \n",
              "2                             0                                     0   \n",
              "3                             0                                     0   \n",
              "4                             1                                     0   \n",
              "\n",
              "   NumberOfDependents  \n",
              "0                 2.0  \n",
              "1                 1.0  \n",
              "2                 0.0  \n",
              "3                 0.0  \n",
              "4                 0.0  "
            ]
          },
          "execution_count": 22,
          "metadata": {},
          "output_type": "execute_result"
        }
      ],
      "source": [
        "loans.head(5)"
      ]
    },
    {
      "cell_type": "markdown",
      "metadata": {
        "id": "eJ-UyFTdJLml"
      },
      "source": [
        "### RevolvingUtilizationOfUnsecuredLines"
      ]
    },
    {
      "cell_type": "code",
      "execution_count": 23,
      "metadata": {
        "id": "fecfoOK4xpPc"
      },
      "outputs": [
        {
          "data": {
            "text/plain": [
              "{'whiskers': [<matplotlib.lines.Line2D at 0x24560df9410>,\n",
              "  <matplotlib.lines.Line2D at 0x24560df9fd0>],\n",
              " 'caps': [<matplotlib.lines.Line2D at 0x24560dfaa50>,\n",
              "  <matplotlib.lines.Line2D at 0x24560dfb590>],\n",
              " 'boxes': [<matplotlib.lines.Line2D at 0x24560df8710>],\n",
              " 'medians': [<matplotlib.lines.Line2D at 0x24560dfbe50>],\n",
              " 'fliers': [<matplotlib.lines.Line2D at 0x24560e00790>],\n",
              " 'means': []}"
            ]
          },
          "execution_count": 23,
          "metadata": {},
          "output_type": "execute_result"
        },
        {
          "data": {
            "image/png": "[encoded data removed]",
            "text/plain": [
              "<Figure size 640x480 with 1 Axes>"
            ]
          },
          "metadata": {},
          "output_type": "display_data"
        }
      ],
      "source": [
        "plt.boxplot(loans[\"monthly_utilization\"])"
      ]
    },
    {
      "cell_type": "code",
      "execution_count": 24,
      "metadata": {
        "id": "Al7hSnjAJJ1K"
      },
      "outputs": [
        {
          "data": {
            "text/plain": [
              "0.000        0.00\n",
              "0.100        0.00\n",
              "0.200        0.02\n",
              "0.300        0.04\n",
              "0.400        0.08\n",
              "0.500        0.15\n",
              "0.750        0.56\n",
              "0.800        0.70\n",
              "0.900        0.98\n",
              "0.910        1.00\n",
              "0.950        1.00\n",
              "0.960        1.00\n",
              "0.970        1.00\n",
              "0.975        1.00\n",
              "0.980        1.01\n",
              "0.990        1.09\n",
              "1.000    50708.00\n",
              "Name: monthly_utilization, dtype: float64"
            ]
          },
          "execution_count": 24,
          "metadata": {},
          "output_type": "execute_result"
        }
      ],
      "source": [
        "util_percentiles=loans['monthly_utilization'].quantile([0, 0.1, 0.2,0.3,0.4, 0.5, 0.75, 0.80, 0.9,0.91,0.95,0.96,0.97,0.975,0.98,0.99,1])\n",
        "round(util_percentiles,2)"
      ]
    },
    {
      "cell_type": "markdown",
      "metadata": {
        "id": "q1U2Cez3JOze"
      },
      "source": [
        "### MonthlyIncome"
      ]
    },
    {
      "cell_type": "code",
      "execution_count": 25,
      "metadata": {
        "id": "Abjkb5OrH3ss"
      },
      "outputs": [
        {
          "data": {
            "text/plain": [
              "{'whiskers': [<matplotlib.lines.Line2D at 0x245609925d0>,\n",
              "  <matplotlib.lines.Line2D at 0x245609a8310>],\n",
              " 'caps': [<matplotlib.lines.Line2D at 0x245609a8e90>,\n",
              "  <matplotlib.lines.Line2D at 0x245609a9950>],\n",
              " 'boxes': [<matplotlib.lines.Line2D at 0x24560996c90>],\n",
              " 'medians': [<matplotlib.lines.Line2D at 0x245609aa410>],\n",
              " 'fliers': [<matplotlib.lines.Line2D at 0x245609aae90>],\n",
              " 'means': []}"
            ]
          },
          "execution_count": 25,
          "metadata": {},
          "output_type": "execute_result"
        },
        {
          "data": {
            "image/png": "[encoded data removed]",
            "text/plain": [
              "<Figure size 640x480 with 1 Axes>"
            ]
          },
          "metadata": {},
          "output_type": "display_data"
        }
      ],
      "source": [
        "#loans.boxplot(column=\"MonthlyIncome\")\n",
        "non_null_monthly_income=loans[\"MonthlyIncome\"][loans[\"MonthlyIncome\"].isnull()==False]\n",
        "plt.boxplot(non_null_monthly_income)"
      ]
    },
    {
      "cell_type": "code",
      "execution_count": 28,
      "metadata": {},
      "outputs": [
        {
          "data": {
            "text/plain": [
              "(150000, 12)"
            ]
          },
          "execution_count": 28,
          "metadata": {},
          "output_type": "execute_result"
        }
      ],
      "source": [
        "loans.shape"
      ]
    },
    {
      "cell_type": "code",
      "execution_count": 29,
      "metadata": {
        "id": "0eR1mifsH7it"
      },
      "outputs": [
        {
          "name": "stdout",
          "output_type": "stream",
          "text": [
            "Count of missing values\n",
            "29731\n",
            "% of missing values\n",
            "20.0\n"
          ]
        }
      ],
      "source": [
        "#Find the percentage of missing values\n",
        "print(\"Count of missing values\")\n",
        "print(loans['MonthlyIncome'].isnull().sum())\n",
        "print(\"% of missing values\")\n",
        "print(round(loans['MonthlyIncome'].isnull().sum()/len(loans),2)*100)"
      ]
    },
    {
      "cell_type": "markdown",
      "metadata": {
        "id": "SI34aZHyIIZ2"
      },
      "source": [
        "## Data Cleaning"
      ]
    },
    {
      "cell_type": "markdown",
      "metadata": {
        "id": "9Mi5BpVz0fhD"
      },
      "source": [
        "### Data Cleaning - Monthly_utilization"
      ]
    },
    {
      "cell_type": "code",
      "execution_count": 30,
      "metadata": {
        "id": "7Qp4yfMqIC0T"
      },
      "outputs": [
        {
          "data": {
            "text/plain": [
              "0.050        0.00\n",
              "0.100        0.00\n",
              "0.250        0.03\n",
              "0.500        0.15\n",
              "0.750        0.56\n",
              "0.800        0.70\n",
              "0.900        0.98\n",
              "0.910        1.00\n",
              "0.950        1.00\n",
              "0.960        1.00\n",
              "0.970        1.00\n",
              "0.975        1.00\n",
              "0.980        1.01\n",
              "0.990        1.09\n",
              "1.000    50708.00\n",
              "Name: monthly_utilization, dtype: float64"
            ]
          },
          "execution_count": 30,
          "metadata": {},
          "output_type": "execute_result"
        }
      ],
      "source": [
        "util_percentiles=loans['monthly_utilization'].quantile([0.05, 0.1, 0.25, 0.5, 0.75, 0.80, 0.9,0.91,0.95,0.96,0.97,0.975,0.98,0.99,1])\n",
        "round(util_percentiles,2)"
      ]
    },
    {
      "cell_type": "code",
      "execution_count": 31,
      "metadata": {
        "id": "Ho2AAs75IHQv"
      },
      "outputs": [
        {
          "data": {
            "text/plain": [
              "0.154180737"
            ]
          },
          "execution_count": 31,
          "metadata": {},
          "output_type": "execute_result"
        }
      ],
      "source": [
        "median_util=loans['monthly_utilization'].median()\n",
        "median_util"
      ]
    },
    {
      "cell_type": "code",
      "execution_count": 32,
      "metadata": {
        "id": "y4brogxmIL1d"
      },
      "outputs": [
        {
          "name": "stderr",
          "output_type": "stream",
          "text": [
            "C:\\Users\\WIN-10\\AppData\\Local\\Temp\\ipykernel_8516\\953468620.py:4: SettingWithCopyWarning: \n",
            "A value is trying to be set on a copy of a slice from a DataFrame\n",
            "\n",
            "See the caveats in the documentation: https://pandas.pydata.org/pandas-docs/stable/user_guide/indexing.html#returning-a-view-versus-a-copy\n",
            "  loans['util_new'][util_temp_bool_vect]=median_util\n"
          ]
        }
      ],
      "source": [
        "util_temp_bool_vect=loans['monthly_utilization']>1\n",
        "\n",
        "loans['util_new']=loans['monthly_utilization']\n",
        "loans['util_new'][util_temp_bool_vect]=median_util"
      ]
    },
    {
      "cell_type": "code",
      "execution_count": 33,
      "metadata": {
        "id": "ipafFm7jINkR"
      },
      "outputs": [
        {
          "data": {
            "text/plain": [
              "0.050    0.00\n",
              "0.100    0.00\n",
              "0.250    0.03\n",
              "0.500    0.15\n",
              "0.750    0.51\n",
              "0.800    0.63\n",
              "0.900    0.93\n",
              "0.910    0.95\n",
              "0.950    1.00\n",
              "0.960    1.00\n",
              "0.970    1.00\n",
              "0.975    1.00\n",
              "0.980    1.00\n",
              "0.990    1.00\n",
              "1.000    1.00\n",
              "Name: util_new, dtype: float64"
            ]
          },
          "execution_count": 33,
          "metadata": {},
          "output_type": "execute_result"
        }
      ],
      "source": [
        "# percentile distribution for new variable\n",
        "util_percentiles1=loans['util_new'].quantile([0.05, 0.1, 0.25, 0.5, 0.75, 0.80, 0.9,0.91,0.95,0.96,0.97,0.975,0.98,0.99,1])\n",
        "round(util_percentiles1,2)\n"
      ]
    },
    {
      "cell_type": "markdown",
      "metadata": {
        "id": "g85fzJKkIW4K"
      },
      "source": [
        "### Data Cleaning - NumberOfTime30-59DaysPastDueNotWorse"
      ]
    },
    {
      "cell_type": "code",
      "execution_count": 35,
      "metadata": {
        "id": "ZrV7vDSrITYd"
      },
      "outputs": [
        {
          "data": {
            "text/plain": [
              "0     126018\n",
              "1      16033\n",
              "2       4598\n",
              "3       1754\n",
              "4        747\n",
              "5        342\n",
              "98       264\n",
              "6        140\n",
              "7         54\n",
              "8         25\n",
              "9         12\n",
              "96         5\n",
              "10         4\n",
              "12         2\n",
              "13         1\n",
              "11         1\n",
              "Name: NumberOfTime30-59DaysPastDueNotWorse, dtype: int64"
            ]
          },
          "execution_count": 35,
          "metadata": {},
          "output_type": "execute_result"
        }
      ],
      "source": [
        "freq_table_30dpd=loans['NumberOfTime30-59DaysPastDueNotWorse'].value_counts()\n",
        "freq_table_30dpd"
      ]
    },
    {
      "cell_type": "code",
      "execution_count": 37,
      "metadata": {},
      "outputs": [
        {
          "name": "stdout",
          "output_type": "stream",
          "text": [
            "Smoker  No  Yes\n",
            "Gender         \n",
            "Female   2    0\n",
            "Male     1    2\n"
          ]
        }
      ],
      "source": [
        "#A contingency table helps us understand the relationship between two or more categorical variables within a dataset.\n",
        "\n",
        "\n",
        "# sample DataFrame\n",
        "data = {'Gender': ['Male', 'Female', 'Male', 'Female', 'Male'],\n",
        "        'Smoker': ['Yes', 'No', 'Yes', 'No', 'No']}\n",
        "\n",
        "df = pd.DataFrame(data)\n",
        "\n",
        "# create a cross-tabulation of Gender and Smoker\n",
        "cross_tab = pd.crosstab(df['Gender'], df['Smoker'])\n",
        "\n",
        "print(cross_tab)"
      ]
    },
    {
      "cell_type": "code",
      "execution_count": 41,
      "metadata": {},
      "outputs": [
        {
          "data": {
            "text/html": [
              "<div>\n",
              "<style scoped>\n",
              "    .dataframe tbody tr th:only-of-type {\n",
              "        vertical-align: middle;\n",
              "    }\n",
              "\n",
              "    .dataframe tbody tr th {\n",
              "        vertical-align: top;\n",
              "    }\n",
              "\n",
              "    .dataframe thead th {\n",
              "        text-align: right;\n",
              "    }\n",
              "</style>\n",
              "<table border=\"1\" class=\"dataframe\">\n",
              "  <thead>\n",
              "    <tr style=\"text-align: right;\">\n",
              "      <th>Smoker</th>\n",
              "      <th>No</th>\n",
              "      <th>Yes</th>\n",
              "    </tr>\n",
              "    <tr>\n",
              "      <th>Gender</th>\n",
              "      <th></th>\n",
              "      <th></th>\n",
              "    </tr>\n",
              "  </thead>\n",
              "  <tbody>\n",
              "    <tr>\n",
              "      <th>Female</th>\n",
              "      <td>0.666667</td>\n",
              "      <td>0.0</td>\n",
              "    </tr>\n",
              "    <tr>\n",
              "      <th>Male</th>\n",
              "      <td>0.333333</td>\n",
              "      <td>1.0</td>\n",
              "    </tr>\n",
              "  </tbody>\n",
              "</table>\n",
              "</div>"
            ],
            "text/plain": [
              "Smoker        No  Yes\n",
              "Gender               \n",
              "Female  0.666667  0.0\n",
              "Male    0.333333  1.0"
            ]
          },
          "execution_count": 41,
          "metadata": {},
          "output_type": "execute_result"
        }
      ],
      "source": [
        "cross_tab.apply(lambda x: x/x.sum(), axis=0)"
      ]
    },
    {
      "cell_type": "code",
      "execution_count": 43,
      "metadata": {},
      "outputs": [
        {
          "data": {
            "text/html": [
              "<div>\n",
              "<style scoped>\n",
              "    .dataframe tbody tr th:only-of-type {\n",
              "        vertical-align: middle;\n",
              "    }\n",
              "\n",
              "    .dataframe tbody tr th {\n",
              "        vertical-align: top;\n",
              "    }\n",
              "\n",
              "    .dataframe thead th {\n",
              "        text-align: right;\n",
              "    }\n",
              "</style>\n",
              "<table border=\"1\" class=\"dataframe\">\n",
              "  <thead>\n",
              "    <tr style=\"text-align: right;\">\n",
              "      <th>Smoker</th>\n",
              "      <th>No</th>\n",
              "      <th>Yes</th>\n",
              "    </tr>\n",
              "    <tr>\n",
              "      <th>Gender</th>\n",
              "      <th></th>\n",
              "      <th></th>\n",
              "    </tr>\n",
              "  </thead>\n",
              "  <tbody>\n",
              "    <tr>\n",
              "      <th>Female</th>\n",
              "      <td>1.000000</td>\n",
              "      <td>0.000000</td>\n",
              "    </tr>\n",
              "    <tr>\n",
              "      <th>Male</th>\n",
              "      <td>0.333333</td>\n",
              "      <td>0.666667</td>\n",
              "    </tr>\n",
              "  </tbody>\n",
              "</table>\n",
              "</div>"
            ],
            "text/plain": [
              "Smoker        No       Yes\n",
              "Gender                    \n",
              "Female  1.000000  0.000000\n",
              "Male    0.333333  0.666667"
            ]
          },
          "execution_count": 43,
          "metadata": {},
          "output_type": "execute_result"
        }
      ],
      "source": [
        "cross_tab.apply(lambda x: x/x.sum(), axis=1)"
      ]
    },
    {
      "cell_type": "code",
      "execution_count": 36,
      "metadata": {
        "id": "LD--xgxKIaAY"
      },
      "outputs": [
        {
          "data": {
            "text/html": [
              "<div>\n",
              "<style scoped>\n",
              "    .dataframe tbody tr th:only-of-type {\n",
              "        vertical-align: middle;\n",
              "    }\n",
              "\n",
              "    .dataframe tbody tr th {\n",
              "        vertical-align: top;\n",
              "    }\n",
              "\n",
              "    .dataframe thead th {\n",
              "        text-align: right;\n",
              "    }\n",
              "</style>\n",
              "<table border=\"1\" class=\"dataframe\">\n",
              "  <thead>\n",
              "    <tr style=\"text-align: right;\">\n",
              "      <th>SeriousDlqin2yrs</th>\n",
              "      <th>0</th>\n",
              "      <th>1</th>\n",
              "    </tr>\n",
              "    <tr>\n",
              "      <th>NumberOfTime30-59DaysPastDueNotWorse</th>\n",
              "      <th></th>\n",
              "      <th></th>\n",
              "    </tr>\n",
              "  </thead>\n",
              "  <tbody>\n",
              "    <tr>\n",
              "      <th>0</th>\n",
              "      <td>120977</td>\n",
              "      <td>5041</td>\n",
              "    </tr>\n",
              "    <tr>\n",
              "      <th>1</th>\n",
              "      <td>13624</td>\n",
              "      <td>2409</td>\n",
              "    </tr>\n",
              "    <tr>\n",
              "      <th>2</th>\n",
              "      <td>3379</td>\n",
              "      <td>1219</td>\n",
              "    </tr>\n",
              "    <tr>\n",
              "      <th>3</th>\n",
              "      <td>1136</td>\n",
              "      <td>618</td>\n",
              "    </tr>\n",
              "    <tr>\n",
              "      <th>4</th>\n",
              "      <td>429</td>\n",
              "      <td>318</td>\n",
              "    </tr>\n",
              "    <tr>\n",
              "      <th>5</th>\n",
              "      <td>188</td>\n",
              "      <td>154</td>\n",
              "    </tr>\n",
              "    <tr>\n",
              "      <th>6</th>\n",
              "      <td>66</td>\n",
              "      <td>74</td>\n",
              "    </tr>\n",
              "    <tr>\n",
              "      <th>7</th>\n",
              "      <td>26</td>\n",
              "      <td>28</td>\n",
              "    </tr>\n",
              "    <tr>\n",
              "      <th>8</th>\n",
              "      <td>17</td>\n",
              "      <td>8</td>\n",
              "    </tr>\n",
              "    <tr>\n",
              "      <th>9</th>\n",
              "      <td>8</td>\n",
              "      <td>4</td>\n",
              "    </tr>\n",
              "    <tr>\n",
              "      <th>10</th>\n",
              "      <td>1</td>\n",
              "      <td>3</td>\n",
              "    </tr>\n",
              "    <tr>\n",
              "      <th>11</th>\n",
              "      <td>0</td>\n",
              "      <td>1</td>\n",
              "    </tr>\n",
              "    <tr>\n",
              "      <th>12</th>\n",
              "      <td>1</td>\n",
              "      <td>1</td>\n",
              "    </tr>\n",
              "    <tr>\n",
              "      <th>13</th>\n",
              "      <td>0</td>\n",
              "      <td>1</td>\n",
              "    </tr>\n",
              "    <tr>\n",
              "      <th>96</th>\n",
              "      <td>1</td>\n",
              "      <td>4</td>\n",
              "    </tr>\n",
              "    <tr>\n",
              "      <th>98</th>\n",
              "      <td>121</td>\n",
              "      <td>143</td>\n",
              "    </tr>\n",
              "  </tbody>\n",
              "</table>\n",
              "</div>"
            ],
            "text/plain": [
              "SeriousDlqin2yrs                           0     1\n",
              "NumberOfTime30-59DaysPastDueNotWorse              \n",
              "0                                     120977  5041\n",
              "1                                      13624  2409\n",
              "2                                       3379  1219\n",
              "3                                       1136   618\n",
              "4                                        429   318\n",
              "5                                        188   154\n",
              "6                                         66    74\n",
              "7                                         26    28\n",
              "8                                         17     8\n",
              "9                                          8     4\n",
              "10                                         1     3\n",
              "11                                         0     1\n",
              "12                                         1     1\n",
              "13                                         0     1\n",
              "96                                         1     4\n",
              "98                                       121   143"
            ]
          },
          "execution_count": 36,
          "metadata": {},
          "output_type": "execute_result"
        }
      ],
      "source": [
        "#Clean the variable- Look at the cross tab of variable vs target. Impute based on target .\n",
        "#Cross tab with target\n",
        "import pandas as pd\n",
        "cross_tab_30dpd_target=pd.crosstab(loans['NumberOfTime30-59DaysPastDueNotWorse'],loans['SeriousDlqin2yrs'])\n",
        "cross_tab_30dpd_target"
      ]
    },
    {
      "cell_type": "code",
      "execution_count": 38,
      "metadata": {
        "id": "kLS2oz3EIdp2"
      },
      "outputs": [
        {
          "data": {
            "text/html": [
              "<div>\n",
              "<style scoped>\n",
              "    .dataframe tbody tr th:only-of-type {\n",
              "        vertical-align: middle;\n",
              "    }\n",
              "\n",
              "    .dataframe tbody tr th {\n",
              "        vertical-align: top;\n",
              "    }\n",
              "\n",
              "    .dataframe thead th {\n",
              "        text-align: right;\n",
              "    }\n",
              "</style>\n",
              "<table border=\"1\" class=\"dataframe\">\n",
              "  <thead>\n",
              "    <tr style=\"text-align: right;\">\n",
              "      <th>SeriousDlqin2yrs</th>\n",
              "      <th>0</th>\n",
              "      <th>1</th>\n",
              "    </tr>\n",
              "    <tr>\n",
              "      <th>NumberOfTime30-59DaysPastDueNotWorse</th>\n",
              "      <th></th>\n",
              "      <th></th>\n",
              "    </tr>\n",
              "  </thead>\n",
              "  <tbody>\n",
              "    <tr>\n",
              "      <th>0</th>\n",
              "      <td>0.96</td>\n",
              "      <td>0.04</td>\n",
              "    </tr>\n",
              "    <tr>\n",
              "      <th>1</th>\n",
              "      <td>0.85</td>\n",
              "      <td>0.15</td>\n",
              "    </tr>\n",
              "    <tr>\n",
              "      <th>2</th>\n",
              "      <td>0.73</td>\n",
              "      <td>0.27</td>\n",
              "    </tr>\n",
              "    <tr>\n",
              "      <th>3</th>\n",
              "      <td>0.65</td>\n",
              "      <td>0.35</td>\n",
              "    </tr>\n",
              "    <tr>\n",
              "      <th>4</th>\n",
              "      <td>0.57</td>\n",
              "      <td>0.43</td>\n",
              "    </tr>\n",
              "    <tr>\n",
              "      <th>5</th>\n",
              "      <td>0.55</td>\n",
              "      <td>0.45</td>\n",
              "    </tr>\n",
              "    <tr>\n",
              "      <th>6</th>\n",
              "      <td>0.47</td>\n",
              "      <td>0.53</td>\n",
              "    </tr>\n",
              "    <tr>\n",
              "      <th>7</th>\n",
              "      <td>0.48</td>\n",
              "      <td>0.52</td>\n",
              "    </tr>\n",
              "    <tr>\n",
              "      <th>8</th>\n",
              "      <td>0.68</td>\n",
              "      <td>0.32</td>\n",
              "    </tr>\n",
              "    <tr>\n",
              "      <th>9</th>\n",
              "      <td>0.67</td>\n",
              "      <td>0.33</td>\n",
              "    </tr>\n",
              "    <tr>\n",
              "      <th>10</th>\n",
              "      <td>0.25</td>\n",
              "      <td>0.75</td>\n",
              "    </tr>\n",
              "    <tr>\n",
              "      <th>11</th>\n",
              "      <td>0.00</td>\n",
              "      <td>1.00</td>\n",
              "    </tr>\n",
              "    <tr>\n",
              "      <th>12</th>\n",
              "      <td>0.50</td>\n",
              "      <td>0.50</td>\n",
              "    </tr>\n",
              "    <tr>\n",
              "      <th>13</th>\n",
              "      <td>0.00</td>\n",
              "      <td>1.00</td>\n",
              "    </tr>\n",
              "    <tr>\n",
              "      <th>96</th>\n",
              "      <td>0.20</td>\n",
              "      <td>0.80</td>\n",
              "    </tr>\n",
              "    <tr>\n",
              "      <th>98</th>\n",
              "      <td>0.46</td>\n",
              "      <td>0.54</td>\n",
              "    </tr>\n",
              "  </tbody>\n",
              "</table>\n",
              "</div>"
            ],
            "text/plain": [
              "SeriousDlqin2yrs                         0     1\n",
              "NumberOfTime30-59DaysPastDueNotWorse            \n",
              "0                                     0.96  0.04\n",
              "1                                     0.85  0.15\n",
              "2                                     0.73  0.27\n",
              "3                                     0.65  0.35\n",
              "4                                     0.57  0.43\n",
              "5                                     0.55  0.45\n",
              "6                                     0.47  0.53\n",
              "7                                     0.48  0.52\n",
              "8                                     0.68  0.32\n",
              "9                                     0.67  0.33\n",
              "10                                    0.25  0.75\n",
              "11                                    0.00  1.00\n",
              "12                                    0.50  0.50\n",
              "13                                    0.00  1.00\n",
              "96                                    0.20  0.80\n",
              "98                                    0.46  0.54"
            ]
          },
          "execution_count": 38,
          "metadata": {},
          "output_type": "execute_result"
        }
      ],
      "source": [
        "#Cross tab row Percentages\n",
        "cross_tab_30dpd_target_percent=cross_tab_30dpd_target.apply(lambda x: x/x.sum(), axis=1)\n",
        "round(cross_tab_30dpd_target_percent,2)"
      ]
    },
    {
      "cell_type": "code",
      "execution_count": 44,
      "metadata": {
        "id": "NpkLjBo_IfOG"
      },
      "outputs": [
        {
          "name": "stderr",
          "output_type": "stream",
          "text": [
            "C:\\Users\\WIN-10\\AppData\\Local\\Temp\\ipykernel_8516\\3992811056.py:5: SettingWithCopyWarning: \n",
            "A value is trying to be set on a copy of a slice from a DataFrame\n",
            "\n",
            "See the caveats in the documentation: https://pandas.pydata.org/pandas-docs/stable/user_guide/indexing.html#returning-a-view-versus-a-copy\n",
            "  loans['num_30_59_dpd_new'][loans['num_30_59_dpd_new']>13]=6\n"
          ]
        },
        {
          "data": {
            "text/plain": [
              "0     126018\n",
              "1      16033\n",
              "2       4598\n",
              "3       1754\n",
              "4        747\n",
              "6        409\n",
              "5        342\n",
              "7         54\n",
              "8         25\n",
              "9         12\n",
              "10         4\n",
              "12         2\n",
              "13         1\n",
              "11         1\n",
              "Name: num_30_59_dpd_new, dtype: int64"
            ]
          },
          "execution_count": 44,
          "metadata": {},
          "output_type": "execute_result"
        }
      ],
      "source": [
        "\n",
        "#Percentage of 0 and 1 are of 98 is near to percentages of 6.\n",
        "#Replacing error values with 6\n",
        "\n",
        "loans['num_30_59_dpd_new']=loans['NumberOfTime30-59DaysPastDueNotWorse']\n",
        "loans['num_30_59_dpd_new'][loans['num_30_59_dpd_new']>13]=6\n",
        "loans['num_30_59_dpd_new']\n",
        "\n",
        "loans['num_30_59_dpd_new'].value_counts()"
      ]
    },
    {
      "cell_type": "markdown",
      "metadata": {
        "id": "5-XFPxbxIlBM"
      },
      "source": [
        "### Data Cleaning Monthly Income"
      ]
    },
    {
      "cell_type": "code",
      "execution_count": 60,
      "metadata": {
        "id": "6ko-XzkeIjR6"
      },
      "outputs": [
        {
          "data": {
            "text/plain": [
              "0.19820666666666667"
            ]
          },
          "execution_count": 60,
          "metadata": {},
          "output_type": "execute_result"
        }
      ],
      "source": [
        "#Find the missing value percentage in monthly income\n",
        "loans['MonthlyIncome'].isnull().sum()\n",
        "loans['MonthlyIncome'].isnull().sum()/len(loans)\n",
        "#Once identified where missing values exist, the next task usually is to fill them (data imputation). Depending upon the context,\n",
        "#in this case, I am assigning median value to all those positions where missing value is present:\n"
      ]
    },
    {
      "cell_type": "code",
      "execution_count": 61,
      "metadata": {
        "id": "nSA-Kb7HIojq"
      },
      "outputs": [
        {
          "name": "stderr",
          "output_type": "stream",
          "text": [
            "C:\\Users\\WIN-10\\AppData\\Local\\Temp\\ipykernel_8516\\3547523868.py:3: SettingWithCopyWarning: \n",
            "A value is trying to be set on a copy of a slice from a DataFrame\n",
            "\n",
            "See the caveats in the documentation: https://pandas.pydata.org/pandas-docs/stable/user_guide/indexing.html#returning-a-view-versus-a-copy\n",
            "  loans['MonthlyIncome_ind'][loans['MonthlyIncome'].isnull()]=0\n"
          ]
        },
        {
          "data": {
            "text/plain": [
              "1    120269\n",
              "0     29731\n",
              "Name: MonthlyIncome_ind, dtype: int64"
            ]
          },
          "execution_count": 61,
          "metadata": {},
          "output_type": "execute_result"
        }
      ],
      "source": [
        "#Flag variable\n",
        "loans['MonthlyIncome_ind']=1\n",
        "loans['MonthlyIncome_ind'][loans['MonthlyIncome'].isnull()]=0\n",
        "loans['MonthlyIncome_ind'].value_counts()\n"
      ]
    },
    {
      "cell_type": "code",
      "execution_count": 48,
      "metadata": {
        "id": "gfwFxqDEIpoG"
      },
      "outputs": [
        {
          "name": "stderr",
          "output_type": "stream",
          "text": [
            "C:\\Users\\WIN-10\\AppData\\Local\\Temp\\ipykernel_8516\\3855414345.py:3: SettingWithCopyWarning: \n",
            "A value is trying to be set on a copy of a slice from a DataFrame\n",
            "\n",
            "See the caveats in the documentation: https://pandas.pydata.org/pandas-docs/stable/user_guide/indexing.html#returning-a-view-versus-a-copy\n",
            "  loans['MonthlyIncome_new'][loans['MonthlyIncome'].isnull()]=loans['MonthlyIncome'].median()\n"
          ]
        },
        {
          "data": {
            "text/plain": [
              "count     150000.0\n",
              "mean        6418.0\n",
              "std        12890.0\n",
              "min            0.0\n",
              "25%         3903.0\n",
              "50%         5400.0\n",
              "75%         7400.0\n",
              "max      3008750.0\n",
              "Name: MonthlyIncome_new, dtype: float64"
            ]
          },
          "execution_count": 48,
          "metadata": {},
          "output_type": "execute_result"
        }
      ],
      "source": [
        "#Imputation with median\n",
        "loans['MonthlyIncome_new']=loans['MonthlyIncome']\n",
        "loans['MonthlyIncome_new'][loans['MonthlyIncome'].isnull()]=loans['MonthlyIncome'].median()\n",
        "round(loans['MonthlyIncome_new'].describe())"
      ]
    },
    {
      "cell_type": "markdown",
      "metadata": {
        "id": "qQgtvGW60o-f"
      },
      "source": [
        "#Data Cleaning - All the other Variables"
      ]
    },
    {
      "cell_type": "code",
      "execution_count": 49,
      "metadata": {
        "id": "LNVVvE_91B94"
      },
      "outputs": [
        {
          "data": {
            "text/plain": [
              "Index(['Sr_No', 'SeriousDlqin2yrs', 'monthly_utilization', 'age',\n",
              "       'NumberOfTime30-59DaysPastDueNotWorse', 'DebtRatio', 'MonthlyIncome',\n",
              "       'NumberOfOpenCreditLinesAndLoans', 'NumberOfTimes90DaysLate',\n",
              "       'NumberRealEstateLoansOrLines', 'NumberOfTime60-89DaysPastDueNotWorse',\n",
              "       'NumberOfDependents', 'util_new', 'num_30_59_dpd_new',\n",
              "       'MonthlyIncome_ind', 'MonthlyIncome_new'],\n",
              "      dtype='object')"
            ]
          },
          "execution_count": 49,
          "metadata": {},
          "output_type": "execute_result"
        }
      ],
      "source": [
        "loans.columns"
      ]
    },
    {
      "cell_type": "markdown",
      "metadata": {
        "id": "VelDwI881vTN"
      },
      "source": [
        "### Age"
      ]
    },
    {
      "cell_type": "code",
      "execution_count": 50,
      "metadata": {
        "id": "0R2PvTOm21az"
      },
      "outputs": [
        {
          "data": {
            "text/plain": [
              "0.00      0.0\n",
              "0.01     24.0\n",
              "0.10     33.0\n",
              "0.20     39.0\n",
              "0.30     44.0\n",
              "0.40     48.0\n",
              "0.50     52.0\n",
              "0.60     56.0\n",
              "0.70     61.0\n",
              "0.80     65.0\n",
              "0.90     72.0\n",
              "0.93     75.0\n",
              "0.94     76.0\n",
              "0.95     78.0\n",
              "0.96     79.0\n",
              "0.97     81.0\n",
              "0.98     84.0\n",
              "0.99     87.0\n",
              "1.00    109.0\n",
              "Name: age, dtype: float64"
            ]
          },
          "execution_count": 50,
          "metadata": {},
          "output_type": "execute_result"
        }
      ],
      "source": [
        "loans[\"age\"].quantile([0, 0.01,0.1,0.2,0.3,0.4,0.5,0.6,0.7,0.8,0.90,0.93,0.94,0.95,0.96,0.97,0.98,0.99,1])"
      ]
    },
    {
      "cell_type": "code",
      "execution_count": 52,
      "metadata": {
        "id": "sN0PQviRoKRK"
      },
      "outputs": [
        {
          "name": "stderr",
          "output_type": "stream",
          "text": [
            "C:\\Users\\WIN-10\\AppData\\Local\\Temp\\ipykernel_8516\\2899766376.py:2: SettingWithCopyWarning: \n",
            "A value is trying to be set on a copy of a slice from a DataFrame\n",
            "\n",
            "See the caveats in the documentation: https://pandas.pydata.org/pandas-docs/stable/user_guide/indexing.html#returning-a-view-versus-a-copy\n",
            "  loans[\"age_new\"][loans[\"age_new\"]>90]=loans[\"age\"].median()\n"
          ]
        }
      ],
      "source": [
        "loans[\"age_new\"]=loans[\"age\"]\n",
        "loans[\"age_new\"][loans[\"age_new\"]>90]=loans[\"age\"].median()"
      ]
    },
    {
      "cell_type": "markdown",
      "metadata": {
        "id": "2-iWNi1mGgmR"
      },
      "source": [
        "### DebtRatio"
      ]
    },
    {
      "cell_type": "code",
      "execution_count": 53,
      "metadata": {
        "id": "9xmr14J-GgmW"
      },
      "outputs": [
        {
          "data": {
            "text/plain": [
              "0.00         0.000000\n",
              "0.01         0.000000\n",
              "0.02         0.000000\n",
              "0.03         0.000480\n",
              "0.04         0.002278\n",
              "0.05         0.004329\n",
              "0.06         0.006799\n",
              "0.07         0.009997\n",
              "0.08         0.014780\n",
              "0.09         0.021249\n",
              "0.10         0.030874\n",
              "0.20         0.133773\n",
              "0.30         0.213697\n",
              "0.40         0.287460\n",
              "0.50         0.366508\n",
              "0.60         0.467506\n",
              "0.70         0.649189\n",
              "0.75         0.868254\n",
              "0.76         0.951184\n",
              "0.77         1.058832\n",
              "0.78         1.275069\n",
              "0.80         4.000000\n",
              "0.81        14.000000\n",
              "0.82        31.000000\n",
              "0.83        61.000000\n",
              "0.86       453.000000\n",
              "0.90      1267.000000\n",
              "0.93      1917.070000\n",
              "0.94      2172.060000\n",
              "0.95      2449.000000\n",
              "0.96      2791.000000\n",
              "0.97      3225.000000\n",
              "0.98      3839.000000\n",
              "0.99      4979.040000\n",
              "1.00    329664.000000\n",
              "Name: DebtRatio, dtype: float64"
            ]
          },
          "execution_count": 53,
          "metadata": {},
          "output_type": "execute_result"
        }
      ],
      "source": [
        "loans[\"DebtRatio\"].quantile([0,0.01,0.02,0.03,0.04,0.05,0.06,0.07,0.08,0.09,0.1,0.2,0.3,0.4,0.5,0.6,0.7,0.75,0.76,0.77, 0.78,0.8,0.81,0.82, 0.83,0.86,0.90,0.93,0.94,0.95,0.96,0.97,0.98,0.99,1])"
      ]
    },
    {
      "cell_type": "code",
      "execution_count": 54,
      "metadata": {
        "id": "KK_w7ekiGgma"
      },
      "outputs": [
        {
          "data": {
            "text/plain": [
              "0"
            ]
          },
          "execution_count": 54,
          "metadata": {},
          "output_type": "execute_result"
        }
      ],
      "source": [
        "loans[\"DebtRatio\"].isnull().sum()"
      ]
    },
    {
      "cell_type": "code",
      "execution_count": 55,
      "metadata": {
        "id": "AKr0tXObGgmb"
      },
      "outputs": [],
      "source": [
        "#24% outliers\n",
        "#No missing values"
      ]
    },
    {
      "cell_type": "code",
      "execution_count": 56,
      "metadata": {
        "id": "tFvhuLYoGgmf"
      },
      "outputs": [
        {
          "name": "stderr",
          "output_type": "stream",
          "text": [
            "C:\\Users\\WIN-10\\AppData\\Local\\Temp\\ipykernel_8516\\1006539189.py:2: SettingWithCopyWarning: \n",
            "A value is trying to be set on a copy of a slice from a DataFrame\n",
            "\n",
            "See the caveats in the documentation: https://pandas.pydata.org/pandas-docs/stable/user_guide/indexing.html#returning-a-view-versus-a-copy\n",
            "  loans[\"DebtRatio_new\"][loans[\"DebtRatio_new\"]>1]=loans[\"DebtRatio\"].median()\n"
          ]
        }
      ],
      "source": [
        "loans[\"DebtRatio_new\"]=loans[\"DebtRatio\"]\n",
        "loans[\"DebtRatio_new\"][loans[\"DebtRatio_new\"]>1]=loans[\"DebtRatio\"].median()"
      ]
    },
    {
      "cell_type": "code",
      "execution_count": 57,
      "metadata": {
        "id": "7-p2Lc1bKjfw"
      },
      "outputs": [
        {
          "data": {
            "text/plain": [
              "count    150000.000000\n",
              "mean          0.317893\n",
              "std           0.199835\n",
              "min           0.000000\n",
              "25%           0.175074\n",
              "50%           0.366506\n",
              "75%           0.380021\n",
              "max           1.000000\n",
              "Name: DebtRatio_new, dtype: float64"
            ]
          },
          "execution_count": 57,
          "metadata": {},
          "output_type": "execute_result"
        }
      ],
      "source": [
        "loans[\"DebtRatio_new\"].describe()"
      ]
    },
    {
      "cell_type": "markdown",
      "metadata": {
        "id": "J8o0VXqF3XfZ"
      },
      "source": [
        "### NumberOfOpenCreditLinesAndLoans"
      ]
    },
    {
      "cell_type": "code",
      "execution_count": 58,
      "metadata": {
        "id": "8JJ3bkbQ0ukx"
      },
      "outputs": [
        {
          "data": {
            "text/plain": [
              "13     5667\n",
              "4     11609\n",
              "2      6666\n",
              "5     12931\n",
              "7     13245\n",
              "3      9058\n",
              "8     12562\n",
              "9     11355\n",
              "6     13614\n",
              "10     9624\n",
              "14     4546\n",
              "22      685\n",
              "17     2370\n",
              "1      4438\n",
              "15     3645\n",
              "31       74\n",
              "12     7005\n",
              "21      864\n",
              "11     8321\n",
              "19     1433\n",
              "18     1874\n",
              "26      239\n",
              "20     1169\n",
              "23      533\n",
              "0      1888\n",
              "16     3000\n",
              "27      194\n",
              "29      114\n",
              "28      150\n",
              "24      422\n",
              "25      337\n",
              "32       52\n",
              "46        3\n",
              "33       47\n",
              "30       88\n",
              "34       35\n",
              "37        7\n",
              "38       13\n",
              "36       18\n",
              "35       27\n",
              "54        4\n",
              "43        8\n",
              "45        8\n",
              "49        4\n",
              "57        2\n",
              "48        6\n",
              "40       10\n",
              "58        1\n",
              "51        2\n",
              "52        3\n",
              "39        9\n",
              "41        4\n",
              "56        2\n",
              "42        8\n",
              "47        2\n",
              "50        2\n",
              "44        2\n",
              "53        1\n",
              "Name: NumberOfOpenCreditLinesAndLoans, dtype: int64"
            ]
          },
          "execution_count": 58,
          "metadata": {},
          "output_type": "execute_result"
        }
      ],
      "source": [
        "loans[\"NumberOfOpenCreditLinesAndLoans\"].value_counts(sort=False)"
      ]
    },
    {
      "cell_type": "code",
      "execution_count": 59,
      "metadata": {
        "id": "JhZb3vNf0un2"
      },
      "outputs": [
        {
          "data": {
            "text/plain": [
              "0.000     0.0\n",
              "0.100     3.0\n",
              "0.200     4.0\n",
              "0.300     5.0\n",
              "0.400     6.0\n",
              "0.500     8.0\n",
              "0.750    11.0\n",
              "0.800    12.0\n",
              "0.900    15.0\n",
              "0.910    16.0\n",
              "0.950    18.0\n",
              "0.960    19.0\n",
              "0.970    20.0\n",
              "0.975    21.0\n",
              "0.980    22.0\n",
              "0.990    24.0\n",
              "1.000    58.0\n",
              "Name: NumberOfOpenCreditLinesAndLoans, dtype: float64"
            ]
          },
          "execution_count": 59,
          "metadata": {},
          "output_type": "execute_result"
        }
      ],
      "source": [
        "loans[\"NumberOfOpenCreditLinesAndLoans\"].quantile([0, 0.1, 0.2,0.3,0.4, 0.5, 0.75, 0.80, 0.9,0.91,0.95,0.96,0.97,0.975,0.98,0.99,1])"
      ]
    },
    {
      "cell_type": "code",
      "execution_count": null,
      "metadata": {
        "id": "s791xGxn0uq-"
      },
      "outputs": [],
      "source": [
        "#3% High side outliers\n",
        "#No Missing values"
      ]
    },
    {
      "cell_type": "code",
      "execution_count": null,
      "metadata": {
        "id": "UzHYtpaj0uuY"
      },
      "outputs": [],
      "source": [
        "loans[\"Open_Credit_lines_new\"]=loans[\"NumberOfOpenCreditLinesAndLoans\"]\n",
        "loans[\"Open_Credit_lines_new\"][loans[\"Open_Credit_lines_new\"]>20]=loans[\"NumberOfOpenCreditLinesAndLoans\"].median()\n",
        "loans.info()"
      ]
    },
    {
      "cell_type": "markdown",
      "metadata": {
        "id": "sxfH9YCn4wh0"
      },
      "source": [
        "## NumberOfTimes90DaysLate"
      ]
    },
    {
      "cell_type": "code",
      "execution_count": null,
      "metadata": {
        "id": "srNv27et4v0v"
      },
      "outputs": [],
      "source": [
        "cross_tab_90dpd_target=pd.crosstab(loans['NumberOfTimes90DaysLate'],loans['SeriousDlqin2yrs'])\n",
        "cross_tab_90dpd_target"
      ]
    },
    {
      "cell_type": "code",
      "execution_count": null,
      "metadata": {
        "id": "-N8-aio_4v3g"
      },
      "outputs": [],
      "source": [
        "cross_tab_90dpd_target_percent=cross_tab_90dpd_target.astype(float).div(cross_tab_90dpd_target.sum(axis=1), axis=0)\n",
        "round(cross_tab_90dpd_target_percent,2)"
      ]
    },
    {
      "cell_type": "code",
      "execution_count": null,
      "metadata": {
        "id": "pvC8nWa44v6W"
      },
      "outputs": [],
      "source": [
        "loans['num_90_dpd_new']=loans['NumberOfTimes90DaysLate']\n",
        "loans['num_90_dpd_new'][loans['num_90_dpd_new']>12]=3\n",
        "loans['num_90_dpd_new']\n",
        "\n",
        "loans['num_90_dpd_new'].value_counts(sort=False)"
      ]
    },
    {
      "cell_type": "markdown",
      "metadata": {
        "id": "Yvugh_uUJl8y"
      },
      "source": [
        "### NumberRealEstateLoansOrLines"
      ]
    },
    {
      "cell_type": "code",
      "execution_count": null,
      "metadata": {
        "id": "cg6vVbcg4v9L"
      },
      "outputs": [],
      "source": [
        "loans[\"NumberRealEstateLoansOrLines\"].quantile([0, 0.1, 0.2,0.3,0.4, 0.5, 0.75, 0.80, 0.9,0.91,0.95,0.96,0.97,0.975,0.98,0.99,1])"
      ]
    },
    {
      "cell_type": "code",
      "execution_count": null,
      "metadata": {
        "id": "qV6P2Tlw4wAC"
      },
      "outputs": [],
      "source": [
        "loans[\"Real_estate_loans_new\"]=loans[\"NumberRealEstateLoansOrLines\"]\n",
        "loans[\"Real_estate_loans_new\"][loans[\"Real_estate_loans_new\"]>4]=loans[\"NumberRealEstateLoansOrLines\"].median()"
      ]
    },
    {
      "cell_type": "markdown",
      "metadata": {
        "id": "uAhUVOnJJ6ny"
      },
      "source": [
        "## NumberOfTime60-89DaysPastDueNotWorse"
      ]
    },
    {
      "cell_type": "code",
      "execution_count": null,
      "metadata": {
        "id": "U2KRggWm4wC-"
      },
      "outputs": [],
      "source": [
        "loans['num_60_dpd_new']=loans['NumberOfTime60-89DaysPastDueNotWorse']\n",
        "loans['num_60_dpd_new'][loans['num_60_dpd_new']>12]=3\n",
        "loans['num_60_dpd_new']\n",
        "\n",
        "loans['num_60_dpd_new'].value_counts(sort=False)"
      ]
    },
    {
      "cell_type": "markdown",
      "metadata": {
        "id": "_MXR701IKesN"
      },
      "source": [
        "## NumberOfDependents"
      ]
    },
    {
      "cell_type": "code",
      "execution_count": null,
      "metadata": {
        "id": "xFBYG4KC4wF1"
      },
      "outputs": [],
      "source": [
        "loans[\"NumberOfDependents\"].value_counts()"
      ]
    },
    {
      "cell_type": "code",
      "execution_count": null,
      "metadata": {
        "id": "ze500xgI4wJh"
      },
      "outputs": [],
      "source": [
        "loans[\"NumberOfDependents\"].isnull().sum()"
      ]
    },
    {
      "cell_type": "code",
      "execution_count": null,
      "metadata": {
        "id": "FlLjGThwK-Wz"
      },
      "outputs": [],
      "source": [
        "loans[\"NumberOfDependents_new\"]=loans[\"NumberOfDependents\"]\n",
        "loans[\"NumberOfDependents_new\"][(loans[\"NumberOfDependents_new\"]>10)|\n",
        "                                (loans[\"NumberOfDependents\"].isnull())]=loans[\"NumberOfDependents\"].median()"
      ]
    },
    {
      "cell_type": "code",
      "execution_count": null,
      "metadata": {
        "id": "AGMr48wbLSbw"
      },
      "outputs": [],
      "source": [
        "loans[\"NumberOfDependents_new\"].isnull().sum()"
      ]
    },
    {
      "cell_type": "code",
      "execution_count": null,
      "metadata": {
        "id": "T9Kbx16mLcn8"
      },
      "outputs": [],
      "source": [
        "loans[\"NumberOfDependents_new\"].value_counts()"
      ]
    },
    {
      "cell_type": "markdown",
      "metadata": {
        "id": "o6dQSmxWLhQ9"
      },
      "source": [
        "## Exporting the final dataset"
      ]
    },
    {
      "cell_type": "code",
      "execution_count": null,
      "metadata": {
        "id": "u8LhXbN5Lkia"
      },
      "outputs": [],
      "source": [
        "loans.to_csv(\"loans_cleaned.csv\")"
      ]
    },
    {
      "cell_type": "markdown",
      "metadata": {
        "id": "2iwIBGZmpjR_"
      },
      "source": [
        "## Importing Already Cleaned Dataset"
      ]
    },
    {
      "cell_type": "code",
      "execution_count": null,
      "metadata": {
        "id": "dF9YbzWKphNv"
      },
      "outputs": [],
      "source": [
        "loans=pd.read_csv(\"data/Cleaned_cs_training.csv\")"
      ]
    },
    {
      "cell_type": "code",
      "execution_count": null,
      "metadata": {
        "id": "MdCWXen7sN60"
      },
      "outputs": [],
      "source": [
        "loans.describe()"
      ]
    },
    {
      "cell_type": "markdown",
      "metadata": {
        "id": "iVlynfRroK3y"
      },
      "source": [
        "# 3)Logistic Regression Model Building"
      ]
    },
    {
      "cell_type": "code",
      "execution_count": null,
      "metadata": {
        "id": "sv_ZjZZ4oPbb"
      },
      "outputs": [],
      "source": [
        "import statsmodels.api as sm\n",
        "import statsmodels.formula.api as smf\n",
        "import numpy as np\n",
        "from sklearn.model_selection import train_test_split\n",
        "\n",
        "X=loans.drop([\"SeriousDlqin2yrs\",\"Sr_No\"],axis=1)\n",
        "y=loans[\"SeriousDlqin2yrs\"]\n",
        "\n",
        "X_train, X_test, y_train, y_test = train_test_split(X, y, test_size=0.2, random_state=111)"
      ]
    },
    {
      "cell_type": "code",
      "execution_count": null,
      "metadata": {
        "id": "1tO_tOSmoP74"
      },
      "outputs": [],
      "source": [
        "model=sm.Logit(y_train,X_train).fit()\n",
        "print(model.summary())"
      ]
    },
    {
      "cell_type": "code",
      "execution_count": null,
      "metadata": {
        "id": "xuuQF-jYsx5t"
      },
      "outputs": [],
      "source": [
        "#Accuracy\n",
        "pred_train=model.predict(X_train)\n",
        "pred_test=model.predict(X_test)\n",
        "\n",
        "#Confuson matrix and Accuracy on train data\n",
        "from sklearn.metrics import confusion_matrix,accuracy_score\n",
        "confusion_matrix(y_train,np.round(pred_train))\n",
        "acc=accuracy_score(y_train,np.round(pred_train))\n",
        "print(\"Train Accuracy\", acc)\n",
        "\n",
        "#Confuson matrix and Accuracy on test data\n",
        "confusion_matrix(y_test,np.round(pred_test))\n",
        "acc=accuracy_score(y_test,np.round(pred_test))\n",
        "print(\"Test Accuracy\", acc)"
      ]
    },
    {
      "cell_type": "markdown",
      "metadata": {
        "id": "H22Lq_ULtaAs"
      },
      "source": [
        "#Multicollinearity Checking"
      ]
    },
    {
      "cell_type": "code",
      "execution_count": null,
      "metadata": {
        "id": "-Nqp6pBdtVd3"
      },
      "outputs": [],
      "source": [
        "#Vif Function\n",
        "import statsmodels.formula.api as sm\n",
        "\n",
        "def vif_cal(input_data, dependent_col):\n",
        "    x_vars=input_data.drop([dependent_col], axis=1)\n",
        "    xvar_names=x_vars.columns\n",
        "    for i in range(0,xvar_names.shape[0]):\n",
        "        y=x_vars[xvar_names[i]]\n",
        "        x=x_vars[xvar_names.drop(xvar_names[i])]\n",
        "        rsq=sm.ols(formula=\"y~x\", data=x_vars).fit().rsquared\n",
        "        vif=round(1/(1-rsq),2)\n",
        "        print (xvar_names[i], \" VIF = \" , vif)"
      ]
    },
    {
      "cell_type": "code",
      "execution_count": null,
      "metadata": {
        "id": "2u_nUJ6Dtv6h"
      },
      "outputs": [],
      "source": [
        "vif_cal(loans.drop([\"Sr_No\"],axis=1),\"SeriousDlqin2yrs\")"
      ]
    },
    {
      "cell_type": "markdown",
      "metadata": {
        "id": "fZ6TYKUPuQPf"
      },
      "source": [
        "#Final Model"
      ]
    },
    {
      "cell_type": "code",
      "execution_count": null,
      "metadata": {
        "id": "CFmcAtIcuP2V"
      },
      "outputs": [],
      "source": [
        "#Drop DebtRatio_new based on the P-Value\n",
        "\n",
        "X=loans.drop([\"SeriousDlqin2yrs\",\"Sr_No\",\"DebtRatio_new\"],axis=1)\n",
        "y=loans[\"SeriousDlqin2yrs\"]\n",
        "\n",
        "X_train, X_test, y_train, y_test = train_test_split(X, y, test_size=0.2, random_state=111)\n",
        "\n",
        "import statsmodels.api as sm\n",
        "model=sm.Logit(y_train,X_train).fit()\n",
        "print(model.summary())\n",
        "\n",
        "tran_pred=model.predict(X_train)\n",
        "test_pred=model.predict(X_test)\n",
        "\n",
        "\n",
        "train_accuracy=accuracy_score(y_train,np.round(tran_pred))\n",
        "test_accuracy=accuracy_score(y_test,np.round(test_pred))\n",
        "\n",
        "\n",
        "print(\"Train Accuracy\", train_accuracy)\n",
        "print(\"Test Accuracy\", test_accuracy)\n"
      ]
    },
    {
      "cell_type": "markdown",
      "metadata": {
        "id": "6y-jDxGBoQSI"
      },
      "source": [
        "# 4)Model Validation & Class Imbalance"
      ]
    },
    {
      "cell_type": "code",
      "execution_count": null,
      "metadata": {
        "id": "C_T8FRQGoXfO"
      },
      "outputs": [],
      "source": [
        "#Classwise Accuracy\n",
        "loans[\"SeriousDlqin2yrs\"].value_counts()/len(loans)"
      ]
    },
    {
      "cell_type": "code",
      "execution_count": null,
      "metadata": {
        "id": "8Oj4vllOoX5B"
      },
      "outputs": [],
      "source": [
        "train_cm=confusion_matrix(y_train,np.round(tran_pred))\n",
        "test_cm=confusion_matrix(y_test,np.round(test_pred))\n",
        "\n",
        "print(\"Train Confusion Matrix\\n\", train_cm)\n",
        "print(\"Test Confusion Matrix\\n\", test_cm)\n"
      ]
    },
    {
      "cell_type": "code",
      "execution_count": null,
      "metadata": {
        "id": "QTItUEWbvsTV"
      },
      "outputs": [],
      "source": [
        "#Class-0 and Class-1 Accuracy\n",
        "class_0_acc=train_cm[0,0]/(train_cm[0,0]+train_cm[0,1])\n",
        "class_1_acc=train_cm[1,1]/(train_cm[1,0]+train_cm[1,1])\n",
        "\n",
        "print(\"Class-0 Accuracy\", class_0_acc)\n",
        "print(\"Class-1 Accuracy\", class_1_acc)"
      ]
    },
    {
      "cell_type": "markdown",
      "metadata": {
        "id": "SG6T_EkawS36"
      },
      "source": [
        "#Handling Class Imablance using SMOTE technique"
      ]
    },
    {
      "cell_type": "code",
      "execution_count": null,
      "metadata": {
        "id": "BHUenT6cv3vQ"
      },
      "outputs": [],
      "source": [
        "from imblearn.over_sampling import SMOTE\n",
        "smote=SMOTE(sampling_strategy=0.6, random_state=44)\n",
        "\n",
        "X_train_smote, y_train_smote=smote.fit_resample(X_train,y_train)\n",
        "\n",
        "import collections\n",
        "print(\"Before SMOTE\", collections.Counter(y_train))\n",
        "print(\"After SMOTE\", collections.Counter(y_train_smote))"
      ]
    },
    {
      "cell_type": "markdown",
      "metadata": {
        "id": "cwGA9kLrwy0g"
      },
      "source": [
        "##Model with balanced data - SMOTE"
      ]
    },
    {
      "cell_type": "code",
      "execution_count": null,
      "metadata": {
        "id": "FiFbyzhwwm27"
      },
      "outputs": [],
      "source": [
        "model=sm.Logit(y_train_smote,X_train_smote).fit()\n",
        "print(model.summary())"
      ]
    },
    {
      "cell_type": "code",
      "execution_count": null,
      "metadata": {
        "id": "bayG8l3Uw2Tn"
      },
      "outputs": [],
      "source": [
        "#Confusion matrix and Accuracy\n",
        "tran_pred=model.predict(X_train_smote)\n",
        "test_pred=model.predict(X_test)\n",
        "\n",
        "#confusion matrix\n",
        "train_cm=confusion_matrix(y_train_smote,np.round(tran_pred))\n",
        "test_cm=confusion_matrix(y_test,np.round(test_pred))\n",
        "\n",
        "print(\"Train Confusion Matrix\\n\", train_cm)\n",
        "print(\"Test Confusion Matrix\\n\", test_cm)\n"
      ]
    },
    {
      "cell_type": "code",
      "execution_count": null,
      "metadata": {
        "id": "5k0wq-_Qw9Mu"
      },
      "outputs": [],
      "source": [
        "#Class-0 and Class-1 Accuracy\n",
        "class_0_acc=train_cm[0,0]/(train_cm[0,0]+train_cm[0,1])\n",
        "class_1_acc=train_cm[1,1]/(train_cm[1,0]+train_cm[1,1])\n",
        "\n",
        "print(\"Class-0 Accuracy\", class_0_acc)\n",
        "print(\"Class-1 Accuracy\", class_1_acc)"
      ]
    },
    {
      "cell_type": "code",
      "execution_count": null,
      "metadata": {
        "id": "6T0iDkZryAnP"
      },
      "outputs": [],
      "source": [
        "#Class-0 and Class-1 Accuracy on test data\n",
        "class_0_acc=test_cm[0,0]/(test_cm[0,0]+test_cm[0,1])\n",
        "class_1_acc=test_cm[1,1]/(test_cm[1,0]+test_cm[1,1])\n",
        "\n",
        "print(\"Class-0 Accuracy\", class_0_acc)\n",
        "print(\"Class-1 Accuracy\", class_1_acc)"
      ]
    }
  ],
  "metadata": {
    "colab": {
      "provenance": []
    },
    "kernelspec": {
      "display_name": "base",
      "language": "python",
      "name": "python3"
    },
    "language_info": {
      "codemirror_mode": {
        "name": "ipython",
        "version": 3
      },
      "file_extension": ".py",
      "mimetype": "text/x-python",
      "name": "python",
      "nbconvert_exporter": "python",
      "pygments_lexer": "ipython3",
      "version": "3.11.5"
    }
  },
  "nbformat": 4,
  "nbformat_minor": 0
}
