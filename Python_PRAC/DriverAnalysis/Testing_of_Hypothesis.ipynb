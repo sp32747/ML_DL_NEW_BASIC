{
  "cells": [
    {
      "cell_type": "markdown",
      "metadata": {
        "id": "JK-pcQ4xJ3eL"
      },
      "source": [
        "# Testing of Hypothesis"
      ]
    },
    {
      "cell_type": "code",
      "execution_count": null,
      "metadata": {
        "id": "2xZ9Of6gNhEy"
      },
      "outputs": [],
      "source": [
        "import pandas as pd\n",
        "from scipy import stats\n",
        "from statsmodels.stats import weightstats as stests"
      ]
    },
    {
      "cell_type": "markdown",
      "metadata": {
        "id": "0LYZiAdxvhq1"
      },
      "source": [
        "### Test for Single Mean"
      ]
    },
    {
      "cell_type": "code",
      "execution_count": null,
      "metadata": {
        "id": "1-Pejfx-JPOA"
      },
      "outputs": [],
      "source": [
        "sales_sample=sales_data.sample(n=100,random_state=55)\n",
        "\n",
        "ztest ,pval = stests.ztest(sales_sample[\"Customers\"], x2=None, value=700)\n",
        "print(ztest)\n",
        "print(\"P-Value\", float(pval))\n",
        "\n",
        "if pval<0.05:\n",
        "    print(\"reject null hypothesis\")\n",
        "else:\n",
        "    print(\"accept null hypothesis\")"
      ]
    },
    {
      "cell_type": "markdown",
      "metadata": {
        "id": "UnohhYTbvnTN"
      },
      "source": [
        "### Test for Two Means"
      ]
    },
    {
      "cell_type": "code",
      "execution_count": null,
      "metadata": {
        "id": "ijNoMAX-vqka"
      },
      "outputs": [],
      "source": [
        "sales_sample=sales_data.sample(n=100,random_state=55)\n",
        "\n",
        "ztest ,pval = stests.ztest(sales_sample[\"Sales\"][sales_sample[\"Promo\"]==0],\n",
        "                           sales_sample[\"Sales\"][sales_sample[\"Promo\"]==1])\n",
        "print(ztest)\n",
        "print(\"P-Value\", float(pval))\n",
        "\n",
        "if pval<0.05:\n",
        "    print(\"reject null hypothesis\")\n",
        "else:\n",
        "    print(\"accept null hypothesis\")"
      ]
    },
    {
      "cell_type": "markdown",
      "metadata": {
        "id": "vfXeaRm5x2Bz"
      },
      "source": [
        "### Testing Multiple Means"
      ]
    },
    {
      "cell_type": "code",
      "execution_count": null,
      "metadata": {
        "id": "aUNVRSdbx474"
      },
      "outputs": [],
      "source": [
        "sales_sample=sales_data.sample(n=300,random_state=55)\n",
        "\n",
        "F, p = stats.f_oneway(sales_sample[\"Sales\"][sales_sample[\"StoreType\"]==\"c\"],\n",
        "                      sales_sample[\"Sales\"][sales_sample[\"StoreType\"]==\"b\"],\n",
        "                      sales_sample[\"Sales\"][sales_sample[\"StoreType\"]==\"c\"],\n",
        "                      sales_sample[\"Sales\"][sales_sample[\"StoreType\"]==\"d\"]\n",
        "                      )\n",
        "print(\"p-value for significance is: \", p)\n",
        "if p<0.05:\n",
        "    print(\"reject null hypothesis\")\n",
        "else:\n",
        "    print(\"accept null hypothesis\")\n"
      ]
    },
    {
      "cell_type": "code",
      "execution_count": null,
      "metadata": {
        "id": "lsp8pnsCWRat"
      },
      "outputs": [],
      "source": [
        "F, p = stats.f_oneway(sales_sample[\"Customers\"][sales_sample[\"DayOfWeek\"]==2],\n",
        "                      sales_sample[\"Customers\"][sales_sample[\"DayOfWeek\"]==3],\n",
        "                      sales_sample[\"Customers\"][sales_sample[\"DayOfWeek\"]==4])\n",
        "print(\"p-value for significance is: \", p)\n",
        "if p<0.05:\n",
        "    print(\"reject null hypothesis\")\n",
        "else:\n",
        "    print(\"accept null hypothesis\")"
      ]
    },
    {
      "cell_type": "markdown",
      "metadata": {
        "id": "OHa0AjiqxscS"
      },
      "source": [
        "## IG For Continuous Target"
      ]
    },
    {
      "cell_type": "code",
      "execution_count": null,
      "metadata": {
        "id": "qL4DNJSOxVAR"
      },
      "outputs": [],
      "source": [
        "def IG_Cal_Type2(input_df, target_col):\n",
        "  result_DF=pd.DataFrame()\n",
        "  from sklearn import tree\n",
        "  import matplotlib.pyplot as plt\n",
        "  from sklearn.tree import plot_tree, export_text\n",
        "\n",
        "  for col in input_df.drop(target_col, axis=1).columns.values:\n",
        "    features= [col]\n",
        "    X = input_df[features]\n",
        "    y = input_df[target_col]\n",
        "    DTree = tree.DecisionTreeRegressor(criterion=\"mse\" ,max_depth=1)\n",
        "    DTree.fit(X,y)\n",
        "\n",
        "\n",
        "    plot_tree(DTree, filled=True,\n",
        "                     rounded=True,\n",
        "                     impurity=True,\n",
        "                     feature_names = features)\n",
        "    plt.show()\n",
        "\n",
        "    #MSE and Information Gain\n",
        "    entropy_array=DTree.tree_.impurity\n",
        "    node_size=DTree.tree_.weighted_n_node_samples\n",
        "\n",
        "    information_gain=(entropy_array[0]-((node_size[1]/node_size[0])*entropy_array[1] + (node_size[2]/node_size[0])*entropy_array[2]))/entropy_array[0]\n",
        "    print(\"Information_gain for the feature \", features, \" is \", information_gain*100 )\n",
        "\n",
        "    temp =pd.DataFrame({\"Variable\" : [col], \"IG\" :[information_gain*100]}, columns = [\"Variable\", \"IG\"])\n",
        "    result_DF=pd.concat([result_DF,temp], axis=0)\n",
        "\n",
        "  print(\"===================\\n\")\n",
        "  print(result_DF.sort_values(by=\"IG\", ascending=False))"
      ]
    },
    {
      "cell_type": "markdown",
      "metadata": {
        "id": "or009ADx363Y"
      },
      "source": [
        "Rossmann Store Sales Data"
      ]
    },
    {
      "cell_type": "code",
      "execution_count": null,
      "metadata": {
        "id": "g62uMkM-xmNm"
      },
      "outputs": [],
      "source": [
        "final_data=sales_data[[\"Promo\",\t\"SchoolHoliday\",\"DayOfWeek\", \"Sales\"]]\n",
        "IG_Cal_Type2(input_df=final_data, target_col=\"Sales\")"
      ]
    },
    {
      "cell_type": "markdown",
      "metadata": {
        "id": "t7no-oG_CVqo"
      },
      "source": [
        "# Categorical(X) vs Categorical(Y)"
      ]
    },
    {
      "cell_type": "markdown",
      "metadata": {
        "id": "febeO9T1wIYQ"
      },
      "source": [
        "## Bar Chart for categorical variable comparison"
      ]
    },
    {
      "cell_type": "code",
      "execution_count": null,
      "metadata": {
        "id": "bi3QwefdEV7o"
      },
      "outputs": [],
      "source": [
        "sns.countplot(y=\"education\",  data=bank_data[bank_data[\"y\"]==\"no\"], color=\"red\")\n",
        "sns.countplot(y=\"education\",  data=bank_data[bank_data[\"y\"]==\"yes\"], color=\"green\")"
      ]
    },
    {
      "cell_type": "code",
      "execution_count": null,
      "metadata": {
        "id": "y0gS01rjtL20"
      },
      "outputs": [],
      "source": [
        "plt.figure()\n",
        "for col in categorical_cols:\n",
        "  sns.countplot(y=col,  data=bank_data[bank_data[\"y\"]==\"no\"], color=\"red\")\n",
        "  sns.countplot(y=col,  data=bank_data[bank_data[\"y\"]==\"yes\"], color=\"green\")\n",
        "  plt.title([col + \" Bar plot\"])\n",
        "  plt.show()\n"
      ]
    },
    {
      "cell_type": "code",
      "execution_count": null,
      "metadata": {
        "id": "mKCo7Zse4OFv"
      },
      "outputs": [],
      "source": [
        "plt.figure()\n",
        "for col in categorical_cols:\n",
        "  sns.countplot(y=col,  data=bank_data,hue=\"y\")\n",
        "  plt.title([col + \" Bar plot\"])\n",
        "  plt.show()"
      ]
    },
    {
      "cell_type": "markdown",
      "metadata": {
        "id": "EN-SDMkM5Dcc"
      },
      "source": [
        "## Cross Tables"
      ]
    },
    {
      "cell_type": "code",
      "execution_count": null,
      "metadata": {
        "id": "0HQmodAI4jTh"
      },
      "outputs": [],
      "source": [
        "for col in categorical_cols:\n",
        "  print(pd.crosstab(bank_data[col], bank_data['y']))"
      ]
    },
    {
      "cell_type": "code",
      "execution_count": null,
      "metadata": {
        "id": "VK3zXzGm5a1b"
      },
      "outputs": [],
      "source": [
        "for col in categorical_cols:\n",
        "  print(pd.crosstab(bank_data[col], bank_data['y'], margins=True))\n",
        "  print(\"============================\\n\")"
      ]
    },
    {
      "cell_type": "markdown",
      "metadata": {
        "id": "rz51rntSJ4aI"
      },
      "source": [
        "## Chi-Square Test of Independence"
      ]
    },
    {
      "cell_type": "code",
      "execution_count": null,
      "metadata": {
        "id": "v6OSGVIIJ248"
      },
      "outputs": [],
      "source": [
        "bank_data_sample=bank_data.sample(300)\n",
        "import scipy.stats as stats\n",
        "\n",
        "for col in categorical_cols:\n",
        "  crosstab =pd.crosstab(bank_data_sample[col], bank_data_sample['y'])\n",
        "  print(crosstab)\n",
        "  Chi=stats.chi2_contingency(crosstab)\n",
        "  p=Chi[1]\n",
        "  print(\"p-value for significance is: \",p )\n",
        "  if p<0.05:\n",
        "    print(\"reject null hypothesis\")\n",
        "  else:\n",
        "    print(\"accept null hypothesis\")\n",
        "  print(\"============================\\n\")"
      ]
    },
    {
      "cell_type": "markdown",
      "metadata": {
        "id": "mmfIJuXnesat"
      },
      "source": [
        "## IG For Categorical Target"
      ]
    },
    {
      "cell_type": "code",
      "execution_count": null,
      "metadata": {
        "id": "u5oX_S2Texa5"
      },
      "outputs": [],
      "source": [
        "bank_data[\"y_num\"]=bank_data[\"y\"].map({\"no\":0, \"yes\":1})\n",
        "bank_data[\"housing_num\"]=bank_data[\"housing\"].map({\"no\":0, \"yes\":1})\n",
        "bank_data[\"loan_num\"]=bank_data[\"loan\"].map({\"no\":0, \"yes\":1})"
      ]
    },
    {
      "cell_type": "code",
      "execution_count": null,
      "metadata": {
        "id": "lLxGcWZKfe94"
      },
      "outputs": [],
      "source": [
        "final_data=bank_data[[\"loan_num\",\"housing_num\", \"y_num\"]]\n",
        "IG_Cal(final_data, \"y_num\")"
      ]
    },
    {
      "cell_type": "markdown",
      "metadata": {
        "id": "Z3Nrk1u9TUbT"
      },
      "source": [
        "# Multivariate Effect Detection"
      ]
    },
    {
      "cell_type": "code",
      "execution_count": null,
      "metadata": {
        "id": "zgDHYv8GfvQC"
      },
      "outputs": [],
      "source": [
        "def Multi_level_Tree(input_df, target_col, levels):\n",
        "  from sklearn import tree\n",
        "  import matplotlib.pyplot as plt\n",
        "  from sklearn.tree import plot_tree, export_text\n",
        "\n",
        "  features= input_df.drop(target_col, axis=1).columns.values\n",
        "  X = input_df[features]\n",
        "  y = input_df[target_col]\n",
        "  DTree = tree.DecisionTreeClassifier(criterion=\"entropy\" ,max_depth=levels)\n",
        "  DTree.fit(X,y)\n",
        "  plt.figure(figsize=(15,7))\n",
        "  plot_tree(DTree, filled=True,\n",
        "                    rounded=True,\n",
        "                    impurity=True,\n",
        "                    feature_names = features)\n",
        "  plt.show()\n",
        "  print([[i, features[i]] for i in range(len(features))])\n",
        "  print(export_text(DTree))"
      ]
    },
    {
      "cell_type": "code",
      "execution_count": null,
      "metadata": {
        "id": "nXY3RsZ1UKVW"
      },
      "outputs": [],
      "source": [
        "Multi_level_Tree(input_df=credit_risk, target_col=\"SeriousDlqin2yrs\", levels=2)"
      ]
    },
    {
      "cell_type": "code",
      "execution_count": null,
      "metadata": {
        "id": "4uHN7qz-VnlJ"
      },
      "outputs": [],
      "source": [
        "Multi_level_Tree(input_df=credit_risk, target_col=\"SeriousDlqin2yrs\", levels=3)"
      ]
    },
    {
      "cell_type": "markdown",
      "metadata": {
        "id": "acd7H_8XlXt0"
      },
      "source": [
        "## Multivariate Interaction Effect for Regression"
      ]
    },
    {
      "cell_type": "code",
      "execution_count": null,
      "metadata": {
        "id": "kscIWMo1lYTy"
      },
      "outputs": [],
      "source": [
        "def Multi_level_Tree_Reg(input_df, target_col, levels):\n",
        "  from sklearn import tree\n",
        "  import matplotlib.pyplot as plt\n",
        "  from sklearn.tree import plot_tree, export_text\n",
        "\n",
        "  features= input_df.drop(target_col, axis=1).columns.values\n",
        "  X = input_df[features]\n",
        "  y = input_df[target_col]\n",
        "  DTree = tree.DecisionTreeRegressor(criterion=\"mse\" ,max_depth=levels)\n",
        "  DTree.fit(X,y)\n",
        "  plt.figure(figsize=(15,7))\n",
        "  plot_tree(DTree, filled=True,\n",
        "                    rounded=True,\n",
        "                    impurity=True,\n",
        "                    feature_names = features)\n",
        "  plt.show()\n",
        "  print([[i, features[i]] for i in range(len(features))])\n",
        "  print(export_text(DTree))"
      ]
    },
    {
      "cell_type": "code",
      "execution_count": null,
      "metadata": {
        "id": "pszAMN58l0xB"
      },
      "outputs": [],
      "source": [
        "sales_data.info()"
      ]
    },
    {
      "cell_type": "code",
      "execution_count": null,
      "metadata": {
        "id": "RLkqFPgwlgHO"
      },
      "outputs": [],
      "source": [
        "final_data=sales_data[[\"Promo\",\t\"SchoolHoliday\",\"DayOfWeek\", \"Sales\",\"CompetitionDistance\",\"Promo2\"]]\n",
        "Multi_level_Tree_Reg(input_df=final_data, target_col=\"Sales\",levels=2)"
      ]
    },
    {
      "cell_type": "code",
      "execution_count": null,
      "metadata": {
        "id": "nfoaVXmlmBGo"
      },
      "outputs": [],
      "source": []
    }
  ],
  "metadata": {
    "colab": {
      "provenance": []
    },
    "kernelspec": {
      "display_name": "Python 3",
      "name": "python3"
    },
    "language_info": {
      "name": "python"
    }
  },
  "nbformat": 4,
  "nbformat_minor": 0
}
