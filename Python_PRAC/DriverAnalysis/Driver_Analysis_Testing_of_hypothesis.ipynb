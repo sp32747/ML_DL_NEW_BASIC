{
  "cells": [
    {
      "cell_type": "code",
      "execution_count": 1,
      "metadata": {
        "id": "ud5gKkxz-vP1"
      },
      "outputs": [],
      "source": [
        "import pandas as pd\n",
        "import warnings\n",
        "import seaborn as sns\n",
        "import matplotlib.pyplot as plt\n",
        "warnings.filterwarnings(\"ignore\")"
      ]
    },
    {
      "cell_type": "markdown",
      "metadata": {
        "id": "iAkx0mcT6rzK"
      },
      "source": [
        "# Bank Marketing Data Importing"
      ]
    },
    {
      "cell_type": "code",
      "execution_count": null,
      "metadata": {
        "id": "vn14pmDhEGqD"
      },
      "outputs": [],
      "source": [
        "import pandas as pd\n",
        "bank_data=pd.read_csv(\"datasets/bank-full.csv\")\n",
        "print(bank_data.shape)\n"
      ]
    },
    {
      "cell_type": "code",
      "execution_count": null,
      "metadata": {
        "id": "XbXBXXULGlCn"
      },
      "outputs": [],
      "source": [
        "bank_data.columns"
      ]
    },
    {
      "cell_type": "code",
      "execution_count": null,
      "metadata": {},
      "outputs": [],
      "source": []
    },
    {
      "cell_type": "code",
      "execution_count": null,
      "metadata": {
        "id": "CAb05lsRwqUe"
      },
      "outputs": [],
      "source": [
        "import pandas as pd\n",
        "bank_data=pd.read_csv(\"datasets/bank-full.csv\",sep=';')\n",
        "print(bank_data.shape)"
      ]
    },
    {
      "cell_type": "code",
      "execution_count": null,
      "metadata": {
        "id": "CWLuYcx0xCLt"
      },
      "outputs": [],
      "source": [
        "bank_data.head()"
      ]
    },
    {
      "cell_type": "code",
      "execution_count": null,
      "metadata": {
        "id": "4ThovhHc1IrV"
      },
      "outputs": [],
      "source": [
        "bank_data.info()"
      ]
    },
    {
      "cell_type": "markdown",
      "metadata": {
        "id": "krq6k8bC6rza"
      },
      "source": [
        "# Continuous variable distributions"
      ]
    },
    {
      "cell_type": "markdown",
      "metadata": {
        "id": "1xYjkijm6rzb"
      },
      "source": [
        "## Box Plots (Box plot is used to find the outliers in the data )"
      ]
    },
    {
      "cell_type": "code",
      "execution_count": null,
      "metadata": {
        "id": "4gaK_MW76rzb"
      },
      "outputs": [],
      "source": [
        "import matplotlib.pyplot as plt\n",
        "plt.boxplot(bank_data[\"balance\"]) # box plot its compressed means there are outliers in the data"
      ]
    },
    {
      "cell_type": "markdown",
      "metadata": {},
      "source": []
    },
    {
      "cell_type": "code",
      "execution_count": null,
      "metadata": {
        "id": "H8eNKhmy6rzd"
      },
      "outputs": [],
      "source": [
        "import matplotlib.pyplot as plt\n",
        "plt.boxplot(bank_data[\"age\"])"
      ]
    },
    {
      "cell_type": "code",
      "execution_count": null,
      "metadata": {
        "id": "SRS8dcZx6rzg"
      },
      "outputs": [],
      "source": [
        "plt.boxplot(bank_data[\"age\"], whis= 2) # whis is the whisker length which is 1.5 by default and can be changed to 2 or 3 \n",
        "# to get more outliers 1.5 is the default value , 75 % + 1.5 * IQR ,above this value is considered as suggested outliers"
      ]
    },
    {
      "cell_type": "markdown",
      "metadata": {
        "id": "VCoZIIxq-jQV"
      },
      "source": [
        "## Vilon Plots"
      ]
    },
    {
      "cell_type": "code",
      "execution_count": null,
      "metadata": {
        "id": "Xn4vmVmy-jQY"
      },
      "outputs": [],
      "source": [
        "import seaborn as sns\n",
        "sns.violinplot(y=bank_data[\"balance\"])"
      ]
    },
    {
      "cell_type": "code",
      "execution_count": null,
      "metadata": {
        "id": "OTfOQhJp-jQg"
      },
      "outputs": [],
      "source": [
        "sns.violinplot(y=bank_data[\"age\"])"
      ]
    },
    {
      "cell_type": "markdown",
      "metadata": {
        "id": "yd34ZGdN-jQj"
      },
      "source": [
        "## Histograms"
      ]
    },
    {
      "cell_type": "code",
      "execution_count": null,
      "metadata": {
        "id": "U3wfXp4s-jQk"
      },
      "outputs": [],
      "source": [
        "import seaborn as sns\n",
        "sns.histplot(bank_data[\"age\"],kde=True)"
      ]
    },
    {
      "cell_type": "code",
      "execution_count": null,
      "metadata": {
        "id": "B9cFjcyF-jQp"
      },
      "outputs": [],
      "source": [
        "import seaborn as sns\n",
        "sns.histplot(bank_data[\"age\"],kde=False)"
      ]
    },
    {
      "cell_type": "code",
      "execution_count": null,
      "metadata": {
        "id": "kr3hPnRt-jQr"
      },
      "outputs": [],
      "source": [
        "import seaborn as sns\n",
        "sns.histplot(bank_data[\"balance\"])"
      ]
    },
    {
      "cell_type": "code",
      "execution_count": null,
      "metadata": {
        "id": "vWsnA4uk-jQv"
      },
      "outputs": [],
      "source": [
        "numeric_cols=[col for col in bank_data.columns if bank_data[col].dtypes in [\"int64\",\"float64\"]]\n",
        "print(numeric_cols)"
      ]
    },
    {
      "cell_type": "code",
      "execution_count": null,
      "metadata": {
        "id": "YeHQG3Yt-jQy"
      },
      "outputs": [],
      "source": [
        "plt.figure()\n",
        "for col in numeric_cols:\n",
        "  sns.histplot(bank_data[col])\n",
        "  plt.title([col + \" Histogram\"])\n",
        "  plt.show()\n"
      ]
    },
    {
      "cell_type": "markdown",
      "metadata": {
        "id": "LZOfdpXb_loG"
      },
      "source": [
        "# Rossmann Store Sales Data"
      ]
    },
    {
      "cell_type": "markdown",
      "metadata": {
        "id": "Ygi1dy6O_loJ"
      },
      "source": [
        "Dataset : https://www.kaggle.com/c/rossmann-store-sales/data\n",
        "\n",
        "\n",
        "\n",
        "* Id - an Id that represents a (Store, Date) duple within the test set\n",
        "* Store - a unique Id for each store\n",
        "* Sales - the turnover for any given day (this is what you are predicting)\n",
        "* Customers - the number of customers on a given day\n",
        "* Open - an indicator for whether the store was open: 0 = closed, 1 = open\n",
        "* StateHoliday - indicates a state holiday. Normally all stores, with few exceptions, are closed on state holidays. Note that all schools are closed on public holidays and weekends. a = public holiday, b = Easter holiday, c = Christmas, 0 = None\n",
        "* SchoolHoliday - indicates if the (Store, Date) was affected by the closure of public schools\n",
        "* StoreType - differentiates between 4 different store models: a, b, c, d\n",
        "* Assortment - describes an assortment level: a = basic, b = extra, c = extended\n",
        "* CompetitionDistance - distance in meters to the nearest competitor store\n",
        "* CompetitionOpenSince[Month/Year] - gives the approximate year and month of the time the nearest competitor was opened\n",
        "* Promo - indicates whether a store is running a promo on that day\n",
        "* Promo2 - Promo2 is a continuing and consecutive promotion for some stores: 0 = store is not participating, 1 = store is participating\n",
        "* Promo2Since[Year/Week] - describes the year and calendar week when the store started participating in Promo2\n",
        "* PromoInterval - describes the consecutive intervals Promo2 is started, naming the months the promotion is started anew. E.g. \"Feb,May,Aug,Nov\" means each round starts in February, May, August, November of any given year for that store\n",
        "\n",
        "\n"
      ]
    },
    {
      "cell_type": "code",
      "execution_count": null,
      "metadata": {
        "id": "H7YibqPD_loK"
      },
      "outputs": [],
      "source": [
        "sales_data=pd.read_csv(\"datasets/Rossmann_Store_Sales.csv\")\n",
        "print(sales_data.shape)\n",
        "print(sales_data.info())\n",
        "sales_data.sample(5)"
      ]
    },
    {
      "cell_type": "markdown",
      "metadata": {},
      "source": [
        "These all box plot,violin, histogram will tell us whether outlier is der or not but it will not tell us what percentage of outlier is der, then we will go for percintile calculation"
      ]
    },
    {
      "cell_type": "code",
      "execution_count": null,
      "metadata": {
        "id": "wQwroMnk_loj"
      },
      "outputs": [],
      "source": [
        "#Sales\n",
        "plt.boxplot(sales_data[\"Sales\"])\n",
        "plt.show()\n",
        "sns.violinplot(y=sales_data[\"Sales\"])\n",
        "plt.show()\n",
        "sns.histplot(sales_data[\"Sales\"])\n",
        "plt.show()\n",
        "sns.histplot(sales_data[\"Sales\"],kde=True)\n",
        "plt.show()"
      ]
    },
    {
      "cell_type": "code",
      "execution_count": null,
      "metadata": {
        "id": "tr9dXg4z_lol"
      },
      "outputs": [],
      "source": [
        "# Customers\n",
        "plt.boxplot(sales_data[\"Customers\"])\n",
        "plt.show()\n",
        "sns.violinplot(y=sales_data[\"Customers\"])\n",
        "plt.show()\n",
        "sns.histplot(sales_data[\"Customers\"])\n",
        "plt.show()\n",
        "sns.histplot(sales_data[\"Customers\"],kde=True)\n",
        "plt.show()"
      ]
    },
    {
      "cell_type": "markdown",
      "metadata": {
        "id": "77BneWwN6rz0"
      },
      "source": [
        "# Categorical Variables Summary"
      ]
    },
    {
      "cell_type": "markdown",
      "metadata": {
        "id": "WSAw8E0M6rz0"
      },
      "source": [
        "## Bar Charts"
      ]
    },
    {
      "cell_type": "code",
      "execution_count": null,
      "metadata": {
        "id": "kgIsbeDr6rz1"
      },
      "outputs": [],
      "source": [
        "plt.figure()\n",
        "sns.countplot(x=\"job\",  data=bank_data)"
      ]
    },
    {
      "cell_type": "code",
      "execution_count": null,
      "metadata": {
        "id": "peRTtOt76rz3"
      },
      "outputs": [],
      "source": [
        "plt.figure()\n",
        "sns.countplot(y=\"job\",  data=bank_data)"
      ]
    },
    {
      "cell_type": "code",
      "execution_count": null,
      "metadata": {
        "id": "ZiWpzhlX6rz5"
      },
      "outputs": [],
      "source": [
        "categorical_cols=[col for col in bank_data.columns if bank_data[col].dtypes in [\"object\"]]\n",
        "print(categorical_cols)"
      ]
    },
    {
      "cell_type": "code",
      "execution_count": null,
      "metadata": {
        "id": "VlBXhCZO6rz7"
      },
      "outputs": [],
      "source": [
        "plt.figure()\n",
        "for col in categorical_cols:\n",
        "  sns.countplot(y=col,  data=bank_data)\n",
        "  plt.title([col + \" Bar plot\"])\n",
        "  plt.show()\n"
      ]
    },
    {
      "cell_type": "markdown",
      "metadata": {
        "id": "XoT7ltUeDQsv"
      },
      "source": [
        "# Rossmann Store Sales"
      ]
    },
    {
      "cell_type": "code",
      "execution_count": 6,
      "metadata": {},
      "outputs": [],
      "source": [
        "sales_data=pd.read_csv(\"datasets/Rossmann_Store_Sales.csv\")"
      ]
    },
    {
      "cell_type": "code",
      "execution_count": null,
      "metadata": {
        "id": "gTuqReBPEk1x"
      },
      "outputs": [],
      "source": [
        "import seaborn as sns\n",
        "sns.countplot(x=\"StoreType\", data=sales_data)"
      ]
    },
    {
      "cell_type": "code",
      "execution_count": null,
      "metadata": {
        "id": "JAxL7EAUElNR"
      },
      "outputs": [],
      "source": [
        "sns.countplot(x=\"Assortment\",  data=sales_data)"
      ]
    },
    {
      "cell_type": "code",
      "execution_count": null,
      "metadata": {
        "id": "5vStCbkR6F1P"
      },
      "outputs": [],
      "source": [
        "sales_data.columns"
      ]
    },
    {
      "cell_type": "markdown",
      "metadata": {
        "id": "Pv87qjJuBSbc"
      },
      "source": [
        "# Continuous(X) vs Continuous(Y)"
      ]
    },
    {
      "cell_type": "markdown",
      "metadata": {
        "id": "LtTnPkY3dAbE"
      },
      "source": [
        "### Correlation when we are checking between two continuos variables\n",
        "### when we are looking for multivariate analysis between continous values we will go for P value\n",
        "### the relation is vizualised using scatter plot , quntified using correlation coffiicent"
      ]
    },
    {
      "cell_type": "code",
      "execution_count": null,
      "metadata": {
        "id": "WO1NZcFrAe9J"
      },
      "outputs": [],
      "source": [
        "import numpy as np\n",
        "np.corrcoef(bank_data[\"age\"],bank_data[\"balance\"])"
      ]
    },
    {
      "cell_type": "markdown",
      "metadata": {
        "id": "eIwpH5Yi6FCB"
      },
      "source": [
        "## Scatter Plots"
      ]
    },
    {
      "cell_type": "code",
      "execution_count": null,
      "metadata": {
        "id": "rSbNlfZj6JAD"
      },
      "outputs": [],
      "source": [
        "bank_data.columns"
      ]
    },
    {
      "cell_type": "code",
      "execution_count": null,
      "metadata": {
        "id": "SY8ik1PW6JDq"
      },
      "outputs": [],
      "source": [
        "import seaborn as sns\n",
        "import matplotlib.pyplot as plt\n",
        "sns.scatterplot(x=\"age\", y=\"balance\", data=bank_data)"
      ]
    },
    {
      "cell_type": "code",
      "execution_count": null,
      "metadata": {
        "id": "CRdYuW4R6JHh"
      },
      "outputs": [],
      "source": [
        "sns.scatterplot(x=\"age\", y=\"balance\", hue=\"y\", data=bank_data)"
      ]
    },
    {
      "cell_type": "code",
      "execution_count": null,
      "metadata": {
        "id": "Vcdpk3by8a7_"
      },
      "outputs": [],
      "source": [
        "sns.scatterplot(x=\"age\", y=\"balance\", hue=\"y\", data=bank_data[bank_data[\"balance\"]<20000])"
      ]
    },
    {
      "cell_type": "markdown",
      "metadata": {
        "id": "IDWpN1pcFki5"
      },
      "source": [
        "# Rossmann Store Sales"
      ]
    },
    {
      "cell_type": "code",
      "execution_count": null,
      "metadata": {
        "id": "Eeo985z4GR7p"
      },
      "outputs": [],
      "source": [
        "#Sales vs Customers\n",
        "sns.scatterplot(y=\"Sales\", x=\"Customers\", data=sales_data)"
      ]
    },
    {
      "cell_type": "code",
      "execution_count": null,
      "metadata": {
        "id": "vbiLVs7HBG3_"
      },
      "outputs": [],
      "source": [
        "np.corrcoef(sales_data[\"Sales\"],sales_data[\"Customers\"])"
      ]
    },
    {
      "cell_type": "code",
      "execution_count": null,
      "metadata": {
        "id": "h3NDCeYAYYds"
      },
      "outputs": [],
      "source": [
        "#Sales vs CompetitionDistance\n",
        "sns.scatterplot(y=\"Sales\", x=\"CompetitionDistance\", data=sales_data)"
      ]
    },
    {
      "cell_type": "code",
      "execution_count": null,
      "metadata": {
        "id": "6iGRhlAXBaTi"
      },
      "outputs": [],
      "source": [
        "np.corrcoef(sales_data[\"Sales\"],sales_data[\"CompetitionDistance\"])"
      ]
    },
    {
      "cell_type": "markdown",
      "metadata": {
        "id": "Ta531T4ywL5q"
      },
      "source": [
        "# Continuous(X) vs Categorical (Y)"
      ]
    },
    {
      "cell_type": "markdown",
      "metadata": {
        "id": "FQGgF9waCP-5"
      },
      "source": [
        "## Visualization options"
      ]
    },
    {
      "cell_type": "markdown",
      "metadata": {
        "id": "Re1NDXGk7MyH"
      },
      "source": [
        "### Bank Marketing Data"
      ]
    },
    {
      "cell_type": "code",
      "execution_count": 25,
      "metadata": {
        "id": "265MQVBPCAf0"
      },
      "outputs": [
        {
          "data": {
            "image/png": "[encoded data removed]",
            "text/plain": [
              "<Figure size 640x480 with 1 Axes>"
            ]
          },
          "metadata": {},
          "output_type": "display_data"
        },
        {
          "data": {
            "image/png": "[encoded data removed]",
            "text/plain": [
              "<Figure size 640x480 with 1 Axes>"
            ]
          },
          "metadata": {},
          "output_type": "display_data"
        },
        {
          "data": {
            "image/png": "[encoded data removed]",
            "text/plain": [
              "<Figure size 640x480 with 1 Axes>"
            ]
          },
          "metadata": {},
          "output_type": "display_data"
        }
      ],
      "source": [
        "#Histogram Overlay\n",
        "sns.histplot(bank_data[bank_data[\"y\"]==\"no\"][\"age\"], color=\"red\")\n",
        "sns.histplot(bank_data[bank_data[\"y\"]==\"yes\"][\"age\"], color=\"green\")\n",
        "plt.title('Age vs y', fontsize=20)\n",
        "plt.show()\n",
        "\n",
        "#Box Plots for Continuous and Categories comparison\n",
        "sns.boxplot( x=bank_data[\"y\"], y=bank_data[\"age\"])\n",
        "plt.title('Age vs y', fontsize=20)\n",
        "plt.show()\n",
        "\n",
        "#Violin plots for Continuous and Categories comparison\n",
        "sns.violinplot(x=bank_data[\"y\"], y=bank_data[\"age\"])\n",
        "plt.title('Age vs y', fontsize=20)\n",
        "plt.show()"
      ]
    },
    {
      "cell_type": "markdown",
      "metadata": {
        "id": "PeJAZx_U5Ybx"
      },
      "source": [
        "### Credit Risk Data"
      ]
    },
    {
      "cell_type": "code",
      "execution_count": null,
      "metadata": {
        "id": "mIxWf9wyhF2B"
      },
      "outputs": [],
      "source": [
        "credit_risk=pd.read_csv(\"datasets/Cleaned_cs_training.csv\")\n",
        "credit_risk.info()"
      ]
    },
    {
      "cell_type": "code",
      "execution_count": null,
      "metadata": {
        "colab": {
          "base_uri": "https://localhost:8080/",
          "height": 228
        },
        "id": "ADFgBPW-5X8T",
        "outputId": "b78fb06d-392d-403a-b185-86ac7b3bdd12"
      },
      "outputs": [],
      "source": [
        "#Histogram Overlay\n",
        "sns.distplot(credit_risk[credit_risk[\"SeriousDlqin2yrs\"]==1][\"util_new\"], color=\"red\")\n",
        "sns.distplot(credit_risk[credit_risk[\"SeriousDlqin2yrs\"]==0][\"util_new\"], color=\"green\")\n",
        "plt.title('Utilization vs Target', fontsize=20)\n",
        "plt.show()\n",
        "\n",
        "#Box Plots for Continuous and Categories comparison\n",
        "sns.boxplot( x=credit_risk[\"SeriousDlqin2yrs\"], y=credit_risk[\"util_new\"])\n",
        "plt.title('Utilization vs Target', fontsize=20)\n",
        "plt.show()\n",
        "\n",
        "#Violin plots for Continuous and Categories comparison\n",
        "sns.violinplot(x=credit_risk[\"SeriousDlqin2yrs\"], y=credit_risk[\"util_new\"])\n",
        "plt.title('Utilization vs Target', fontsize=20)\n",
        "plt.show()\n",
        "\n"
      ]
    },
    {
      "cell_type": "markdown",
      "metadata": {
        "id": "FmM32jnOwoCv"
      },
      "source": [
        "## WOE and Information Value"
      ]
    },
    {
      "cell_type": "markdown",
      "metadata": {
        "id": "lN3QcWBix7y_"
      },
      "source": [
        "IV Function"
      ]
    },
    {
      "cell_type": "code",
      "execution_count": null,
      "metadata": {
        "id": "CPs9JA3Vwmqp"
      },
      "outputs": [],
      "source": [
        "def iv_woe(data, target, bins=10, show_woe=False):\n",
        "\n",
        "    import numpy as np\n",
        "\n",
        "    #Empty Dataframe\n",
        "    newDF,woeDF = pd.DataFrame(), pd.DataFrame()\n",
        "\n",
        "    #Extract Column Names\n",
        "    cols = data.columns\n",
        "\n",
        "    #Run WOE and IV on all the independent variables\n",
        "    for ivars in cols[~cols.isin([target])]:\n",
        "        if (data[ivars].dtype.kind in 'bifc') and (len(np.unique(data[ivars]))>10):\n",
        "            binned_x = pd.qcut(data[ivars], bins,  duplicates='drop')\n",
        "            d0 = pd.DataFrame({'x': binned_x, 'y': data[target]})\n",
        "        else:\n",
        "            d0 = pd.DataFrame({'x': data[ivars], 'y': data[target]})\n",
        "\n",
        "        #Binning\n",
        "        d = d0.groupby(\"x\", as_index=False).agg({\"y\": [\"count\", \"sum\"]})\n",
        "        d.columns = ['Cutoff', 'N', 'Class0']\n",
        "\n",
        "        # % of Class 0 and Class 1\n",
        "        d['% of Class0'] = np.maximum(d['Class0'], 0.5) / d['Class0'].sum()\n",
        "        d['Class1'] = d['N'] - d['Class0']\n",
        "        d['% of Class1'] = np.maximum(d['Class1'], 0.5) / d['Class1'].sum()\n",
        "\n",
        "        # WOE and IV\n",
        "        d['WoE'] = np.log(d['% of Class0']/d['% of Class1'])\n",
        "        d['IV'] = d['WoE'] * (d['% of Class0'] - d['% of Class1'])\n",
        "        d.insert(loc=0, column='Variable', value=ivars)\n",
        "        print(\"Information value of \" + ivars + \" is \" + str(round(d['IV'].sum(),6)))\n",
        "        temp =pd.DataFrame({\"Variable\" : [ivars], \"IV\" : [d['IV'].sum()]}, columns = [\"Variable\", \"IV\"])\n",
        "        newDF=pd.concat([newDF,temp], axis=0)\n",
        "        woeDF=pd.concat([woeDF,d], axis=0)\n",
        "\n",
        "        #Show WOE Table\n",
        "        if show_woe == True:\n",
        "            print(d)\n",
        "\n",
        "    #return newDF, woeDF\n",
        "    print(\"===================\\n\")\n",
        "    print(newDF.sort_values(by=\"IV\", ascending=False))"
      ]
    },
    {
      "cell_type": "markdown",
      "metadata": {
        "id": "G8jq-TcK20xv"
      },
      "source": [
        "### IV on Bank Market Data"
      ]
    },
    {
      "cell_type": "code",
      "execution_count": null,
      "metadata": {
        "id": "fEDx5YW84Hus"
      },
      "outputs": [],
      "source": [
        "bank_data.info()"
      ]
    },
    {
      "cell_type": "code",
      "execution_count": null,
      "metadata": {
        "id": "xhifrsoQ3DRl"
      },
      "outputs": [],
      "source": [
        "bank_data[\"y\"].value_counts()\n",
        "bank_data[\"y_num\"]=bank_data[\"y\"].map({\"no\":0, \"yes\":1})\n",
        "bank_data[\"y_num\"].value_counts()"
      ]
    },
    {
      "cell_type": "code",
      "execution_count": null,
      "metadata": {
        "id": "KIyAm4JM232A"
      },
      "outputs": [],
      "source": [
        "final_data=bank_data[[\"age\",\"balance\", \"y_num\"]]\n",
        "iv_woe(data=final_data, target= \"y_num\")"
      ]
    },
    {
      "cell_type": "markdown",
      "metadata": {
        "id": "NaePiEssyABO"
      },
      "source": [
        "### IV on Credit Risk Data"
      ]
    },
    {
      "cell_type": "code",
      "execution_count": null,
      "metadata": {
        "id": "ypWb0aDnx0Pm"
      },
      "outputs": [],
      "source": [
        "final_data=credit_risk.drop([\"Sr_No\"], axis=1)\n",
        "iv_woe(data=final_data, target= \"SeriousDlqin2yrs\")"
      ]
    },
    {
      "cell_type": "markdown",
      "metadata": {
        "id": "wL-5AZe5No2b"
      },
      "source": [
        "## Information Gain  (IG)"
      ]
    },
    {
      "cell_type": "code",
      "execution_count": null,
      "metadata": {
        "id": "unTMYUTBNvx8"
      },
      "outputs": [],
      "source": [
        "def IG_Cal(input_df, target_col):\n",
        "  result_DF=pd.DataFrame()\n",
        "  from sklearn import tree\n",
        "  import matplotlib.pyplot as plt\n",
        "  from sklearn.tree import plot_tree, export_text\n",
        "\n",
        "  for col in input_df.drop(target_col, axis=1).columns.values:\n",
        "    features= [col]\n",
        "    X = input_df[features]\n",
        "    y = input_df[target_col]\n",
        "    DTree = tree.DecisionTreeClassifier(criterion=\"entropy\" ,max_depth=1)\n",
        "    DTree.fit(X,y)\n",
        "\n",
        "\n",
        "    plot_tree(DTree, filled=True,\n",
        "                     rounded=True,\n",
        "                     impurity=True,\n",
        "                     feature_names = features)\n",
        "    plt.show()\n",
        "\n",
        "    #Entropy and Information Gain\n",
        "    entropy_array=DTree.tree_.impurity\n",
        "    node_size=DTree.tree_.weighted_n_node_samples\n",
        "\n",
        "    information_gain=entropy_array[0]-((node_size[1]/node_size[0])*entropy_array[1] + (node_size[2]/node_size[0])*entropy_array[2])\n",
        "    print(\"Information_gain for the feature \", features, \" is \", round(information_gain*100,3) , \"%\")\n",
        "\n",
        "    temp =pd.DataFrame({\"Variable\" : [col], \"IG\" :[information_gain*100]}, columns = [\"Variable\", \"IG\"])\n",
        "    result_DF=pd.concat([result_DF,temp], axis=0)\n",
        "\n",
        "  print(\"===================\\n\")\n",
        "  print(result_DF.sort_values(by=\"IG\", ascending=False))"
      ]
    },
    {
      "cell_type": "code",
      "execution_count": null,
      "metadata": {
        "id": "H-RDCX5FpbWw"
      },
      "outputs": [],
      "source": [
        "final_data=bank_data[[\"age\",\"balance\", \"y_num\"]]\n",
        "IG_Cal(final_data, \"y_num\")"
      ]
    },
    {
      "cell_type": "code",
      "execution_count": null,
      "metadata": {
        "id": "MCKU2Fq-mak_"
      },
      "outputs": [],
      "source": [
        "IG_Cal(credit_risk,'SeriousDlqin2yrs')"
      ]
    },
    {
      "cell_type": "markdown",
      "metadata": {
        "id": "s4fSKK6iJJE9"
      },
      "source": [
        "# Categorical(X) vs. Continuous (Y)"
      ]
    },
    {
      "cell_type": "markdown",
      "metadata": {
        "id": "JK-pcQ4xJ3eL"
      },
      "source": [
        "# Testing of Hypothesis"
      ]
    },
    {
      "cell_type": "code",
      "execution_count": null,
      "metadata": {
        "id": "2xZ9Of6gNhEy"
      },
      "outputs": [],
      "source": [
        "import pandas as pd\n",
        "from scipy import stats\n",
        "from statsmodels.stats import weightstats as stests"
      ]
    },
    {
      "cell_type": "markdown",
      "metadata": {
        "id": "0LYZiAdxvhq1"
      },
      "source": [
        "### Test for Single Mean"
      ]
    },
    {
      "cell_type": "code",
      "execution_count": null,
      "metadata": {
        "id": "1-Pejfx-JPOA"
      },
      "outputs": [],
      "source": [
        "sales_sample=sales_data.sample(n=100,random_state=55)\n",
        "\n",
        "ztest ,pval = stests.ztest(sales_sample[\"Customers\"], x2=None, value=700)\n",
        "print(ztest)\n",
        "print(\"P-Value\", float(pval))\n",
        "\n",
        "if pval<0.05:\n",
        "    print(\"reject null hypothesis\")\n",
        "else:\n",
        "    print(\"accept null hypothesis\")"
      ]
    },
    {
      "cell_type": "markdown",
      "metadata": {
        "id": "UnohhYTbvnTN"
      },
      "source": [
        "### Test for Two Means"
      ]
    },
    {
      "cell_type": "code",
      "execution_count": null,
      "metadata": {
        "id": "ijNoMAX-vqka"
      },
      "outputs": [],
      "source": [
        "sales_sample=sales_data.sample(n=100,random_state=55)\n",
        "\n",
        "ztest ,pval = stests.ztest(sales_sample[\"Sales\"][sales_sample[\"Promo\"]==0],\n",
        "                           sales_sample[\"Sales\"][sales_sample[\"Promo\"]==1])\n",
        "print(ztest)\n",
        "print(\"P-Value\", float(pval))\n",
        "\n",
        "if pval<0.05:\n",
        "    print(\"reject null hypothesis\")\n",
        "else:\n",
        "    print(\"accept null hypothesis\")"
      ]
    },
    {
      "cell_type": "markdown",
      "metadata": {
        "id": "vfXeaRm5x2Bz"
      },
      "source": [
        "### Testing Multiple Means"
      ]
    },
    {
      "cell_type": "code",
      "execution_count": null,
      "metadata": {
        "id": "aUNVRSdbx474"
      },
      "outputs": [],
      "source": [
        "sales_sample=sales_data.sample(n=300,random_state=55)\n",
        "\n",
        "F, p = stats.f_oneway(sales_sample[\"Sales\"][sales_sample[\"StoreType\"]==\"c\"],\n",
        "                      sales_sample[\"Sales\"][sales_sample[\"StoreType\"]==\"b\"],\n",
        "                      sales_sample[\"Sales\"][sales_sample[\"StoreType\"]==\"c\"],\n",
        "                      sales_sample[\"Sales\"][sales_sample[\"StoreType\"]==\"d\"]\n",
        "                      )\n",
        "print(\"p-value for significance is: \", p)\n",
        "if p<0.05:\n",
        "    print(\"reject null hypothesis\")\n",
        "else:\n",
        "    print(\"accept null hypothesis\")\n"
      ]
    },
    {
      "cell_type": "code",
      "execution_count": null,
      "metadata": {
        "id": "lsp8pnsCWRat"
      },
      "outputs": [],
      "source": [
        "F, p = stats.f_oneway(sales_sample[\"Customers\"][sales_sample[\"DayOfWeek\"]==2],\n",
        "                      sales_sample[\"Customers\"][sales_sample[\"DayOfWeek\"]==3],\n",
        "                      sales_sample[\"Customers\"][sales_sample[\"DayOfWeek\"]==4])\n",
        "print(\"p-value for significance is: \", p)\n",
        "if p<0.05:\n",
        "    print(\"reject null hypothesis\")\n",
        "else:\n",
        "    print(\"accept null hypothesis\")"
      ]
    },
    {
      "cell_type": "markdown",
      "metadata": {
        "id": "OHa0AjiqxscS"
      },
      "source": [
        "## IG For Continuous Target"
      ]
    },
    {
      "cell_type": "code",
      "execution_count": null,
      "metadata": {
        "id": "qL4DNJSOxVAR"
      },
      "outputs": [],
      "source": [
        "def IG_Cal_Type2(input_df, target_col):\n",
        "  result_DF=pd.DataFrame()\n",
        "  from sklearn import tree\n",
        "  import matplotlib.pyplot as plt\n",
        "  from sklearn.tree import plot_tree, export_text\n",
        "\n",
        "  for col in input_df.drop(target_col, axis=1).columns.values:\n",
        "    features= [col]\n",
        "    X = input_df[features]\n",
        "    y = input_df[target_col]\n",
        "    DTree = tree.DecisionTreeRegressor(criterion=\"mse\" ,max_depth=1)\n",
        "    DTree.fit(X,y)\n",
        "\n",
        "\n",
        "    plot_tree(DTree, filled=True,\n",
        "                     rounded=True,\n",
        "                     impurity=True,\n",
        "                     feature_names = features)\n",
        "    plt.show()\n",
        "\n",
        "    #MSE and Information Gain\n",
        "    entropy_array=DTree.tree_.impurity\n",
        "    node_size=DTree.tree_.weighted_n_node_samples\n",
        "\n",
        "    information_gain=(entropy_array[0]-((node_size[1]/node_size[0])*entropy_array[1] + (node_size[2]/node_size[0])*entropy_array[2]))/entropy_array[0]\n",
        "    print(\"Information_gain for the feature \", features, \" is \", information_gain*100 )\n",
        "\n",
        "    temp =pd.DataFrame({\"Variable\" : [col], \"IG\" :[information_gain*100]}, columns = [\"Variable\", \"IG\"])\n",
        "    result_DF=pd.concat([result_DF,temp], axis=0)\n",
        "\n",
        "  print(\"===================\\n\")\n",
        "  print(result_DF.sort_values(by=\"IG\", ascending=False))"
      ]
    },
    {
      "cell_type": "markdown",
      "metadata": {
        "id": "or009ADx363Y"
      },
      "source": [
        "Rossmann Store Sales Data"
      ]
    },
    {
      "cell_type": "code",
      "execution_count": null,
      "metadata": {
        "id": "g62uMkM-xmNm"
      },
      "outputs": [],
      "source": [
        "final_data=sales_data[[\"Promo\",\t\"SchoolHoliday\",\"DayOfWeek\", \"Sales\"]]\n",
        "IG_Cal_Type2(input_df=final_data, target_col=\"Sales\")"
      ]
    },
    {
      "cell_type": "markdown",
      "metadata": {
        "id": "t7no-oG_CVqo"
      },
      "source": [
        "# Categorical(X) vs Categorical(Y)"
      ]
    },
    {
      "cell_type": "markdown",
      "metadata": {
        "id": "febeO9T1wIYQ"
      },
      "source": [
        "## Bar Chart for categorical variable comparison"
      ]
    },
    {
      "cell_type": "code",
      "execution_count": null,
      "metadata": {
        "id": "bi3QwefdEV7o"
      },
      "outputs": [],
      "source": [
        "sns.countplot(y=\"education\",  data=bank_data[bank_data[\"y\"]==\"no\"], color=\"red\")\n",
        "sns.countplot(y=\"education\",  data=bank_data[bank_data[\"y\"]==\"yes\"], color=\"green\")"
      ]
    },
    {
      "cell_type": "code",
      "execution_count": null,
      "metadata": {
        "id": "y0gS01rjtL20"
      },
      "outputs": [],
      "source": [
        "plt.figure()\n",
        "for col in categorical_cols:\n",
        "  sns.countplot(y=col,  data=bank_data[bank_data[\"y\"]==\"no\"], color=\"red\")\n",
        "  sns.countplot(y=col,  data=bank_data[bank_data[\"y\"]==\"yes\"], color=\"green\")\n",
        "  plt.title([col + \" Bar plot\"])\n",
        "  plt.show()\n"
      ]
    },
    {
      "cell_type": "code",
      "execution_count": null,
      "metadata": {
        "id": "mKCo7Zse4OFv"
      },
      "outputs": [],
      "source": [
        "plt.figure()\n",
        "for col in categorical_cols:\n",
        "  sns.countplot(y=col,  data=bank_data,hue=\"y\")\n",
        "  plt.title([col + \" Bar plot\"])\n",
        "  plt.show()"
      ]
    },
    {
      "cell_type": "markdown",
      "metadata": {
        "id": "EN-SDMkM5Dcc"
      },
      "source": [
        "## Cross Tables"
      ]
    },
    {
      "cell_type": "code",
      "execution_count": null,
      "metadata": {
        "id": "0HQmodAI4jTh"
      },
      "outputs": [],
      "source": [
        "for col in categorical_cols:\n",
        "  print(pd.crosstab(bank_data[col], bank_data['y']))"
      ]
    },
    {
      "cell_type": "code",
      "execution_count": null,
      "metadata": {
        "id": "VK3zXzGm5a1b"
      },
      "outputs": [],
      "source": [
        "for col in categorical_cols:\n",
        "  print(pd.crosstab(bank_data[col], bank_data['y'], margins=True))\n",
        "  print(\"============================\\n\")"
      ]
    },
    {
      "cell_type": "markdown",
      "metadata": {
        "id": "rz51rntSJ4aI"
      },
      "source": [
        "## Chi-Square Test of Independence"
      ]
    },
    {
      "cell_type": "code",
      "execution_count": null,
      "metadata": {
        "id": "v6OSGVIIJ248"
      },
      "outputs": [],
      "source": [
        "bank_data_sample=bank_data.sample(300)\n",
        "import scipy.stats as stats\n",
        "\n",
        "for col in categorical_cols:\n",
        "  crosstab =pd.crosstab(bank_data_sample[col], bank_data_sample['y'])\n",
        "  print(crosstab)\n",
        "  Chi=stats.chi2_contingency(crosstab)\n",
        "  p=Chi[1]\n",
        "  print(\"p-value for significance is: \",p )\n",
        "  if p<0.05:\n",
        "    print(\"reject null hypothesis\")\n",
        "  else:\n",
        "    print(\"accept null hypothesis\")\n",
        "  print(\"============================\\n\")"
      ]
    },
    {
      "cell_type": "markdown",
      "metadata": {
        "id": "mmfIJuXnesat"
      },
      "source": [
        "## IG For Categorical Target"
      ]
    },
    {
      "cell_type": "code",
      "execution_count": null,
      "metadata": {
        "id": "u5oX_S2Texa5"
      },
      "outputs": [],
      "source": [
        "bank_data[\"y_num\"]=bank_data[\"y\"].map({\"no\":0, \"yes\":1})\n",
        "bank_data[\"housing_num\"]=bank_data[\"housing\"].map({\"no\":0, \"yes\":1})\n",
        "bank_data[\"loan_num\"]=bank_data[\"loan\"].map({\"no\":0, \"yes\":1})"
      ]
    },
    {
      "cell_type": "code",
      "execution_count": null,
      "metadata": {
        "id": "lLxGcWZKfe94"
      },
      "outputs": [],
      "source": [
        "final_data=bank_data[[\"loan_num\",\"housing_num\", \"y_num\"]]\n",
        "IG_Cal(final_data, \"y_num\")"
      ]
    },
    {
      "cell_type": "markdown",
      "metadata": {
        "id": "Z3Nrk1u9TUbT"
      },
      "source": [
        "# Multivariate Effect Detection"
      ]
    },
    {
      "cell_type": "code",
      "execution_count": null,
      "metadata": {
        "id": "zgDHYv8GfvQC"
      },
      "outputs": [],
      "source": [
        "def Multi_level_Tree(input_df, target_col, levels):\n",
        "  from sklearn import tree\n",
        "  import matplotlib.pyplot as plt\n",
        "  from sklearn.tree import plot_tree, export_text\n",
        "\n",
        "  features= input_df.drop(target_col, axis=1).columns.values\n",
        "  X = input_df[features]\n",
        "  y = input_df[target_col]\n",
        "  DTree = tree.DecisionTreeClassifier(criterion=\"entropy\" ,max_depth=levels)\n",
        "  DTree.fit(X,y)\n",
        "  plt.figure(figsize=(15,7))\n",
        "  plot_tree(DTree, filled=True,\n",
        "                    rounded=True,\n",
        "                    impurity=True,\n",
        "                    feature_names = features)\n",
        "  plt.show()\n",
        "  print([[i, features[i]] for i in range(len(features))])\n",
        "  print(export_text(DTree))"
      ]
    },
    {
      "cell_type": "code",
      "execution_count": null,
      "metadata": {
        "id": "nXY3RsZ1UKVW"
      },
      "outputs": [],
      "source": [
        "Multi_level_Tree(input_df=credit_risk, target_col=\"SeriousDlqin2yrs\", levels=2)"
      ]
    },
    {
      "cell_type": "code",
      "execution_count": null,
      "metadata": {
        "id": "4uHN7qz-VnlJ"
      },
      "outputs": [],
      "source": [
        "Multi_level_Tree(input_df=credit_risk, target_col=\"SeriousDlqin2yrs\", levels=3)"
      ]
    },
    {
      "cell_type": "markdown",
      "metadata": {
        "id": "acd7H_8XlXt0"
      },
      "source": [
        "## Multivariate Interaction Effect for Regression"
      ]
    },
    {
      "cell_type": "code",
      "execution_count": null,
      "metadata": {
        "id": "kscIWMo1lYTy"
      },
      "outputs": [],
      "source": [
        "def Multi_level_Tree_Reg(input_df, target_col, levels):\n",
        "  from sklearn import tree\n",
        "  import matplotlib.pyplot as plt\n",
        "  from sklearn.tree import plot_tree, export_text\n",
        "\n",
        "  features= input_df.drop(target_col, axis=1).columns.values\n",
        "  X = input_df[features]\n",
        "  y = input_df[target_col]\n",
        "  DTree = tree.DecisionTreeRegressor(criterion=\"mse\" ,max_depth=levels)\n",
        "  DTree.fit(X,y)\n",
        "  plt.figure(figsize=(15,7))\n",
        "  plot_tree(DTree, filled=True,\n",
        "                    rounded=True,\n",
        "                    impurity=True,\n",
        "                    feature_names = features)\n",
        "  plt.show()\n",
        "  print([[i, features[i]] for i in range(len(features))])\n",
        "  print(export_text(DTree))"
      ]
    },
    {
      "cell_type": "code",
      "execution_count": null,
      "metadata": {
        "id": "pszAMN58l0xB"
      },
      "outputs": [],
      "source": [
        "sales_data.info()"
      ]
    },
    {
      "cell_type": "code",
      "execution_count": null,
      "metadata": {
        "id": "RLkqFPgwlgHO"
      },
      "outputs": [],
      "source": [
        "final_data=sales_data[[\"Promo\",\t\"SchoolHoliday\",\"DayOfWeek\", \"Sales\",\"CompetitionDistance\",\"Promo2\"]]\n",
        "Multi_level_Tree_Reg(input_df=final_data, target_col=\"Sales\",levels=2)"
      ]
    },
    {
      "cell_type": "code",
      "execution_count": null,
      "metadata": {
        "id": "nfoaVXmlmBGo"
      },
      "outputs": [],
      "source": []
    }
  ],
  "metadata": {
    "colab": {
      "provenance": [],
      "toc_visible": true
    },
    "kernelspec": {
      "display_name": "base",
      "language": "python",
      "name": "python3"
    },
    "language_info": {
      "codemirror_mode": {
        "name": "ipython",
        "version": 3
      },
      "file_extension": ".py",
      "mimetype": "text/x-python",
      "name": "python",
      "nbconvert_exporter": "python",
      "pygments_lexer": "ipython3",
      "version": "3.11.5"
    }
  },
  "nbformat": 4,
  "nbformat_minor": 0
}
