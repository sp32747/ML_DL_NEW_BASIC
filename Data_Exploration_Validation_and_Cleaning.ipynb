{
  "cells": [
    {
      "cell_type": "code",
      "execution_count": 1,
      "metadata": {
        "id": "d6ckZt9dqZQi"
      },
      "outputs": [],
      "source": [
        "import matplotlib.pyplot as plt\n",
        "import pandas as pd\n",
        "import seaborn as sns"
      ]
    },
    {
      "cell_type": "markdown",
      "metadata": {
        "id": "qQD1LWFDGwLR"
      },
      "source": [
        "# Import Give me some Credit\\cs-training.csv"
      ]
    },
    {
      "cell_type": "code",
      "execution_count": 2,
      "metadata": {
        "id": "MUrAq-D0GtzX"
      },
      "outputs": [],
      "source": [
        "loans=pd.read_csv(\"data/cs-training.csv\")"
      ]
    },
    {
      "cell_type": "code",
      "execution_count": 3,
      "metadata": {
        "id": "JoB6jGmLtvSt"
      },
      "outputs": [
        {
          "name": "stdout",
          "output_type": "stream",
          "text": [
            "<class 'pandas.core.frame.DataFrame'>\n",
            "RangeIndex: 150000 entries, 0 to 149999\n",
            "Data columns (total 12 columns):\n",
            " #   Column                                Non-Null Count   Dtype  \n",
            "---  ------                                --------------   -----  \n",
            " 0   Sr_No                                 150000 non-null  int64  \n",
            " 1   SeriousDlqin2yrs                      150000 non-null  int64  \n",
            " 2   monthly_utilization                   150000 non-null  float64\n",
            " 3   age                                   150000 non-null  int64  \n",
            " 4   NumberOfTime30-59DaysPastDueNotWorse  150000 non-null  int64  \n",
            " 5   DebtRatio                             150000 non-null  float64\n",
            " 6   MonthlyIncome                         120269 non-null  float64\n",
            " 7   NumberOfOpenCreditLinesAndLoans       150000 non-null  int64  \n",
            " 8   NumberOfTimes90DaysLate               150000 non-null  int64  \n",
            " 9   NumberRealEstateLoansOrLines          150000 non-null  int64  \n",
            " 10  NumberOfTime60-89DaysPastDueNotWorse  150000 non-null  int64  \n",
            " 11  NumberOfDependents                    146076 non-null  float64\n",
            "dtypes: float64(4), int64(8)\n",
            "memory usage: 13.7 MB\n"
          ]
        }
      ],
      "source": [
        "loans.info()"
      ]
    },
    {
      "cell_type": "code",
      "execution_count": 4,
      "metadata": {},
      "outputs": [
        {
          "data": {
            "text/html": [
              "<div>\n",
              "<style scoped>\n",
              "    .dataframe tbody tr th:only-of-type {\n",
              "        vertical-align: middle;\n",
              "    }\n",
              "\n",
              "    .dataframe tbody tr th {\n",
              "        vertical-align: top;\n",
              "    }\n",
              "\n",
              "    .dataframe thead th {\n",
              "        text-align: right;\n",
              "    }\n",
              "</style>\n",
              "<table border=\"1\" class=\"dataframe\">\n",
              "  <thead>\n",
              "    <tr style=\"text-align: right;\">\n",
              "      <th></th>\n",
              "      <th>Sr_No</th>\n",
              "      <th>SeriousDlqin2yrs</th>\n",
              "      <th>monthly_utilization</th>\n",
              "      <th>age</th>\n",
              "      <th>NumberOfTime30-59DaysPastDueNotWorse</th>\n",
              "      <th>DebtRatio</th>\n",
              "      <th>MonthlyIncome</th>\n",
              "      <th>NumberOfOpenCreditLinesAndLoans</th>\n",
              "      <th>NumberOfTimes90DaysLate</th>\n",
              "      <th>NumberRealEstateLoansOrLines</th>\n",
              "      <th>NumberOfTime60-89DaysPastDueNotWorse</th>\n",
              "      <th>NumberOfDependents</th>\n",
              "    </tr>\n",
              "  </thead>\n",
              "  <tbody>\n",
              "    <tr>\n",
              "      <th>0</th>\n",
              "      <td>1</td>\n",
              "      <td>1</td>\n",
              "      <td>0.766127</td>\n",
              "      <td>45</td>\n",
              "      <td>2</td>\n",
              "      <td>0.802982</td>\n",
              "      <td>9120.0</td>\n",
              "      <td>13</td>\n",
              "      <td>0</td>\n",
              "      <td>6</td>\n",
              "      <td>0</td>\n",
              "      <td>2.0</td>\n",
              "    </tr>\n",
              "    <tr>\n",
              "      <th>1</th>\n",
              "      <td>2</td>\n",
              "      <td>0</td>\n",
              "      <td>0.957151</td>\n",
              "      <td>40</td>\n",
              "      <td>0</td>\n",
              "      <td>0.121876</td>\n",
              "      <td>2600.0</td>\n",
              "      <td>4</td>\n",
              "      <td>0</td>\n",
              "      <td>0</td>\n",
              "      <td>0</td>\n",
              "      <td>1.0</td>\n",
              "    </tr>\n",
              "    <tr>\n",
              "      <th>2</th>\n",
              "      <td>3</td>\n",
              "      <td>0</td>\n",
              "      <td>0.658180</td>\n",
              "      <td>38</td>\n",
              "      <td>1</td>\n",
              "      <td>0.085113</td>\n",
              "      <td>3042.0</td>\n",
              "      <td>2</td>\n",
              "      <td>1</td>\n",
              "      <td>0</td>\n",
              "      <td>0</td>\n",
              "      <td>0.0</td>\n",
              "    </tr>\n",
              "    <tr>\n",
              "      <th>3</th>\n",
              "      <td>4</td>\n",
              "      <td>0</td>\n",
              "      <td>0.233810</td>\n",
              "      <td>30</td>\n",
              "      <td>0</td>\n",
              "      <td>0.036050</td>\n",
              "      <td>3300.0</td>\n",
              "      <td>5</td>\n",
              "      <td>0</td>\n",
              "      <td>0</td>\n",
              "      <td>0</td>\n",
              "      <td>0.0</td>\n",
              "    </tr>\n",
              "    <tr>\n",
              "      <th>4</th>\n",
              "      <td>5</td>\n",
              "      <td>0</td>\n",
              "      <td>0.907239</td>\n",
              "      <td>49</td>\n",
              "      <td>1</td>\n",
              "      <td>0.024926</td>\n",
              "      <td>63588.0</td>\n",
              "      <td>7</td>\n",
              "      <td>0</td>\n",
              "      <td>1</td>\n",
              "      <td>0</td>\n",
              "      <td>0.0</td>\n",
              "    </tr>\n",
              "  </tbody>\n",
              "</table>\n",
              "</div>"
            ],
            "text/plain": [
              "   Sr_No  SeriousDlqin2yrs  monthly_utilization  age  \\\n",
              "0      1                 1             0.766127   45   \n",
              "1      2                 0             0.957151   40   \n",
              "2      3                 0             0.658180   38   \n",
              "3      4                 0             0.233810   30   \n",
              "4      5                 0             0.907239   49   \n",
              "\n",
              "   NumberOfTime30-59DaysPastDueNotWorse  DebtRatio  MonthlyIncome  \\\n",
              "0                                     2   0.802982         9120.0   \n",
              "1                                     0   0.121876         2600.0   \n",
              "2                                     1   0.085113         3042.0   \n",
              "3                                     0   0.036050         3300.0   \n",
              "4                                     1   0.024926        63588.0   \n",
              "\n",
              "   NumberOfOpenCreditLinesAndLoans  NumberOfTimes90DaysLate  \\\n",
              "0                               13                        0   \n",
              "1                                4                        0   \n",
              "2                                2                        1   \n",
              "3                                5                        0   \n",
              "4                                7                        0   \n",
              "\n",
              "   NumberRealEstateLoansOrLines  NumberOfTime60-89DaysPastDueNotWorse  \\\n",
              "0                             6                                     0   \n",
              "1                             0                                     0   \n",
              "2                             0                                     0   \n",
              "3                             0                                     0   \n",
              "4                             1                                     0   \n",
              "\n",
              "   NumberOfDependents  \n",
              "0                 2.0  \n",
              "1                 1.0  \n",
              "2                 0.0  \n",
              "3                 0.0  \n",
              "4                 0.0  "
            ]
          },
          "execution_count": 4,
          "metadata": {},
          "output_type": "execute_result"
        }
      ],
      "source": [
        "loans.head(5)"
      ]
    },
    {
      "cell_type": "code",
      "execution_count": 5,
      "metadata": {
        "id": "cxPOj-WGG_FW"
      },
      "outputs": [
        {
          "data": {
            "text/plain": [
              "(150000, 12)"
            ]
          },
          "execution_count": 5,
          "metadata": {},
          "output_type": "execute_result"
        }
      ],
      "source": [
        "#What are number of rows and columns\n",
        "loans.shape"
      ]
    },
    {
      "cell_type": "code",
      "execution_count": 6,
      "metadata": {
        "id": "juhGnYpCHYaW"
      },
      "outputs": [
        {
          "data": {
            "text/plain": [
              "array(['Sr_No', 'SeriousDlqin2yrs', 'monthly_utilization', 'age',\n",
              "       'NumberOfTime30-59DaysPastDueNotWorse', 'DebtRatio',\n",
              "       'MonthlyIncome', 'NumberOfOpenCreditLinesAndLoans',\n",
              "       'NumberOfTimes90DaysLate', 'NumberRealEstateLoansOrLines',\n",
              "       'NumberOfTime60-89DaysPastDueNotWorse', 'NumberOfDependents'],\n",
              "      dtype=object)"
            ]
          },
          "execution_count": 6,
          "metadata": {},
          "output_type": "execute_result"
        }
      ],
      "source": [
        "#Are there any suspicious variables?\n",
        "loans.columns.values"
      ]
    },
    {
      "cell_type": "code",
      "execution_count": 7,
      "metadata": {
        "id": "Aoq0EXaDHZht"
      },
      "outputs": [
        {
          "data": {
            "text/plain": [
              "Sr_No                                     int64\n",
              "SeriousDlqin2yrs                          int64\n",
              "monthly_utilization                     float64\n",
              "age                                       int64\n",
              "NumberOfTime30-59DaysPastDueNotWorse      int64\n",
              "DebtRatio                               float64\n",
              "MonthlyIncome                           float64\n",
              "NumberOfOpenCreditLinesAndLoans           int64\n",
              "NumberOfTimes90DaysLate                   int64\n",
              "NumberRealEstateLoansOrLines              int64\n",
              "NumberOfTime60-89DaysPastDueNotWorse      int64\n",
              "NumberOfDependents                      float64\n",
              "dtype: object"
            ]
          },
          "execution_count": 7,
          "metadata": {},
          "output_type": "execute_result"
        }
      ],
      "source": [
        "#Display the variable formats\n",
        "loans.dtypes"
      ]
    },
    {
      "cell_type": "code",
      "execution_count": 8,
      "metadata": {
        "id": "kocke9VpHaqS"
      },
      "outputs": [
        {
          "data": {
            "text/html": [
              "<div>\n",
              "<style scoped>\n",
              "    .dataframe tbody tr th:only-of-type {\n",
              "        vertical-align: middle;\n",
              "    }\n",
              "\n",
              "    .dataframe tbody tr th {\n",
              "        vertical-align: top;\n",
              "    }\n",
              "\n",
              "    .dataframe thead th {\n",
              "        text-align: right;\n",
              "    }\n",
              "</style>\n",
              "<table border=\"1\" class=\"dataframe\">\n",
              "  <thead>\n",
              "    <tr style=\"text-align: right;\">\n",
              "      <th></th>\n",
              "      <th>Sr_No</th>\n",
              "      <th>SeriousDlqin2yrs</th>\n",
              "      <th>monthly_utilization</th>\n",
              "      <th>age</th>\n",
              "      <th>NumberOfTime30-59DaysPastDueNotWorse</th>\n",
              "      <th>DebtRatio</th>\n",
              "      <th>MonthlyIncome</th>\n",
              "      <th>NumberOfOpenCreditLinesAndLoans</th>\n",
              "      <th>NumberOfTimes90DaysLate</th>\n",
              "      <th>NumberRealEstateLoansOrLines</th>\n",
              "      <th>NumberOfTime60-89DaysPastDueNotWorse</th>\n",
              "      <th>NumberOfDependents</th>\n",
              "    </tr>\n",
              "  </thead>\n",
              "  <tbody>\n",
              "    <tr>\n",
              "      <th>0</th>\n",
              "      <td>1</td>\n",
              "      <td>1</td>\n",
              "      <td>0.766127</td>\n",
              "      <td>45</td>\n",
              "      <td>2</td>\n",
              "      <td>0.802982</td>\n",
              "      <td>9120.0</td>\n",
              "      <td>13</td>\n",
              "      <td>0</td>\n",
              "      <td>6</td>\n",
              "      <td>0</td>\n",
              "      <td>2.0</td>\n",
              "    </tr>\n",
              "    <tr>\n",
              "      <th>1</th>\n",
              "      <td>2</td>\n",
              "      <td>0</td>\n",
              "      <td>0.957151</td>\n",
              "      <td>40</td>\n",
              "      <td>0</td>\n",
              "      <td>0.121876</td>\n",
              "      <td>2600.0</td>\n",
              "      <td>4</td>\n",
              "      <td>0</td>\n",
              "      <td>0</td>\n",
              "      <td>0</td>\n",
              "      <td>1.0</td>\n",
              "    </tr>\n",
              "    <tr>\n",
              "      <th>2</th>\n",
              "      <td>3</td>\n",
              "      <td>0</td>\n",
              "      <td>0.658180</td>\n",
              "      <td>38</td>\n",
              "      <td>1</td>\n",
              "      <td>0.085113</td>\n",
              "      <td>3042.0</td>\n",
              "      <td>2</td>\n",
              "      <td>1</td>\n",
              "      <td>0</td>\n",
              "      <td>0</td>\n",
              "      <td>0.0</td>\n",
              "    </tr>\n",
              "    <tr>\n",
              "      <th>3</th>\n",
              "      <td>4</td>\n",
              "      <td>0</td>\n",
              "      <td>0.233810</td>\n",
              "      <td>30</td>\n",
              "      <td>0</td>\n",
              "      <td>0.036050</td>\n",
              "      <td>3300.0</td>\n",
              "      <td>5</td>\n",
              "      <td>0</td>\n",
              "      <td>0</td>\n",
              "      <td>0</td>\n",
              "      <td>0.0</td>\n",
              "    </tr>\n",
              "    <tr>\n",
              "      <th>4</th>\n",
              "      <td>5</td>\n",
              "      <td>0</td>\n",
              "      <td>0.907239</td>\n",
              "      <td>49</td>\n",
              "      <td>1</td>\n",
              "      <td>0.024926</td>\n",
              "      <td>63588.0</td>\n",
              "      <td>7</td>\n",
              "      <td>0</td>\n",
              "      <td>1</td>\n",
              "      <td>0</td>\n",
              "      <td>0.0</td>\n",
              "    </tr>\n",
              "    <tr>\n",
              "      <th>5</th>\n",
              "      <td>6</td>\n",
              "      <td>0</td>\n",
              "      <td>0.213179</td>\n",
              "      <td>74</td>\n",
              "      <td>0</td>\n",
              "      <td>0.375607</td>\n",
              "      <td>3500.0</td>\n",
              "      <td>3</td>\n",
              "      <td>0</td>\n",
              "      <td>1</td>\n",
              "      <td>0</td>\n",
              "      <td>1.0</td>\n",
              "    </tr>\n",
              "    <tr>\n",
              "      <th>6</th>\n",
              "      <td>7</td>\n",
              "      <td>0</td>\n",
              "      <td>0.305682</td>\n",
              "      <td>57</td>\n",
              "      <td>0</td>\n",
              "      <td>5710.000000</td>\n",
              "      <td>NaN</td>\n",
              "      <td>8</td>\n",
              "      <td>0</td>\n",
              "      <td>3</td>\n",
              "      <td>0</td>\n",
              "      <td>0.0</td>\n",
              "    </tr>\n",
              "    <tr>\n",
              "      <th>7</th>\n",
              "      <td>8</td>\n",
              "      <td>0</td>\n",
              "      <td>0.754464</td>\n",
              "      <td>39</td>\n",
              "      <td>0</td>\n",
              "      <td>0.209940</td>\n",
              "      <td>3500.0</td>\n",
              "      <td>8</td>\n",
              "      <td>0</td>\n",
              "      <td>0</td>\n",
              "      <td>0</td>\n",
              "      <td>0.0</td>\n",
              "    </tr>\n",
              "    <tr>\n",
              "      <th>8</th>\n",
              "      <td>9</td>\n",
              "      <td>0</td>\n",
              "      <td>0.116951</td>\n",
              "      <td>27</td>\n",
              "      <td>0</td>\n",
              "      <td>46.000000</td>\n",
              "      <td>NaN</td>\n",
              "      <td>2</td>\n",
              "      <td>0</td>\n",
              "      <td>0</td>\n",
              "      <td>0</td>\n",
              "      <td>NaN</td>\n",
              "    </tr>\n",
              "    <tr>\n",
              "      <th>9</th>\n",
              "      <td>10</td>\n",
              "      <td>0</td>\n",
              "      <td>0.189169</td>\n",
              "      <td>57</td>\n",
              "      <td>0</td>\n",
              "      <td>0.606291</td>\n",
              "      <td>23684.0</td>\n",
              "      <td>9</td>\n",
              "      <td>0</td>\n",
              "      <td>4</td>\n",
              "      <td>0</td>\n",
              "      <td>2.0</td>\n",
              "    </tr>\n",
              "  </tbody>\n",
              "</table>\n",
              "</div>"
            ],
            "text/plain": [
              "   Sr_No  SeriousDlqin2yrs  monthly_utilization  age  \\\n",
              "0      1                 1             0.766127   45   \n",
              "1      2                 0             0.957151   40   \n",
              "2      3                 0             0.658180   38   \n",
              "3      4                 0             0.233810   30   \n",
              "4      5                 0             0.907239   49   \n",
              "5      6                 0             0.213179   74   \n",
              "6      7                 0             0.305682   57   \n",
              "7      8                 0             0.754464   39   \n",
              "8      9                 0             0.116951   27   \n",
              "9     10                 0             0.189169   57   \n",
              "\n",
              "   NumberOfTime30-59DaysPastDueNotWorse    DebtRatio  MonthlyIncome  \\\n",
              "0                                     2     0.802982         9120.0   \n",
              "1                                     0     0.121876         2600.0   \n",
              "2                                     1     0.085113         3042.0   \n",
              "3                                     0     0.036050         3300.0   \n",
              "4                                     1     0.024926        63588.0   \n",
              "5                                     0     0.375607         3500.0   \n",
              "6                                     0  5710.000000            NaN   \n",
              "7                                     0     0.209940         3500.0   \n",
              "8                                     0    46.000000            NaN   \n",
              "9                                     0     0.606291        23684.0   \n",
              "\n",
              "   NumberOfOpenCreditLinesAndLoans  NumberOfTimes90DaysLate  \\\n",
              "0                               13                        0   \n",
              "1                                4                        0   \n",
              "2                                2                        1   \n",
              "3                                5                        0   \n",
              "4                                7                        0   \n",
              "5                                3                        0   \n",
              "6                                8                        0   \n",
              "7                                8                        0   \n",
              "8                                2                        0   \n",
              "9                                9                        0   \n",
              "\n",
              "   NumberRealEstateLoansOrLines  NumberOfTime60-89DaysPastDueNotWorse  \\\n",
              "0                             6                                     0   \n",
              "1                             0                                     0   \n",
              "2                             0                                     0   \n",
              "3                             0                                     0   \n",
              "4                             1                                     0   \n",
              "5                             1                                     0   \n",
              "6                             3                                     0   \n",
              "7                             0                                     0   \n",
              "8                             0                                     0   \n",
              "9                             4                                     0   \n",
              "\n",
              "   NumberOfDependents  \n",
              "0                 2.0  \n",
              "1                 1.0  \n",
              "2                 0.0  \n",
              "3                 0.0  \n",
              "4                 0.0  \n",
              "5                 1.0  \n",
              "6                 0.0  \n",
              "7                 0.0  \n",
              "8                 NaN  \n",
              "9                 2.0  "
            ]
          },
          "execution_count": 8,
          "metadata": {},
          "output_type": "execute_result"
        }
      ],
      "source": [
        "#Print the first 10 observations\n",
        "loans.head(10)"
      ]
    },
    {
      "cell_type": "code",
      "execution_count": 9,
      "metadata": {
        "id": "t4DgO4q5Hd8S"
      },
      "outputs": [
        {
          "data": {
            "text/plain": [
              "array(['Sr_No', 'SeriousDlqin2yrs', 'monthly_utilization', 'age',\n",
              "       'NumberOfTime30-59DaysPastDueNotWorse', 'DebtRatio',\n",
              "       'MonthlyIncome', 'NumberOfOpenCreditLinesAndLoans',\n",
              "       'NumberOfTimes90DaysLate', 'NumberRealEstateLoansOrLines',\n",
              "       'NumberOfTime60-89DaysPastDueNotWorse', 'NumberOfDependents'],\n",
              "      dtype=object)"
            ]
          },
          "execution_count": 9,
          "metadata": {},
          "output_type": "execute_result"
        }
      ],
      "source": [
        "#Do we have any unique identifier?\n",
        "loans.columns.values"
      ]
    },
    {
      "cell_type": "markdown",
      "metadata": {
        "id": "ATtndMPSHg9r"
      },
      "source": [
        "# Categorical variables exploration"
      ]
    },
    {
      "cell_type": "code",
      "execution_count": 10,
      "metadata": {
        "id": "S7SiwZFRHfNC"
      },
      "outputs": [
        {
          "data": {
            "text/html": [
              "<div>\n",
              "<style scoped>\n",
              "    .dataframe tbody tr th:only-of-type {\n",
              "        vertical-align: middle;\n",
              "    }\n",
              "\n",
              "    .dataframe tbody tr th {\n",
              "        vertical-align: top;\n",
              "    }\n",
              "\n",
              "    .dataframe thead th {\n",
              "        text-align: right;\n",
              "    }\n",
              "</style>\n",
              "<table border=\"1\" class=\"dataframe\">\n",
              "  <thead>\n",
              "    <tr style=\"text-align: right;\">\n",
              "      <th></th>\n",
              "      <th>Sr_No</th>\n",
              "      <th>SeriousDlqin2yrs</th>\n",
              "      <th>monthly_utilization</th>\n",
              "      <th>age</th>\n",
              "      <th>NumberOfTime30-59DaysPastDueNotWorse</th>\n",
              "      <th>DebtRatio</th>\n",
              "      <th>MonthlyIncome</th>\n",
              "      <th>NumberOfOpenCreditLinesAndLoans</th>\n",
              "      <th>NumberOfTimes90DaysLate</th>\n",
              "      <th>NumberRealEstateLoansOrLines</th>\n",
              "      <th>NumberOfTime60-89DaysPastDueNotWorse</th>\n",
              "      <th>NumberOfDependents</th>\n",
              "    </tr>\n",
              "  </thead>\n",
              "  <tbody>\n",
              "    <tr>\n",
              "      <th>0</th>\n",
              "      <td>1</td>\n",
              "      <td>1</td>\n",
              "      <td>0.766127</td>\n",
              "      <td>45</td>\n",
              "      <td>2</td>\n",
              "      <td>0.802982</td>\n",
              "      <td>9120.0</td>\n",
              "      <td>13</td>\n",
              "      <td>0</td>\n",
              "      <td>6</td>\n",
              "      <td>0</td>\n",
              "      <td>2.0</td>\n",
              "    </tr>\n",
              "    <tr>\n",
              "      <th>1</th>\n",
              "      <td>2</td>\n",
              "      <td>0</td>\n",
              "      <td>0.957151</td>\n",
              "      <td>40</td>\n",
              "      <td>0</td>\n",
              "      <td>0.121876</td>\n",
              "      <td>2600.0</td>\n",
              "      <td>4</td>\n",
              "      <td>0</td>\n",
              "      <td>0</td>\n",
              "      <td>0</td>\n",
              "      <td>1.0</td>\n",
              "    </tr>\n",
              "    <tr>\n",
              "      <th>2</th>\n",
              "      <td>3</td>\n",
              "      <td>0</td>\n",
              "      <td>0.658180</td>\n",
              "      <td>38</td>\n",
              "      <td>1</td>\n",
              "      <td>0.085113</td>\n",
              "      <td>3042.0</td>\n",
              "      <td>2</td>\n",
              "      <td>1</td>\n",
              "      <td>0</td>\n",
              "      <td>0</td>\n",
              "      <td>0.0</td>\n",
              "    </tr>\n",
              "    <tr>\n",
              "      <th>3</th>\n",
              "      <td>4</td>\n",
              "      <td>0</td>\n",
              "      <td>0.233810</td>\n",
              "      <td>30</td>\n",
              "      <td>0</td>\n",
              "      <td>0.036050</td>\n",
              "      <td>3300.0</td>\n",
              "      <td>5</td>\n",
              "      <td>0</td>\n",
              "      <td>0</td>\n",
              "      <td>0</td>\n",
              "      <td>0.0</td>\n",
              "    </tr>\n",
              "    <tr>\n",
              "      <th>4</th>\n",
              "      <td>5</td>\n",
              "      <td>0</td>\n",
              "      <td>0.907239</td>\n",
              "      <td>49</td>\n",
              "      <td>1</td>\n",
              "      <td>0.024926</td>\n",
              "      <td>63588.0</td>\n",
              "      <td>7</td>\n",
              "      <td>0</td>\n",
              "      <td>1</td>\n",
              "      <td>0</td>\n",
              "      <td>0.0</td>\n",
              "    </tr>\n",
              "  </tbody>\n",
              "</table>\n",
              "</div>"
            ],
            "text/plain": [
              "   Sr_No  SeriousDlqin2yrs  monthly_utilization  age  \\\n",
              "0      1                 1             0.766127   45   \n",
              "1      2                 0             0.957151   40   \n",
              "2      3                 0             0.658180   38   \n",
              "3      4                 0             0.233810   30   \n",
              "4      5                 0             0.907239   49   \n",
              "\n",
              "   NumberOfTime30-59DaysPastDueNotWorse  DebtRatio  MonthlyIncome  \\\n",
              "0                                     2   0.802982         9120.0   \n",
              "1                                     0   0.121876         2600.0   \n",
              "2                                     1   0.085113         3042.0   \n",
              "3                                     0   0.036050         3300.0   \n",
              "4                                     1   0.024926        63588.0   \n",
              "\n",
              "   NumberOfOpenCreditLinesAndLoans  NumberOfTimes90DaysLate  \\\n",
              "0                               13                        0   \n",
              "1                                4                        0   \n",
              "2                                2                        1   \n",
              "3                                5                        0   \n",
              "4                                7                        0   \n",
              "\n",
              "   NumberRealEstateLoansOrLines  NumberOfTime60-89DaysPastDueNotWorse  \\\n",
              "0                             6                                     0   \n",
              "1                             0                                     0   \n",
              "2                             0                                     0   \n",
              "3                             0                                     0   \n",
              "4                             1                                     0   \n",
              "\n",
              "   NumberOfDependents  \n",
              "0                 2.0  \n",
              "1                 1.0  \n",
              "2                 0.0  \n",
              "3                 0.0  \n",
              "4                 0.0  "
            ]
          },
          "execution_count": 10,
          "metadata": {},
          "output_type": "execute_result"
        }
      ],
      "source": [
        "#What are the categorical and discrete variables? What are the continues variables.\n",
        "loans.dtypes\n",
        "loans.head()\n"
      ]
    },
    {
      "cell_type": "code",
      "execution_count": 11,
      "metadata": {
        "id": "ASIxF0pWHlAX"
      },
      "outputs": [
        {
          "name": "stdout",
          "output_type": "stream",
          "text": [
            "SeriousDlqin2yrs\n",
            "0    139974\n",
            "1     10026\n",
            "Name: count, dtype: int64\n"
          ]
        },
        {
          "data": {
            "text/plain": [
              "<Axes: xlabel='count', ylabel='SeriousDlqin2yrs'>"
            ]
          },
          "execution_count": 11,
          "metadata": {},
          "output_type": "execute_result"
        },
        {
          "data": {
            "image/png": "[encoded data removed]",
            "text/plain": [
              "<Figure size 640x480 with 1 Axes>"
            ]
          },
          "metadata": {},
          "output_type": "display_data"
        }
      ],
      "source": [
        "print(loans['SeriousDlqin2yrs'].value_counts())\n",
        "sns.countplot(y=\"SeriousDlqin2yrs\",  data=loans)"
      ]
    },
    {
      "cell_type": "code",
      "execution_count": 12,
      "metadata": {
        "id": "JRAEoJwoHm7y"
      },
      "outputs": [
        {
          "name": "stdout",
          "output_type": "stream",
          "text": [
            "age\n",
            "49     3837\n",
            "48     3806\n",
            "50     3753\n",
            "47     3719\n",
            "63     3719\n",
            "       ... \n",
            "102       3\n",
            "109       2\n",
            "107       1\n",
            "105       1\n",
            "0         1\n",
            "Name: count, Length: 86, dtype: int64\n"
          ]
        },
        {
          "data": {
            "text/plain": [
              "<Axes: xlabel='count', ylabel='age'>"
            ]
          },
          "execution_count": 12,
          "metadata": {},
          "output_type": "execute_result"
        },
        {
          "data": {
            "image/png": "[encoded data removed]",
            "text/plain": [
              "<Figure size 640x480 with 1 Axes>"
            ]
          },
          "metadata": {},
          "output_type": "display_data"
        }
      ],
      "source": [
        "print(loans['age'].value_counts())\n",
        "sns.countplot(y=\"age\",  data=loans)"
      ]
    },
    {
      "cell_type": "code",
      "execution_count": 13,
      "metadata": {
        "id": "7GQ5Dz4THnAB"
      },
      "outputs": [
        {
          "name": "stdout",
          "output_type": "stream",
          "text": [
            "NumberOfTime30-59DaysPastDueNotWorse\n",
            "0     126018\n",
            "1      16033\n",
            "2       4598\n",
            "3       1754\n",
            "4        747\n",
            "5        342\n",
            "98       264\n",
            "6        140\n",
            "7         54\n",
            "8         25\n",
            "9         12\n",
            "96         5\n",
            "10         4\n",
            "12         2\n",
            "13         1\n",
            "11         1\n",
            "Name: count, dtype: int64\n"
          ]
        },
        {
          "data": {
            "text/plain": [
              "<Axes: xlabel='count', ylabel='NumberOfTime30-59DaysPastDueNotWorse'>"
            ]
          },
          "execution_count": 13,
          "metadata": {},
          "output_type": "execute_result"
        },
        {
          "data": {
            "image/png": "[encoded data removed]",
            "text/plain": [
              "<Figure size 640x480 with 1 Axes>"
            ]
          },
          "metadata": {},
          "output_type": "display_data"
        }
      ],
      "source": [
        "print(loans['NumberOfTime30-59DaysPastDueNotWorse'].value_counts())\n",
        "sns.countplot(y=\"NumberOfTime30-59DaysPastDueNotWorse\",  data=loans)"
      ]
    },
    {
      "cell_type": "code",
      "execution_count": 14,
      "metadata": {
        "id": "B48hDm6FHnGr"
      },
      "outputs": [
        {
          "name": "stdout",
          "output_type": "stream",
          "text": [
            "NumberOfOpenCreditLinesAndLoans\n",
            "6     13614\n",
            "7     13245\n",
            "5     12931\n",
            "8     12562\n",
            "4     11609\n",
            "9     11355\n",
            "10     9624\n",
            "3      9058\n",
            "11     8321\n",
            "12     7005\n",
            "2      6666\n",
            "13     5667\n",
            "14     4546\n",
            "1      4438\n",
            "15     3645\n",
            "16     3000\n",
            "17     2370\n",
            "0      1888\n",
            "18     1874\n",
            "19     1433\n",
            "20     1169\n",
            "21      864\n",
            "22      685\n",
            "23      533\n",
            "24      422\n",
            "25      337\n",
            "26      239\n",
            "27      194\n",
            "28      150\n",
            "29      114\n",
            "30       88\n",
            "31       74\n",
            "32       52\n",
            "33       47\n",
            "34       35\n",
            "35       27\n",
            "36       18\n",
            "38       13\n",
            "40       10\n",
            "39        9\n",
            "42        8\n",
            "45        8\n",
            "43        8\n",
            "37        7\n",
            "48        6\n",
            "49        4\n",
            "54        4\n",
            "41        4\n",
            "52        3\n",
            "46        3\n",
            "57        2\n",
            "51        2\n",
            "56        2\n",
            "47        2\n",
            "50        2\n",
            "44        2\n",
            "58        1\n",
            "53        1\n",
            "Name: count, dtype: int64\n"
          ]
        },
        {
          "data": {
            "text/plain": [
              "<Axes: xlabel='count', ylabel='NumberOfOpenCreditLinesAndLoans'>"
            ]
          },
          "execution_count": 14,
          "metadata": {},
          "output_type": "execute_result"
        },
        {
          "data": {
            "image/png": "[encoded data removed]",
            "text/plain": [
              "<Figure size 640x480 with 1 Axes>"
            ]
          },
          "metadata": {},
          "output_type": "display_data"
        }
      ],
      "source": [
        "print(loans['NumberOfOpenCreditLinesAndLoans'].value_counts())\n",
        "sns.countplot(y=\"NumberOfOpenCreditLinesAndLoans\",  data=loans)"
      ]
    },
    {
      "cell_type": "code",
      "execution_count": 15,
      "metadata": {
        "id": "92spjYIMHqZi"
      },
      "outputs": [
        {
          "name": "stdout",
          "output_type": "stream",
          "text": [
            "NumberOfTimes90DaysLate\n",
            "0     141662\n",
            "1       5243\n",
            "2       1555\n",
            "3        667\n",
            "4        291\n",
            "98       264\n",
            "5        131\n",
            "6         80\n",
            "7         38\n",
            "8         21\n",
            "9         19\n",
            "10         8\n",
            "96         5\n",
            "11         5\n",
            "13         4\n",
            "15         2\n",
            "14         2\n",
            "12         2\n",
            "17         1\n",
            "Name: count, dtype: int64\n"
          ]
        },
        {
          "data": {
            "text/plain": [
              "<Axes: xlabel='count', ylabel='NumberOfTimes90DaysLate'>"
            ]
          },
          "execution_count": 15,
          "metadata": {},
          "output_type": "execute_result"
        },
        {
          "data": {
            "image/png": "[encoded data removed]",
            "text/plain": [
              "<Figure size 640x480 with 1 Axes>"
            ]
          },
          "metadata": {},
          "output_type": "display_data"
        }
      ],
      "source": [
        "print(loans['NumberOfTimes90DaysLate'].value_counts())\n",
        "sns.countplot(y=\"NumberOfTimes90DaysLate\",  data=loans)"
      ]
    },
    {
      "cell_type": "code",
      "execution_count": 16,
      "metadata": {
        "id": "4LP5V2szHqgt"
      },
      "outputs": [
        {
          "name": "stdout",
          "output_type": "stream",
          "text": [
            "NumberRealEstateLoansOrLines\n",
            "0     56188\n",
            "1     52338\n",
            "2     31522\n",
            "3      6300\n",
            "4      2170\n",
            "5       689\n",
            "6       320\n",
            "7       171\n",
            "8        93\n",
            "9        78\n",
            "10       37\n",
            "11       23\n",
            "12       18\n",
            "13       15\n",
            "15        7\n",
            "14        7\n",
            "17        4\n",
            "16        4\n",
            "25        3\n",
            "18        2\n",
            "23        2\n",
            "19        2\n",
            "20        2\n",
            "26        1\n",
            "54        1\n",
            "21        1\n",
            "29        1\n",
            "32        1\n",
            "Name: count, dtype: int64\n"
          ]
        },
        {
          "data": {
            "text/plain": [
              "<Axes: xlabel='count', ylabel='NumberRealEstateLoansOrLines'>"
            ]
          },
          "execution_count": 16,
          "metadata": {},
          "output_type": "execute_result"
        },
        {
          "data": {
            "image/png": "[encoded data removed]",
            "text/plain": [
              "<Figure size 640x480 with 1 Axes>"
            ]
          },
          "metadata": {},
          "output_type": "display_data"
        }
      ],
      "source": [
        "print(loans['NumberRealEstateLoansOrLines'].value_counts())\n",
        "sns.countplot(y=\"NumberRealEstateLoansOrLines\",  data=loans)"
      ]
    },
    {
      "cell_type": "code",
      "execution_count": 17,
      "metadata": {
        "id": "yChuq-YtHqlD"
      },
      "outputs": [
        {
          "name": "stdout",
          "output_type": "stream",
          "text": [
            "NumberOfTime60-89DaysPastDueNotWorse\n",
            "0     142396\n",
            "1       5731\n",
            "2       1118\n",
            "3        318\n",
            "98       264\n",
            "4        105\n",
            "5         34\n",
            "6         16\n",
            "7          9\n",
            "96         5\n",
            "8          2\n",
            "11         1\n",
            "9          1\n",
            "Name: count, dtype: int64\n"
          ]
        },
        {
          "data": {
            "text/plain": [
              "<Axes: xlabel='count', ylabel='NumberOfTime60-89DaysPastDueNotWorse'>"
            ]
          },
          "execution_count": 17,
          "metadata": {},
          "output_type": "execute_result"
        },
        {
          "data": {
            "image/png": "[encoded data removed]",
            "text/plain": [
              "<Figure size 640x480 with 1 Axes>"
            ]
          },
          "metadata": {},
          "output_type": "display_data"
        }
      ],
      "source": [
        "print(loans['NumberOfTime60-89DaysPastDueNotWorse'].value_counts())\n",
        "sns.countplot(y=\"NumberOfTime60-89DaysPastDueNotWorse\",  data=loans)"
      ]
    },
    {
      "cell_type": "code",
      "execution_count": 36,
      "metadata": {
        "id": "0U4zdFxVHqqg"
      },
      "outputs": [
        {
          "name": "stdout",
          "output_type": "stream",
          "text": [
            "NumberOfDependents\n",
            "0.0     86902\n",
            "1.0     26316\n",
            "2.0     19522\n",
            "3.0      9483\n",
            "4.0      2862\n",
            "5.0       746\n",
            "6.0       158\n",
            "7.0        51\n",
            "8.0        24\n",
            "10.0        5\n",
            "9.0         5\n",
            "20.0        1\n",
            "13.0        1\n",
            "Name: count, dtype: int64\n"
          ]
        },
        {
          "data": {
            "text/plain": [
              "<Axes: xlabel='count', ylabel='NumberOfDependents'>"
            ]
          },
          "execution_count": 36,
          "metadata": {},
          "output_type": "execute_result"
        },
        {
          "data": {
            "image/png": "[encoded data removed]",
            "text/plain": [
              "<Figure size 640x480 with 1 Axes>"
            ]
          },
          "metadata": {},
          "output_type": "display_data"
        }
      ],
      "source": [
        "print(loans['NumberOfDependents'].value_counts())\n",
        "sns.countplot(y=\"NumberOfDependents\",  data=loans)"
      ]
    },
    {
      "cell_type": "code",
      "execution_count": 19,
      "metadata": {
        "id": "26fUFKC_Hx3f"
      },
      "outputs": [
        {
          "data": {
            "text/plain": [
              "Sr_No                                       0\n",
              "SeriousDlqin2yrs                            0\n",
              "monthly_utilization                         0\n",
              "age                                         0\n",
              "NumberOfTime30-59DaysPastDueNotWorse        0\n",
              "DebtRatio                                   0\n",
              "MonthlyIncome                           29731\n",
              "NumberOfOpenCreditLinesAndLoans             0\n",
              "NumberOfTimes90DaysLate                     0\n",
              "NumberRealEstateLoansOrLines                0\n",
              "NumberOfTime60-89DaysPastDueNotWorse        0\n",
              "NumberOfDependents                       3924\n",
              "dtype: int64"
            ]
          },
          "execution_count": 19,
          "metadata": {},
          "output_type": "execute_result"
        }
      ],
      "source": [
        "#Are there any   variables with missing values?\n",
        "loans.isnull().sum()"
      ]
    },
    {
      "cell_type": "markdown",
      "metadata": {
        "id": "kySyhDctI99D"
      },
      "source": [
        "# Continuous variables exploration"
      ]
    },
    {
      "cell_type": "markdown",
      "metadata": {
        "id": "eJ-UyFTdJLml"
      },
      "source": [
        "## RevolvingUtilizationOfUnsecuredLines"
      ]
    },
    {
      "cell_type": "code",
      "execution_count": 20,
      "metadata": {
        "id": "fecfoOK4xpPc"
      },
      "outputs": [
        {
          "data": {
            "text/plain": [
              "{'whiskers': [<matplotlib.lines.Line2D at 0x1e8093299d0>,\n",
              "  <matplotlib.lines.Line2D at 0x1e80932a590>],\n",
              " 'caps': [<matplotlib.lines.Line2D at 0x1e80932b2d0>,\n",
              "  <matplotlib.lines.Line2D at 0x1e80932be50>],\n",
              " 'boxes': [<matplotlib.lines.Line2D at 0x1e809328e10>],\n",
              " 'medians': [<matplotlib.lines.Line2D at 0x1e809334850>],\n",
              " 'fliers': [<matplotlib.lines.Line2D at 0x1e8093353d0>],\n",
              " 'means': []}"
            ]
          },
          "execution_count": 20,
          "metadata": {},
          "output_type": "execute_result"
        },
        {
          "data": {
            "image/png": "[encoded data removed]",
            "text/plain": [
              "<Figure size 640x480 with 1 Axes>"
            ]
          },
          "metadata": {},
          "output_type": "display_data"
        }
      ],
      "source": [
        "plt.boxplot(loans[\"monthly_utilization\"])"
      ]
    },
    {
      "cell_type": "code",
      "execution_count": 21,
      "metadata": {
        "id": "ieOUOfyPyZUF"
      },
      "outputs": [
        {
          "data": {
            "text/plain": [
              "(array([1.49953e+05, 3.10000e+01, 9.00000e+00, 2.00000e+00, 3.00000e+00,\n",
              "        1.00000e+00, 0.00000e+00, 0.00000e+00, 0.00000e+00, 1.00000e+00]),\n",
              " array([    0. ,  5070.8, 10141.6, 15212.4, 20283.2, 25354. , 30424.8,\n",
              "        35495.6, 40566.4, 45637.2, 50708. ]),\n",
              " <BarContainer object of 10 artists>)"
            ]
          },
          "execution_count": 21,
          "metadata": {},
          "output_type": "execute_result"
        },
        {
          "data": {
            "image/png": "[encoded data removed]",
            "text/plain": [
              "<Figure size 640x480 with 1 Axes>"
            ]
          },
          "metadata": {},
          "output_type": "display_data"
        }
      ],
      "source": [
        "plt.hist(loans[\"monthly_utilization\"])"
      ]
    },
    {
      "cell_type": "code",
      "execution_count": 22,
      "metadata": {
        "id": "Al7hSnjAJJ1K"
      },
      "outputs": [
        {
          "data": {
            "text/plain": [
              "0.050        0.00\n",
              "0.100        0.00\n",
              "0.250        0.03\n",
              "0.500        0.15\n",
              "0.750        0.56\n",
              "0.800        0.70\n",
              "0.900        0.98\n",
              "0.910        1.00\n",
              "0.950        1.00\n",
              "0.960        1.00\n",
              "0.970        1.00\n",
              "0.975        1.00\n",
              "0.980        1.01\n",
              "0.990        1.09\n",
              "1.000    50708.00\n",
              "Name: monthly_utilization, dtype: float64"
            ]
          },
          "execution_count": 22,
          "metadata": {},
          "output_type": "execute_result"
        }
      ],
      "source": [
        "util_percentiles=loans['monthly_utilization'].quantile([0.05, 0.1, 0.25, 0.5, 0.75, 0.80, 0.9,0.91,0.95,0.96,0.97,0.975,0.98,0.99,1])\n",
        "round(util_percentiles,2)"
      ]
    },
    {
      "cell_type": "markdown",
      "metadata": {
        "id": "q1U2Cez3JOze"
      },
      "source": [
        "## MonthlyIncome"
      ]
    },
    {
      "cell_type": "code",
      "execution_count": 23,
      "metadata": {
        "id": "Abjkb5OrH3ss"
      },
      "outputs": [
        {
          "data": {
            "text/plain": [
              "{'whiskers': [<matplotlib.lines.Line2D at 0x1e80a32a5d0>,\n",
              "  <matplotlib.lines.Line2D at 0x1e80a32b210>],\n",
              " 'caps': [<matplotlib.lines.Line2D at 0x1e80a32bf10>,\n",
              "  <matplotlib.lines.Line2D at 0x1e80a338a10>],\n",
              " 'boxes': [<matplotlib.lines.Line2D at 0x1e80a319810>],\n",
              " 'medians': [<matplotlib.lines.Line2D at 0x1e80a3394d0>],\n",
              " 'fliers': [<matplotlib.lines.Line2D at 0x1e80a339fd0>],\n",
              " 'means': []}"
            ]
          },
          "execution_count": 23,
          "metadata": {},
          "output_type": "execute_result"
        },
        {
          "data": {
            "image/png": "[encoded data removed]",
            "text/plain": [
              "<Figure size 640x480 with 1 Axes>"
            ]
          },
          "metadata": {},
          "output_type": "display_data"
        }
      ],
      "source": [
        "#loans.boxplot(column=\"MonthlyIncome\")\n",
        "non_null_monthly_income=loans[\"MonthlyIncome\"][loans[\"MonthlyIncome\"].isnull()==False]\n",
        "plt.boxplot(non_null_monthly_income)"
      ]
    },
    {
      "cell_type": "code",
      "execution_count": 24,
      "metadata": {
        "id": "86nmjMmXz5W8"
      },
      "outputs": [
        {
          "data": {
            "text/plain": [
              "(array([1.20252e+05, 7.00000e+00, 6.00000e+00, 1.00000e+00, 0.00000e+00,\n",
              "        2.00000e+00, 0.00000e+00, 0.00000e+00, 0.00000e+00, 1.00000e+00]),\n",
              " array([      0.,  300875.,  601750.,  902625., 1203500., 1504375.,\n",
              "        1805250., 2106125., 2407000., 2707875., 3008750.]),\n",
              " <BarContainer object of 10 artists>)"
            ]
          },
          "execution_count": 24,
          "metadata": {},
          "output_type": "execute_result"
        },
        {
          "data": {
            "image/png": "[encoded data removed]",
            "text/plain": [
              "<Figure size 640x480 with 1 Axes>"
            ]
          },
          "metadata": {},
          "output_type": "display_data"
        }
      ],
      "source": [
        "plt.hist(loans[\"MonthlyIncome\"])"
      ]
    },
    {
      "cell_type": "code",
      "execution_count": 31,
      "metadata": {
        "id": "0eR1mifsH7it"
      },
      "outputs": [
        {
          "name": "stdout",
          "output_type": "stream",
          "text": [
            "Count of missing values\n",
            "29731\n",
            "% of missing values\n",
            "19.82\n"
          ]
        }
      ],
      "source": [
        "#Find the percentage of missing values\n",
        "print(\"Count of missing values\")\n",
        "print(loans['MonthlyIncome'].isnull().sum())\n",
        "print(\"% of missing values\")\n",
        "print(round((loans['MonthlyIncome'].isnull().sum()/len(loans)*100),2))"
      ]
    },
    {
      "cell_type": "code",
      "execution_count": 33,
      "metadata": {},
      "outputs": [
        {
          "data": {
            "text/plain": [
              "Sr_No                                       0\n",
              "SeriousDlqin2yrs                            0\n",
              "monthly_utilization                         0\n",
              "age                                         0\n",
              "NumberOfTime30-59DaysPastDueNotWorse        0\n",
              "DebtRatio                                   0\n",
              "MonthlyIncome                           29731\n",
              "NumberOfOpenCreditLinesAndLoans             0\n",
              "NumberOfTimes90DaysLate                     0\n",
              "NumberRealEstateLoansOrLines                0\n",
              "NumberOfTime60-89DaysPastDueNotWorse        0\n",
              "NumberOfDependents                       3924\n",
              "dtype: int64"
            ]
          },
          "execution_count": 33,
          "metadata": {},
          "output_type": "execute_result"
        }
      ],
      "source": [
        "loans.isnull().sum()"
      ]
    },
    {
      "cell_type": "markdown",
      "metadata": {
        "id": "SI34aZHyIIZ2"
      },
      "source": [
        "# Data Cleaning Scenario-1"
      ]
    },
    {
      "cell_type": "code",
      "execution_count": 26,
      "metadata": {
        "id": "7Qp4yfMqIC0T"
      },
      "outputs": [
        {
          "data": {
            "text/plain": [
              "0.050        0.00\n",
              "0.100        0.00\n",
              "0.250        0.03\n",
              "0.500        0.15\n",
              "0.750        0.56\n",
              "0.800        0.70\n",
              "0.900        0.98\n",
              "0.910        1.00\n",
              "0.950        1.00\n",
              "0.960        1.00\n",
              "0.970        1.00\n",
              "0.975        1.00\n",
              "0.980        1.01\n",
              "0.990        1.09\n",
              "1.000    50708.00\n",
              "Name: monthly_utilization, dtype: float64"
            ]
          },
          "execution_count": 26,
          "metadata": {},
          "output_type": "execute_result"
        }
      ],
      "source": [
        "util_percentiles=loans['monthly_utilization'].quantile([0.05, 0.1, 0.25, 0.5, 0.75, 0.80, 0.9,0.91,0.95,0.96,0.97,0.975,0.98,0.99,1])\n",
        "round(util_percentiles,2)"
      ]
    },
    {
      "cell_type": "code",
      "execution_count": 27,
      "metadata": {
        "id": "Ho2AAs75IHQv"
      },
      "outputs": [
        {
          "data": {
            "text/plain": [
              "0.154180737"
            ]
          },
          "execution_count": 27,
          "metadata": {},
          "output_type": "execute_result"
        }
      ],
      "source": [
        "median_util=loans['monthly_utilization'].median()\n",
        "median_util"
      ]
    },
    {
      "cell_type": "code",
      "execution_count": null,
      "metadata": {},
      "outputs": [],
      "source": []
    },
    {
      "cell_type": "code",
      "execution_count": 34,
      "metadata": {
        "id": "y4brogxmIL1d"
      },
      "outputs": [
        {
          "name": "stderr",
          "output_type": "stream",
          "text": [
            "C:\\Users\\WIN-10\\AppData\\Local\\Temp\\ipykernel_6572\\953468620.py:4: FutureWarning: ChainedAssignmentError: behaviour will change in pandas 3.0!\n",
            "You are setting values through chained assignment. Currently this works in certain cases, but when using Copy-on-Write (which will become the default behaviour in pandas 3.0) this will never work to update the original DataFrame or Series, because the intermediate object on which we are setting values will behave as a copy.\n",
            "A typical example is when you are setting values in a column of a DataFrame, like:\n",
            "\n",
            "df[\"col\"][row_indexer] = value\n",
            "\n",
            "Use `df.loc[row_indexer, \"col\"] = values` instead, to perform the assignment in a single step and ensure this keeps updating the original `df`.\n",
            "\n",
            "See the caveats in the documentation: https://pandas.pydata.org/pandas-docs/stable/user_guide/indexing.html#returning-a-view-versus-a-copy\n",
            "\n",
            "  loans['util_new'][util_temp_bool_vect]=median_util\n",
            "C:\\Users\\WIN-10\\AppData\\Local\\Temp\\ipykernel_6572\\953468620.py:4: SettingWithCopyWarning: \n",
            "A value is trying to be set on a copy of a slice from a DataFrame\n",
            "\n",
            "See the caveats in the documentation: https://pandas.pydata.org/pandas-docs/stable/user_guide/indexing.html#returning-a-view-versus-a-copy\n",
            "  loans['util_new'][util_temp_bool_vect]=median_util\n"
          ]
        }
      ],
      "source": [
        "util_temp_bool_vect=loans['monthly_utilization']>1\n",
        "\n",
        "loans['util_new']=loans['monthly_utilization']\n",
        "loans['util_new'][util_temp_bool_vect]=median_util"
      ]
    },
    {
      "cell_type": "code",
      "execution_count": 37,
      "metadata": {
        "id": "ipafFm7jINkR"
      },
      "outputs": [
        {
          "data": {
            "text/plain": [
              "0.050    0.00\n",
              "0.100    0.00\n",
              "0.250    0.03\n",
              "0.500    0.15\n",
              "0.750    0.51\n",
              "0.800    0.63\n",
              "0.900    0.93\n",
              "0.910    0.95\n",
              "0.950    1.00\n",
              "0.960    1.00\n",
              "0.970    1.00\n",
              "0.975    1.00\n",
              "0.980    1.00\n",
              "0.990    1.00\n",
              "1.000    1.00\n",
              "Name: util_new, dtype: float64"
            ]
          },
          "execution_count": 37,
          "metadata": {},
          "output_type": "execute_result"
        }
      ],
      "source": [
        "# percentile distribution for new variable\n",
        "util_percentiles1=loans['util_new'].quantile([0.05, 0.1, 0.25, 0.5, 0.75, 0.80, 0.9,0.91,0.95,0.96,0.97,0.975,0.98,0.99,1])\n",
        "round(util_percentiles1,2)\n"
      ]
    },
    {
      "cell_type": "markdown",
      "metadata": {
        "id": "g85fzJKkIW4K"
      },
      "source": [
        "# Data Cleaning Scenario-2"
      ]
    },
    {
      "cell_type": "code",
      "execution_count": null,
      "metadata": {
        "id": "ZrV7vDSrITYd"
      },
      "outputs": [],
      "source": [
        "freq_table_30dpd=loans['NumberOfTime30-59DaysPastDueNotWorse'].value_counts()\n",
        "freq_table_30dpd"
      ]
    },
    {
      "cell_type": "code",
      "execution_count": null,
      "metadata": {
        "id": "LD--xgxKIaAY"
      },
      "outputs": [],
      "source": [
        "#Clean the variable- Look at the cross tab of variable vs target. Impute based on target .\n",
        "#Cross tab with target\n",
        "import pandas as pd\n",
        "cross_tab_30dpd_target=pd.crosstab(loans['NumberOfTime30-59DaysPastDueNotWorse'],loans['SeriousDlqin2yrs'])\n",
        "cross_tab_30dpd_target"
      ]
    },
    {
      "cell_type": "code",
      "execution_count": null,
      "metadata": {
        "id": "kLS2oz3EIdp2"
      },
      "outputs": [],
      "source": [
        "#Cross tab row Percentages\n",
        "cross_tab_30dpd_target_percent=cross_tab_30dpd_target.apply(lambda x: x/x.sum(), axis=1)\n",
        "round(cross_tab_30dpd_target_percent,2)"
      ]
    },
    {
      "cell_type": "code",
      "execution_count": null,
      "metadata": {
        "id": "NpkLjBo_IfOG"
      },
      "outputs": [],
      "source": [
        "\n",
        "#Percentage of 0 and 1 are of 98 is near to percentages of 6.\n",
        "#Replacing error values with 6\n",
        "\n",
        "loans['num_30_59_dpd_new']=loans['NumberOfTime30-59DaysPastDueNotWorse']\n",
        "loans['num_30_59_dpd_new'][loans['num_30_59_dpd_new']>13]=6\n",
        "loans['num_30_59_dpd_new']\n",
        "\n",
        "loans['num_30_59_dpd_new'].value_counts()"
      ]
    },
    {
      "cell_type": "markdown",
      "metadata": {
        "id": "5-XFPxbxIlBM"
      },
      "source": [
        "# Data Cleaning Scenario-3"
      ]
    },
    {
      "cell_type": "code",
      "execution_count": null,
      "metadata": {
        "id": "6ko-XzkeIjR6"
      },
      "outputs": [],
      "source": [
        "#Find the missing value percentage in monthly income\n",
        "loans['MonthlyIncome'].isnull().sum()\n",
        "loans['MonthlyIncome'].isnull().sum()/len(loans)\n",
        "#Once identified where missing values exist, the next task usually is to fill them (data imputation). Depending upon the context,\n",
        "#in this case, I am assigning median value to all those positions where missing value is present:\n"
      ]
    },
    {
      "cell_type": "code",
      "execution_count": null,
      "metadata": {
        "id": "nSA-Kb7HIojq"
      },
      "outputs": [],
      "source": [
        "#Flag variable\n",
        "loans['MonthlyIncome_ind']=1\n",
        "loans['MonthlyIncome_ind'][loans['MonthlyIncome'].isnull()]=0\n",
        "loans['MonthlyIncome_ind'].value_counts()\n"
      ]
    },
    {
      "cell_type": "code",
      "execution_count": null,
      "metadata": {
        "id": "gfwFxqDEIpoG"
      },
      "outputs": [],
      "source": [
        "#Imputation with median\n",
        "loans['MonthlyIncome_new']=loans['MonthlyIncome']\n",
        "loans['MonthlyIncome_new'][loans['MonthlyIncome'].isnull()]=loans['MonthlyIncome'].median()\n",
        "round(loans['MonthlyIncome_new'].describe())"
      ]
    }
  ],
  "metadata": {
    "colab": {
      "provenance": []
    },
    "kernelspec": {
      "display_name": "base",
      "language": "python",
      "name": "python3"
    },
    "language_info": {
      "codemirror_mode": {
        "name": "ipython",
        "version": 3
      },
      "file_extension": ".py",
      "mimetype": "text/x-python",
      "name": "python",
      "nbconvert_exporter": "python",
      "pygments_lexer": "ipython3",
      "version": "3.11.5"
    }
  },
  "nbformat": 4,
  "nbformat_minor": 0
}
